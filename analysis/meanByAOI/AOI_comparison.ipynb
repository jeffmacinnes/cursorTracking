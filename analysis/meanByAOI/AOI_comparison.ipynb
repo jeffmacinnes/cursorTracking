{
 "cells": [
  {
   "cell_type": "code",
   "execution_count": 1,
   "metadata": {
    "collapsed": true
   },
   "outputs": [],
   "source": [
    "import os\n",
    "from os.path import join\n",
    "import sys\n",
    "import numpy as np \n",
    "import pandas as pd\n",
    "import seaborn as sns"
   ]
  },
  {
   "cell_type": "code",
   "execution_count": 2,
   "metadata": {},
   "outputs": [
    {
     "name": "stdout",
     "output_type": "stream",
     "text": [
      "Populating the interactive namespace from numpy and matplotlib\n"
     ]
    }
   ],
   "source": [
    "%pylab inline"
   ]
  },
  {
   "cell_type": "code",
   "execution_count": 3,
   "metadata": {
    "collapsed": true
   },
   "outputs": [],
   "source": [
    "# load the combined cursorTracking data for all subjs\n",
    "df = pd.read_table('../../data/groupData/allSubjsRaw.tsv', sep='\\t')"
   ]
  },
  {
   "cell_type": "code",
   "execution_count": 5,
   "metadata": {
    "collapsed": true
   },
   "outputs": [],
   "source": [
    "# select the relevant rows from the full dataframe\n",
    "df2 = df.loc[(df['stim'].str.contains(\"_images707/bw_hmn/\")) | \n",
    "             (df['stim'].str.contains(\"_images707/hmn/\"))]"
   ]
  },
  {
   "cell_type": "markdown",
   "metadata": {},
   "source": [
    "## Compare all AOIs"
   ]
  },
  {
   "cell_type": "code",
   "execution_count": 6,
   "metadata": {},
   "outputs": [],
   "source": [
    "# loop over all unique subjects\n",
    "subjMeans = []\n",
    "for s in np.unique(df2.subjID):\n",
    "    # grab this subjects data\n",
    "    subj_df = df2.loc[df2.subjID == s]\n",
    "    \n",
    "    # loop through unique trials\n",
    "    trialAOImeans = []\n",
    "    for i,t in enumerate(np.unique(subj_df.trialNum)):\n",
    "        # grab this trial's data\n",
    "        trial_df = subj_df[subj_df.trialNum == t]\n",
    "        \n",
    "        # calculate mean time/frame\n",
    "        meanFrameInterval = trial_df.ts.diff().mean()\n",
    "        \n",
    "        # get number of frames for each AOI\n",
    "        AOI_counts = trial_df.AOI.value_counts()\n",
    "        \n",
    "        # multiple frame counts by mean frame interval to get time spent in the AOI\n",
    "        AOI_time = AOI_counts * meanFrameInterval\n",
    "        \n",
    "        # change the 'name' field of the AOI_time series to reflect the current trialNum\n",
    "        AOI_time.name = t\n",
    "    \n",
    "        # add to table of all trials for this subject\n",
    "        trialAOImeans.append(AOI_time)\n",
    "    \n",
    "    # put all of the trials together into one dataFrame\n",
    "    allTrials = pd.concat(trialAOImeans, axis=1).T\n",
    "    \n",
    "    # calculate the mean across trials for each AOI for this subject\n",
    "    subj_mean = allTrials.mean()\n",
    "    \n",
    "    # update the 'name' field to reflect current subject\n",
    "    subj_mean.name = s\n",
    "    \n",
    "    # add this output to a list of all subjects\n",
    "    subjMeans.append(subj_mean)\n",
    "    \n",
    "# put all subjects together into a single dataframe\n",
    "allSubjs = pd.concat(subjMeans, axis=1).T"
   ]
  },
  {
   "cell_type": "code",
   "execution_count": 7,
   "metadata": {},
   "outputs": [
    {
     "data": {
      "text/html": [
       "<div>\n",
       "<table border=\"1\" class=\"dataframe\">\n",
       "  <thead>\n",
       "    <tr style=\"text-align: right;\">\n",
       "      <th></th>\n",
       "      <th>leftEye</th>\n",
       "      <th>mouth</th>\n",
       "      <th>none</th>\n",
       "      <th>nose</th>\n",
       "      <th>rightEye</th>\n",
       "    </tr>\n",
       "  </thead>\n",
       "  <tbody>\n",
       "    <tr>\n",
       "      <th>741</th>\n",
       "      <td>538.404537</td>\n",
       "      <td>691.162707</td>\n",
       "      <td>3347.371514</td>\n",
       "      <td>390.517987</td>\n",
       "      <td>200.979809</td>\n",
       "    </tr>\n",
       "    <tr>\n",
       "      <th>1164</th>\n",
       "      <td>420.231712</td>\n",
       "      <td>632.202052</td>\n",
       "      <td>3292.316489</td>\n",
       "      <td>416.328025</td>\n",
       "      <td>222.376353</td>\n",
       "    </tr>\n",
       "    <tr>\n",
       "      <th>20649</th>\n",
       "      <td>414.957547</td>\n",
       "      <td>640.821790</td>\n",
       "      <td>2234.866997</td>\n",
       "      <td>1205.196830</td>\n",
       "      <td>485.819699</td>\n",
       "    </tr>\n",
       "    <tr>\n",
       "      <th>27235</th>\n",
       "      <td>698.093131</td>\n",
       "      <td>1027.404189</td>\n",
       "      <td>1614.358729</td>\n",
       "      <td>896.478646</td>\n",
       "      <td>1035.980601</td>\n",
       "    </tr>\n",
       "    <tr>\n",
       "      <th>27537</th>\n",
       "      <td>392.138764</td>\n",
       "      <td>408.874225</td>\n",
       "      <td>3684.264685</td>\n",
       "      <td>391.715437</td>\n",
       "      <td>113.746507</td>\n",
       "    </tr>\n",
       "  </tbody>\n",
       "</table>\n",
       "</div>"
      ],
      "text/plain": [
       "          leftEye        mouth         none         nose     rightEye\n",
       "741    538.404537   691.162707  3347.371514   390.517987   200.979809\n",
       "1164   420.231712   632.202052  3292.316489   416.328025   222.376353\n",
       "20649  414.957547   640.821790  2234.866997  1205.196830   485.819699\n",
       "27235  698.093131  1027.404189  1614.358729   896.478646  1035.980601\n",
       "27537  392.138764   408.874225  3684.264685   391.715437   113.746507"
      ]
     },
     "execution_count": 7,
     "metadata": {},
     "output_type": "execute_result"
    }
   ],
   "source": [
    "allSubjs.head()"
   ]
  },
  {
   "cell_type": "code",
   "execution_count": 8,
   "metadata": {
    "collapsed": true
   },
   "outputs": [],
   "source": [
    "sns.set(style='whitegrid')"
   ]
  },
  {
   "cell_type": "code",
   "execution_count": 9,
   "metadata": {
    "collapsed": true
   },
   "outputs": [],
   "source": [
    "# drop the 'none' column\n",
    "allSubjs = allSubjs.drop('none', 1)"
   ]
  },
  {
   "cell_type": "code",
   "execution_count": 11,
   "metadata": {},
   "outputs": [
    {
     "data": {
      "text/plain": [
       "<matplotlib.axes._subplots.AxesSubplot at 0x110a2a6a0>"
      ]
     },
     "execution_count": 11,
     "metadata": {},
     "output_type": "execute_result"
    },
    {
     "data": {
      "image/png": "[encoded data removed]",
      "text/plain": [
       "<matplotlib.figure.Figure at 0x110a20a90>"
      ]
     },
     "metadata": {},
     "output_type": "display_data"
    }
   ],
   "source": [
    "# plot distributions of each AOI\n",
    "sns.violinplot(data=allSubjs, palette='Set3')"
   ]
  }
 ],
 "metadata": {
  "kernelspec": {
   "display_name": "Python 3",
   "language": "python",
   "name": "python3"
  },
  "language_info": {
   "codemirror_mode": {
    "name": "ipython",
    "version": 3
   },
   "file_extension": ".py",
   "mimetype": "text/x-python",
   "name": "python",
   "nbconvert_exporter": "python",
   "pygments_lexer": "ipython3",
   "version": "3.6.0"
  }
 },
 "nbformat": 4,
 "nbformat_minor": 2
}
