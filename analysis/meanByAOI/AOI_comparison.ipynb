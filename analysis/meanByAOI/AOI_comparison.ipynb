{
 "cells": [
  {
   "cell_type": "code",
   "execution_count": 3,
   "metadata": {
    "collapsed": true
   },
   "outputs": [],
   "source": [
    "import os\n",
    "from os.path import join\n",
    "import sys\n",
    "import numpy as np \n",
    "import pandas as pd\n",
    "import seaborn as sns"
   ]
  },
  {
   "cell_type": "code",
   "execution_count": 4,
   "metadata": {},
   "outputs": [
    {
     "name": "stdout",
     "output_type": "stream",
     "text": [
      "Populating the interactive namespace from numpy and matplotlib\n"
     ]
    }
   ],
   "source": [
    "%pylab inline"
   ]
  },
  {
   "cell_type": "code",
   "execution_count": 5,
   "metadata": {
    "collapsed": true
   },
   "outputs": [],
   "source": [
    "# load the combined cursorTracking data for all subjs\n",
    "df = pd.read_table('../../data/groupData/allSubjsRaw.tsv', sep='\\t')"
   ]
  },
  {
   "cell_type": "code",
   "execution_count": 12,
   "metadata": {
    "collapsed": true
   },
   "outputs": [],
   "source": [
    "# select the relevant rows from the full dataframe\n",
    "# df2 = df.loc[(df['stim'].str.contains(\"_images707/bw_hmn/\")) | \n",
    "#              (df['stim'].str.contains(\"_images707/hmn/\"))]\n",
    "df2 = df.loc[df['stim'].str.contains(\"_images707/hmn/\")]"
   ]
  },
  {
   "cell_type": "markdown",
   "metadata": {},
   "source": [
    "## Compare all AOIs"
   ]
  },
  {
   "cell_type": "code",
   "execution_count": 13,
   "metadata": {
    "collapsed": true
   },
   "outputs": [],
   "source": [
    "# loop over all unique subjects\n",
    "subjMeans = []\n",
    "for s in np.unique(df2.subjID):\n",
    "    # grab this subjects data\n",
    "    subj_df = df2.loc[df2.subjID == s]\n",
    "    \n",
    "    # loop through unique trials\n",
    "    trialAOImeans = []\n",
    "    for i,t in enumerate(np.unique(subj_df.trialNum)):\n",
    "        # grab this trial's data\n",
    "        trial_df = subj_df[subj_df.trialNum == t]\n",
    "        \n",
    "        # calculate mean time/frame\n",
    "        meanFrameInterval = trial_df.ts.diff().mean()\n",
    "        \n",
    "        # get number of frames for each AOI\n",
    "        AOI_counts = trial_df.AOI.value_counts()\n",
    "        \n",
    "        # multiple frame counts by mean frame interval to get time spent in the AOI\n",
    "        AOI_time = AOI_counts * meanFrameInterval\n",
    "        \n",
    "        # change the 'name' field of the AOI_time series to reflect the current trialNum\n",
    "        AOI_time.name = t\n",
    "    \n",
    "        # add to table of all trials for this subject\n",
    "        trialAOImeans.append(AOI_time)\n",
    "    \n",
    "    # put all of the trials together into one dataFrame\n",
    "    allTrials = pd.concat(trialAOImeans, axis=1).T\n",
    "    \n",
    "    # calculate the mean across trials for each AOI for this subject\n",
    "    subj_mean = allTrials.mean()\n",
    "    \n",
    "    # update the 'name' field to reflect current subject\n",
    "    subj_mean.name = s\n",
    "    \n",
    "    # add this output to a list of all subjects\n",
    "    subjMeans.append(subj_mean)\n",
    "    \n",
    "# put all subjects together into a single dataframe\n",
    "allSubjs = pd.concat(subjMeans, axis=1).T"
   ]
  },
  {
   "cell_type": "code",
   "execution_count": 14,
   "metadata": {},
   "outputs": [
    {
     "data": {
      "text/html": [
       "<div>\n",
       "<table border=\"1\" class=\"dataframe\">\n",
       "  <thead>\n",
       "    <tr style=\"text-align: right;\">\n",
       "      <th></th>\n",
       "      <th>leftEye</th>\n",
       "      <th>mouth</th>\n",
       "      <th>none</th>\n",
       "      <th>nose</th>\n",
       "      <th>rightEye</th>\n",
       "    </tr>\n",
       "  </thead>\n",
       "  <tbody>\n",
       "    <tr>\n",
       "      <th>741</th>\n",
       "      <td>197.004944</td>\n",
       "      <td>735.228757</td>\n",
       "      <td>3539.813835</td>\n",
       "      <td>472.570550</td>\n",
       "      <td>309.585062</td>\n",
       "    </tr>\n",
       "    <tr>\n",
       "      <th>1164</th>\n",
       "      <td>409.974692</td>\n",
       "      <td>693.316771</td>\n",
       "      <td>3177.402269</td>\n",
       "      <td>522.126853</td>\n",
       "      <td>182.574427</td>\n",
       "    </tr>\n",
       "    <tr>\n",
       "      <th>20649</th>\n",
       "      <td>336.171466</td>\n",
       "      <td>706.797475</td>\n",
       "      <td>2232.980557</td>\n",
       "      <td>1224.823844</td>\n",
       "      <td>482.759599</td>\n",
       "    </tr>\n",
       "    <tr>\n",
       "      <th>27235</th>\n",
       "      <td>651.124500</td>\n",
       "      <td>930.139219</td>\n",
       "      <td>1657.710479</td>\n",
       "      <td>961.281287</td>\n",
       "      <td>937.530206</td>\n",
       "    </tr>\n",
       "    <tr>\n",
       "      <th>27537</th>\n",
       "      <td>389.545153</td>\n",
       "      <td>478.512368</td>\n",
       "      <td>3579.287587</td>\n",
       "      <td>397.312375</td>\n",
       "      <td>143.330350</td>\n",
       "    </tr>\n",
       "  </tbody>\n",
       "</table>\n",
       "</div>"
      ],
      "text/plain": [
       "          leftEye       mouth         none         nose    rightEye\n",
       "741    197.004944  735.228757  3539.813835   472.570550  309.585062\n",
       "1164   409.974692  693.316771  3177.402269   522.126853  182.574427\n",
       "20649  336.171466  706.797475  2232.980557  1224.823844  482.759599\n",
       "27235  651.124500  930.139219  1657.710479   961.281287  937.530206\n",
       "27537  389.545153  478.512368  3579.287587   397.312375  143.330350"
      ]
     },
     "execution_count": 14,
     "metadata": {},
     "output_type": "execute_result"
    }
   ],
   "source": [
    "allSubjs.head()"
   ]
  },
  {
   "cell_type": "code",
   "execution_count": 15,
   "metadata": {
    "collapsed": true
   },
   "outputs": [],
   "source": [
    "sns.set(style='whitegrid')"
   ]
  },
  {
   "cell_type": "code",
   "execution_count": 16,
   "metadata": {
    "collapsed": true
   },
   "outputs": [],
   "source": [
    "# drop the 'none' column\n",
    "allSubjs = allSubjs.drop('none', 1)"
   ]
  },
  {
   "cell_type": "code",
   "execution_count": 17,
   "metadata": {},
   "outputs": [
    {
     "data": {
      "text/plain": [
       "<matplotlib.axes._subplots.AxesSubplot at 0x10a6f4908>"
      ]
     },
     "execution_count": 17,
     "metadata": {},
     "output_type": "execute_result"
    },
    {
     "data": {
      "image/png": "[encoded data removed]",
      "text/plain": [
       "<matplotlib.figure.Figure at 0x10a6c2438>"
      ]
     },
     "metadata": {},
     "output_type": "display_data"
    }
   ],
   "source": [
    "# plot distributions of each AOI\n",
    "sns.violinplot(data=allSubjs, palette='Set3')"
   ]
  }
 ],
 "metadata": {
  "kernelspec": {
   "display_name": "Python 3",
   "language": "python",
   "name": "python3"
  },
  "language_info": {
   "codemirror_mode": {
    "name": "ipython",
    "version": 3
   },
   "file_extension": ".py",
   "mimetype": "text/x-python",
   "name": "python",
   "nbconvert_exporter": "python",
   "pygments_lexer": "ipython3",
   "version": "3.6.0"
  }
 },
 "nbformat": 4,
 "nbformat_minor": 2
}
