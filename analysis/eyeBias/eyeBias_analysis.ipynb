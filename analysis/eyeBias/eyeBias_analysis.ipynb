{
 "cells": [
  {
   "cell_type": "code",
   "execution_count": 1,
   "metadata": {
    "collapsed": true
   },
   "outputs": [],
   "source": [
    "import os\n",
    "from os.path import join\n",
    "import sys\n",
    "import numpy as np \n",
    "import pandas as pd\n",
    "import seaborn as sns"
   ]
  },
  {
   "cell_type": "code",
   "execution_count": 2,
   "metadata": {},
   "outputs": [
    {
     "name": "stdout",
     "output_type": "stream",
     "text": [
      "Populating the interactive namespace from numpy and matplotlib\n"
     ]
    }
   ],
   "source": [
    "%pylab inline"
   ]
  },
  {
   "cell_type": "markdown",
   "metadata": {},
   "source": [
    "# Eye Bias Analysis\n",
    "Test whether there is a bias toward either the left or right eye, and whether\n",
    "that bias changes by gender\n",
    "\n",
    "\"left\" is relative to the viewer (i.e. the 'right' anatomically)"
   ]
  },
  {
   "cell_type": "code",
   "execution_count": 3,
   "metadata": {},
   "outputs": [],
   "source": [
    "# load the combined cursorTracking data for all subjs\n",
    "df = pd.read_table('../../data/groupData/allSubjsRaw.tsv', sep='\\t')"
   ]
  },
  {
   "cell_type": "code",
   "execution_count": 4,
   "metadata": {},
   "outputs": [
    {
     "data": {
      "text/plain": [
       "(608261, 7)"
      ]
     },
     "execution_count": 4,
     "metadata": {},
     "output_type": "execute_result"
    }
   ],
   "source": [
    "df.shape"
   ]
  },
  {
   "cell_type": "code",
   "execution_count": 5,
   "metadata": {},
   "outputs": [
    {
     "data": {
      "text/html": [
       "<div>\n",
       "<table border=\"1\" class=\"dataframe\">\n",
       "  <thead>\n",
       "    <tr style=\"text-align: right;\">\n",
       "      <th></th>\n",
       "      <th>ts</th>\n",
       "      <th>x</th>\n",
       "      <th>y</th>\n",
       "      <th>subjID</th>\n",
       "      <th>stim</th>\n",
       "      <th>trialNum</th>\n",
       "      <th>AOI</th>\n",
       "    </tr>\n",
       "  </thead>\n",
       "  <tbody>\n",
       "    <tr>\n",
       "      <th>0</th>\n",
       "      <td>98</td>\n",
       "      <td>461.5</td>\n",
       "      <td>131.0</td>\n",
       "      <td>27235</td>\n",
       "      <td>_images707/bw_hmn/bw_hmn_wm02.jpg</td>\n",
       "      <td>1</td>\n",
       "      <td>none</td>\n",
       "    </tr>\n",
       "    <tr>\n",
       "      <th>1</th>\n",
       "      <td>123</td>\n",
       "      <td>461.5</td>\n",
       "      <td>131.0</td>\n",
       "      <td>27235</td>\n",
       "      <td>_images707/bw_hmn/bw_hmn_wm02.jpg</td>\n",
       "      <td>1</td>\n",
       "      <td>none</td>\n",
       "    </tr>\n",
       "    <tr>\n",
       "      <th>2</th>\n",
       "      <td>154</td>\n",
       "      <td>461.5</td>\n",
       "      <td>131.0</td>\n",
       "      <td>27235</td>\n",
       "      <td>_images707/bw_hmn/bw_hmn_wm02.jpg</td>\n",
       "      <td>1</td>\n",
       "      <td>none</td>\n",
       "    </tr>\n",
       "    <tr>\n",
       "      <th>3</th>\n",
       "      <td>172</td>\n",
       "      <td>461.5</td>\n",
       "      <td>131.0</td>\n",
       "      <td>27235</td>\n",
       "      <td>_images707/bw_hmn/bw_hmn_wm02.jpg</td>\n",
       "      <td>1</td>\n",
       "      <td>none</td>\n",
       "    </tr>\n",
       "    <tr>\n",
       "      <th>4</th>\n",
       "      <td>188</td>\n",
       "      <td>461.5</td>\n",
       "      <td>131.0</td>\n",
       "      <td>27235</td>\n",
       "      <td>_images707/bw_hmn/bw_hmn_wm02.jpg</td>\n",
       "      <td>1</td>\n",
       "      <td>none</td>\n",
       "    </tr>\n",
       "  </tbody>\n",
       "</table>\n",
       "</div>"
      ],
      "text/plain": [
       "    ts      x      y  subjID                               stim  trialNum  \\\n",
       "0   98  461.5  131.0   27235  _images707/bw_hmn/bw_hmn_wm02.jpg         1   \n",
       "1  123  461.5  131.0   27235  _images707/bw_hmn/bw_hmn_wm02.jpg         1   \n",
       "2  154  461.5  131.0   27235  _images707/bw_hmn/bw_hmn_wm02.jpg         1   \n",
       "3  172  461.5  131.0   27235  _images707/bw_hmn/bw_hmn_wm02.jpg         1   \n",
       "4  188  461.5  131.0   27235  _images707/bw_hmn/bw_hmn_wm02.jpg         1   \n",
       "\n",
       "    AOI  \n",
       "0  none  \n",
       "1  none  \n",
       "2  none  \n",
       "3  none  \n",
       "4  none  "
      ]
     },
     "execution_count": 5,
     "metadata": {},
     "output_type": "execute_result"
    }
   ],
   "source": [
    "df.head()"
   ]
  },
  {
   "cell_type": "markdown",
   "metadata": {},
   "source": [
    "### Select the stimuli to include in analysis\n",
    "For the eye-bias analysis, use the bw_hmn and hmn stimuli only"
   ]
  },
  {
   "cell_type": "code",
   "execution_count": 6,
   "metadata": {},
   "outputs": [],
   "source": [
    "# select the relevant rows from the full dataframe\n",
    "df2 = df.loc[(df['stim'].str.contains(\"_images707/bw_hmn/\")) | \n",
    "             (df['stim'].str.contains(\"_images707/hmn/\"))]\n"
   ]
  },
  {
   "cell_type": "code",
   "execution_count": 7,
   "metadata": {
    "scrolled": true
   },
   "outputs": [
    {
     "data": {
      "text/plain": [
       "(105400, 7)"
      ]
     },
     "execution_count": 7,
     "metadata": {},
     "output_type": "execute_result"
    }
   ],
   "source": [
    "df2.shape"
   ]
  },
  {
   "cell_type": "code",
   "execution_count": 8,
   "metadata": {},
   "outputs": [
    {
     "data": {
      "text/html": [
       "<div>\n",
       "<table border=\"1\" class=\"dataframe\">\n",
       "  <thead>\n",
       "    <tr style=\"text-align: right;\">\n",
       "      <th></th>\n",
       "      <th>ts</th>\n",
       "      <th>x</th>\n",
       "      <th>y</th>\n",
       "      <th>subjID</th>\n",
       "      <th>stim</th>\n",
       "      <th>trialNum</th>\n",
       "      <th>AOI</th>\n",
       "    </tr>\n",
       "  </thead>\n",
       "  <tbody>\n",
       "    <tr>\n",
       "      <th>0</th>\n",
       "      <td>98</td>\n",
       "      <td>461.5</td>\n",
       "      <td>131.0</td>\n",
       "      <td>27235</td>\n",
       "      <td>_images707/bw_hmn/bw_hmn_wm02.jpg</td>\n",
       "      <td>1</td>\n",
       "      <td>none</td>\n",
       "    </tr>\n",
       "    <tr>\n",
       "      <th>1</th>\n",
       "      <td>123</td>\n",
       "      <td>461.5</td>\n",
       "      <td>131.0</td>\n",
       "      <td>27235</td>\n",
       "      <td>_images707/bw_hmn/bw_hmn_wm02.jpg</td>\n",
       "      <td>1</td>\n",
       "      <td>none</td>\n",
       "    </tr>\n",
       "    <tr>\n",
       "      <th>2</th>\n",
       "      <td>154</td>\n",
       "      <td>461.5</td>\n",
       "      <td>131.0</td>\n",
       "      <td>27235</td>\n",
       "      <td>_images707/bw_hmn/bw_hmn_wm02.jpg</td>\n",
       "      <td>1</td>\n",
       "      <td>none</td>\n",
       "    </tr>\n",
       "    <tr>\n",
       "      <th>3</th>\n",
       "      <td>172</td>\n",
       "      <td>461.5</td>\n",
       "      <td>131.0</td>\n",
       "      <td>27235</td>\n",
       "      <td>_images707/bw_hmn/bw_hmn_wm02.jpg</td>\n",
       "      <td>1</td>\n",
       "      <td>none</td>\n",
       "    </tr>\n",
       "    <tr>\n",
       "      <th>4</th>\n",
       "      <td>188</td>\n",
       "      <td>461.5</td>\n",
       "      <td>131.0</td>\n",
       "      <td>27235</td>\n",
       "      <td>_images707/bw_hmn/bw_hmn_wm02.jpg</td>\n",
       "      <td>1</td>\n",
       "      <td>none</td>\n",
       "    </tr>\n",
       "  </tbody>\n",
       "</table>\n",
       "</div>"
      ],
      "text/plain": [
       "    ts      x      y  subjID                               stim  trialNum  \\\n",
       "0   98  461.5  131.0   27235  _images707/bw_hmn/bw_hmn_wm02.jpg         1   \n",
       "1  123  461.5  131.0   27235  _images707/bw_hmn/bw_hmn_wm02.jpg         1   \n",
       "2  154  461.5  131.0   27235  _images707/bw_hmn/bw_hmn_wm02.jpg         1   \n",
       "3  172  461.5  131.0   27235  _images707/bw_hmn/bw_hmn_wm02.jpg         1   \n",
       "4  188  461.5  131.0   27235  _images707/bw_hmn/bw_hmn_wm02.jpg         1   \n",
       "\n",
       "    AOI  \n",
       "0  none  \n",
       "1  none  \n",
       "2  none  \n",
       "3  none  \n",
       "4  none  "
      ]
     },
     "execution_count": 8,
     "metadata": {},
     "output_type": "execute_result"
    }
   ],
   "source": [
    "df2.head()"
   ]
  },
  {
   "cell_type": "markdown",
   "metadata": {},
   "source": [
    "### Create within-subject averages for the within-trial eye bias score\n",
    "For each trial for each subject, calculate the mean time per AOI. The mean time for each AOI is calculated by taking the mean frame interval across that trial (i.e. the mean interval between successive timestamps) and multiplying it by the number of frames labeled for each AOI.\n",
    "\n",
    "e.g. On a given trial:\n",
    "\n",
    " * 298 frames\n",
    " * 16.8 mean frame interval\n",
    " * 67 frames labeled 'leftEye'\n",
    "\n",
    "would return 1125ms spent on 'leftEye' for that trial. For every trial, the eye-bias score is calculated as the leftEye - rightEye time. For each subject, the eye bias scores are averaged across all trials"
   ]
  },
  {
   "cell_type": "code",
   "execution_count": 9,
   "metadata": {},
   "outputs": [],
   "source": [
    "# loop over all unique subjects\n",
    "subjMeans = []\n",
    "for s in np.unique(df2.subjID):\n",
    "    # grab this subjects data\n",
    "    subj_df = df2.loc[df2.subjID == s]\n",
    "    \n",
    "    # loop through unique trials\n",
    "    trial_eyeBias = []\n",
    "    for i,t in enumerate(np.unique(subj_df.trialNum)):\n",
    "        # grab this trial's data\n",
    "        trial_df = subj_df[subj_df.trialNum == t]\n",
    "        \n",
    "        # calculate mean time/frame\n",
    "        meanFrameInterval = trial_df.ts.diff().mean()\n",
    "        \n",
    "        # get number of frames for each AOI\n",
    "        AOI_counts = trial_df.AOI.value_counts()\n",
    "        \n",
    "        # multiple frame counts by mean frame interval to get time spent in the AOI\n",
    "        AOI_time = AOI_counts * meanFrameInterval\n",
    "        \n",
    "        # make sure left and right eye are represented\n",
    "        if 'leftEye' not in AOI_time:\n",
    "            AOI_time.leftEye = 0\n",
    "        if 'rightEye' not in AOI_time:\n",
    "            AOI_time.rightEye = 0\n",
    "        \n",
    "        # calculate bias score\n",
    "        eyeBias = AOI_time.leftEye - AOI_time.rightEye\n",
    "        \n",
    "        # append to the list of bias for all trials\n",
    "        trial_eyeBias.append(eyeBias)\n",
    "\n",
    "    # calculate the mean across trials\n",
    "    subj_eyeBias = np.mean(trial_eyeBias)\n",
    "    \n",
    "    # create a series out of it\n",
    "    thisSubj = pd.Series({'eyeBias': subj_eyeBias}, name=s)\n",
    "    subjMeans.append(thisSubj)\n",
    "    \n",
    "allSubjs = pd.concat(subjMeans, axis=1).T\n",
    "    "
   ]
  },
  {
   "cell_type": "code",
   "execution_count": 10,
   "metadata": {},
   "outputs": [
    {
     "data": {
      "text/html": [
       "<div>\n",
       "<table border=\"1\" class=\"dataframe\">\n",
       "  <thead>\n",
       "    <tr style=\"text-align: right;\">\n",
       "      <th></th>\n",
       "      <th>eyeBias</th>\n",
       "    </tr>\n",
       "  </thead>\n",
       "  <tbody>\n",
       "    <tr>\n",
       "      <th>741</th>\n",
       "      <td>310.135744</td>\n",
       "    </tr>\n",
       "    <tr>\n",
       "      <th>1164</th>\n",
       "      <td>197.855359</td>\n",
       "    </tr>\n",
       "    <tr>\n",
       "      <th>20649</th>\n",
       "      <td>-70.862152</td>\n",
       "    </tr>\n",
       "    <tr>\n",
       "      <th>27235</th>\n",
       "      <td>-391.586942</td>\n",
       "    </tr>\n",
       "    <tr>\n",
       "      <th>27537</th>\n",
       "      <td>278.392258</td>\n",
       "    </tr>\n",
       "  </tbody>\n",
       "</table>\n",
       "</div>"
      ],
      "text/plain": [
       "          eyeBias\n",
       "741    310.135744\n",
       "1164   197.855359\n",
       "20649  -70.862152\n",
       "27235 -391.586942\n",
       "27537  278.392258"
      ]
     },
     "execution_count": 10,
     "metadata": {},
     "output_type": "execute_result"
    }
   ],
   "source": [
    "allSubjs.head()"
   ]
  },
  {
   "cell_type": "code",
   "execution_count": 11,
   "metadata": {},
   "outputs": [
    {
     "data": {
      "text/plain": [
       "eyeBias    68.292473\n",
       "dtype: float64"
      ]
     },
     "execution_count": 11,
     "metadata": {},
     "output_type": "execute_result"
    }
   ],
   "source": [
    "np.mean(allSubjs)"
   ]
  },
  {
   "cell_type": "markdown",
   "metadata": {},
   "source": [
    "#### is there an overall bias toward the left eye in this dataset?"
   ]
  },
  {
   "cell_type": "code",
   "execution_count": 12,
   "metadata": {},
   "outputs": [
    {
     "data": {
      "text/plain": [
       "<matplotlib.lines.Line2D at 0x103370b00>"
      ]
     },
     "execution_count": 12,
     "metadata": {},
     "output_type": "execute_result"
    },
    {
     "data": {
      "image/png": "[encoded data removed]",
      "text/plain": [
       "<matplotlib.figure.Figure at 0x103d71fd0>"
      ]
     },
     "metadata": {},
     "output_type": "display_data"
    }
   ],
   "source": [
    "# plot\n",
    "sns.violinplot(data=allSubjs, palette='Blues_d')\n",
    "sns.plt.title('Left > Right Eye Bias')\n",
    "plt.axhline(y=0, color='k')\n"
   ]
  },
  {
   "cell_type": "code",
   "execution_count": 13,
   "metadata": {
    "collapsed": true
   },
   "outputs": [],
   "source": [
    "import scipy.stats as stats"
   ]
  },
  {
   "cell_type": "code",
   "execution_count": 14,
   "metadata": {},
   "outputs": [
    {
     "data": {
      "text/plain": [
       "Ttest_1sampResult(statistic=3.5007809337445597, pvalue=0.00080044588565999152)"
      ]
     },
     "execution_count": 14,
     "metadata": {},
     "output_type": "execute_result"
    }
   ],
   "source": [
    "# run the t-test\n",
    "\n",
    "stats.ttest_1samp(allSubjs.eyeBias, 0)"
   ]
  },
  {
   "cell_type": "markdown",
   "metadata": {},
   "source": [
    "### Does this bias vary as a function of subject gender?\n",
    "Load in the demographic data on the subjects, pull out gender, link to every subject in the allSubjs dataframe"
   ]
  },
  {
   "cell_type": "code",
   "execution_count": 15,
   "metadata": {
    "collapsed": true
   },
   "outputs": [],
   "source": [
    "dem_data = pd.read_table('../../data/groupData/AbsFace Demographics_May 11, 2017_19.30.csv', sep=',')"
   ]
  },
  {
   "cell_type": "markdown",
   "metadata": {},
   "source": [
    "Q1 - WBL ID;\n",
    "Q2 - Age;\n",
    "Q3 - Gender;\n",
    "Q15 - Handedness"
   ]
  },
  {
   "cell_type": "code",
   "execution_count": 16,
   "metadata": {},
   "outputs": [],
   "source": [
    "dem_data = dem_data[['Q1', 'Q2', 'Q3', 'Q15']]"
   ]
  },
  {
   "cell_type": "code",
   "execution_count": 17,
   "metadata": {},
   "outputs": [],
   "source": [
    "a = dem_data[dem_data.Q1.str.find('31758') == 0]"
   ]
  },
  {
   "cell_type": "code",
   "execution_count": 18,
   "metadata": {},
   "outputs": [
    {
     "data": {
      "text/plain": [
       "'Male'"
      ]
     },
     "execution_count": 18,
     "metadata": {},
     "output_type": "execute_result"
    }
   ],
   "source": [
    "a.Q3.values[0]"
   ]
  },
  {
   "cell_type": "code",
   "execution_count": 19,
   "metadata": {},
   "outputs": [],
   "source": [
    "def labelGender(row):\n",
    "    \"find the gender based on subjID\"\n",
    "    subjID = str(row.name) # get the subjID\n",
    "    \n",
    "    # grab the row with the subject's demographic data\n",
    "    subj_dem = dem_data[dem_data.Q1.str.find(subjID) == 0]\n",
    "    \n",
    "    return subj_dem.Q3.values[0]\n",
    "    "
   ]
  },
  {
   "cell_type": "code",
   "execution_count": 20,
   "metadata": {},
   "outputs": [],
   "source": [
    "allSubjs['gender'] = allSubjs.apply(labelGender, axis=1)"
   ]
  },
  {
   "cell_type": "code",
   "execution_count": 21,
   "metadata": {},
   "outputs": [],
   "source": [
    "# remove rows not labeled as 'Male' or 'Female'\n",
    "allSubjs = allSubjs[(allSubjs.gender == 'Male') | (allSubjs.gender == 'Female')]"
   ]
  },
  {
   "cell_type": "code",
   "execution_count": 22,
   "metadata": {},
   "outputs": [
    {
     "data": {
      "text/html": [
       "<div>\n",
       "<table border=\"1\" class=\"dataframe\">\n",
       "  <thead>\n",
       "    <tr style=\"text-align: right;\">\n",
       "      <th></th>\n",
       "      <th>eyeBias</th>\n",
       "    </tr>\n",
       "    <tr>\n",
       "      <th>gender</th>\n",
       "      <th></th>\n",
       "    </tr>\n",
       "  </thead>\n",
       "  <tbody>\n",
       "    <tr>\n",
       "      <th>Female</th>\n",
       "      <td>92.328649</td>\n",
       "    </tr>\n",
       "    <tr>\n",
       "      <th>Male</th>\n",
       "      <td>20.741567</td>\n",
       "    </tr>\n",
       "  </tbody>\n",
       "</table>\n",
       "</div>"
      ],
      "text/plain": [
       "          eyeBias\n",
       "gender           \n",
       "Female  92.328649\n",
       "Male    20.741567"
      ]
     },
     "execution_count": 22,
     "metadata": {},
     "output_type": "execute_result"
    }
   ],
   "source": [
    "allSubjs.groupby('gender').mean()"
   ]
  },
  {
   "cell_type": "code",
   "execution_count": 23,
   "metadata": {},
   "outputs": [
    {
     "data": {
      "text/plain": [
       "<matplotlib.lines.Line2D at 0x1037c7d68>"
      ]
     },
     "execution_count": 23,
     "metadata": {},
     "output_type": "execute_result"
    },
    {
     "data": {
      "image/png": "[encoded data removed]",
      "text/plain": [
       "<matplotlib.figure.Figure at 0x1037c1e10>"
      ]
     },
     "metadata": {},
     "output_type": "display_data"
    }
   ],
   "source": [
    "# plot distribution of results\n",
    "sns.violinplot(x=allSubjs.gender, y=allSubjs.eyeBias, inner=None, palette='Set2')\n",
    "sns.swarmplot(x=allSubjs.gender, y=allSubjs.eyeBias, color=\"w\", size=8, alpha=.7)\n",
    "plt.axhline(y=0, color='black')"
   ]
  },
  {
   "cell_type": "code",
   "execution_count": 24,
   "metadata": {},
   "outputs": [
    {
     "data": {
      "text/plain": [
       "Ttest_indResult(statistic=-1.7493499840780939, pvalue=0.08461348643253451)"
      ]
     },
     "execution_count": 24,
     "metadata": {},
     "output_type": "execute_result"
    }
   ],
   "source": [
    "# stats\n",
    "M = allSubjs.eyeBias[allSubjs.gender=='Male']\n",
    "F = allSubjs.eyeBias[allSubjs.gender=='Female']\n",
    "\n",
    "stats.ttest_ind(M, F, equal_var=True)"
   ]
  },
  {
   "cell_type": "markdown",
   "metadata": {},
   "source": [
    "### Does the bias vary as a function of handedness?"
   ]
  },
  {
   "cell_type": "code",
   "execution_count": 33,
   "metadata": {
    "collapsed": true
   },
   "outputs": [],
   "source": [
    "def labelHandedness(row):\n",
    "    \"find the handedness based on subjID\"\n",
    "    subjID = str(row.name) # get the subjID\n",
    "    \n",
    "    # grab the row with the subject's demographic data\n",
    "    subj_dem = dem_data[dem_data.Q1.str.find(subjID) == 0]\n",
    "    \n",
    "    return subj_dem.Q15.values[0]"
   ]
  },
  {
   "cell_type": "code",
   "execution_count": 26,
   "metadata": {
    "collapsed": true
   },
   "outputs": [],
   "source": [
    "allSubjs['handedness'] = allSubjs.apply(labelHandedness, axis=1)"
   ]
  },
  {
   "cell_type": "code",
   "execution_count": 27,
   "metadata": {
    "collapsed": true
   },
   "outputs": [],
   "source": [
    "# remove rows not labeled as 'Right-handed' or 'Left-handed'\n",
    "allSubjs = allSubjs[(allSubjs.handedness == 'Right-handed') | (allSubjs.handedness == 'Left-handed')]"
   ]
  },
  {
   "cell_type": "code",
   "execution_count": 28,
   "metadata": {},
   "outputs": [
    {
     "data": {
      "text/html": [
       "<div>\n",
       "<table border=\"1\" class=\"dataframe\">\n",
       "  <thead>\n",
       "    <tr style=\"text-align: right;\">\n",
       "      <th></th>\n",
       "      <th>eyeBias</th>\n",
       "      <th>gender</th>\n",
       "      <th>handedness</th>\n",
       "    </tr>\n",
       "  </thead>\n",
       "  <tbody>\n",
       "    <tr>\n",
       "      <th>741</th>\n",
       "      <td>310.135744</td>\n",
       "      <td>Male</td>\n",
       "      <td>Right-handed</td>\n",
       "    </tr>\n",
       "    <tr>\n",
       "      <th>1164</th>\n",
       "      <td>197.855359</td>\n",
       "      <td>Male</td>\n",
       "      <td>Right-handed</td>\n",
       "    </tr>\n",
       "    <tr>\n",
       "      <th>20649</th>\n",
       "      <td>-70.862152</td>\n",
       "      <td>Female</td>\n",
       "      <td>Left-handed</td>\n",
       "    </tr>\n",
       "    <tr>\n",
       "      <th>27235</th>\n",
       "      <td>-391.586942</td>\n",
       "      <td>Female</td>\n",
       "      <td>Right-handed</td>\n",
       "    </tr>\n",
       "    <tr>\n",
       "      <th>27537</th>\n",
       "      <td>278.392258</td>\n",
       "      <td>Female</td>\n",
       "      <td>Right-handed</td>\n",
       "    </tr>\n",
       "  </tbody>\n",
       "</table>\n",
       "</div>"
      ],
      "text/plain": [
       "          eyeBias  gender    handedness\n",
       "741    310.135744    Male  Right-handed\n",
       "1164   197.855359    Male  Right-handed\n",
       "20649  -70.862152  Female   Left-handed\n",
       "27235 -391.586942  Female  Right-handed\n",
       "27537  278.392258  Female  Right-handed"
      ]
     },
     "execution_count": 28,
     "metadata": {},
     "output_type": "execute_result"
    }
   ],
   "source": [
    "allSubjs.head()"
   ]
  },
  {
   "cell_type": "code",
   "execution_count": 29,
   "metadata": {},
   "outputs": [
    {
     "data": {
      "text/html": [
       "<div>\n",
       "<table border=\"1\" class=\"dataframe\">\n",
       "  <thead>\n",
       "    <tr style=\"text-align: right;\">\n",
       "      <th></th>\n",
       "      <th>eyeBias</th>\n",
       "    </tr>\n",
       "    <tr>\n",
       "      <th>handedness</th>\n",
       "      <th></th>\n",
       "    </tr>\n",
       "  </thead>\n",
       "  <tbody>\n",
       "    <tr>\n",
       "      <th>Left-handed</th>\n",
       "      <td>6.676516</td>\n",
       "    </tr>\n",
       "    <tr>\n",
       "      <th>Right-handed</th>\n",
       "      <td>78.435148</td>\n",
       "    </tr>\n",
       "  </tbody>\n",
       "</table>\n",
       "</div>"
      ],
      "text/plain": [
       "                eyeBias\n",
       "handedness             \n",
       "Left-handed    6.676516\n",
       "Right-handed  78.435148"
      ]
     },
     "execution_count": 29,
     "metadata": {},
     "output_type": "execute_result"
    }
   ],
   "source": [
    "# calculate mean\n",
    "allSubjs.groupby('handedness').mean()"
   ]
  },
  {
   "cell_type": "code",
   "execution_count": 30,
   "metadata": {},
   "outputs": [
    {
     "data": {
      "text/plain": [
       "<matplotlib.lines.Line2D at 0x1037dcac8>"
      ]
     },
     "execution_count": 30,
     "metadata": {},
     "output_type": "execute_result"
    },
    {
     "data": {
      "image/png": "[encoded data removed]",
      "text/plain": [
       "<matplotlib.figure.Figure at 0x102ac58d0>"
      ]
     },
     "metadata": {},
     "output_type": "display_data"
    }
   ],
   "source": [
    "# plot\n",
    "sns.violinplot(x=allSubjs.handedness, y=allSubjs.eyeBias, inner=None, palette='Set1')\n",
    "sns.swarmplot(x=allSubjs.handedness, y=allSubjs.eyeBias, color='w', size=8, alpha=.7)\n",
    "plt.axhline(y=0, color='black')"
   ]
  },
  {
   "cell_type": "code",
   "execution_count": 31,
   "metadata": {},
   "outputs": [
    {
     "data": {
      "text/plain": [
       "Ttest_indResult(statistic=1.3129549201948119, pvalue=0.19348619142777496)"
      ]
     },
     "execution_count": 31,
     "metadata": {},
     "output_type": "execute_result"
    }
   ],
   "source": [
    "# stats\n",
    "R = allSubjs.eyeBias[allSubjs.handedness=='Right-handed']\n",
    "L = allSubjs.eyeBias[allSubjs.handedness=='Left-handed']\n",
    "\n",
    "stats.ttest_ind(R, L, equal_var=True)"
   ]
  },
  {
   "cell_type": "code",
   "execution_count": 32,
   "metadata": {},
   "outputs": [
    {
     "data": {
      "text/html": [
       "<div>\n",
       "<table border=\"1\" class=\"dataframe\">\n",
       "  <thead>\n",
       "    <tr style=\"text-align: right;\">\n",
       "      <th></th>\n",
       "      <th>eyeBias</th>\n",
       "      <th>gender</th>\n",
       "    </tr>\n",
       "    <tr>\n",
       "      <th>handedness</th>\n",
       "      <th></th>\n",
       "      <th></th>\n",
       "    </tr>\n",
       "  </thead>\n",
       "  <tbody>\n",
       "    <tr>\n",
       "      <th>Left-handed</th>\n",
       "      <td>11</td>\n",
       "      <td>11</td>\n",
       "    </tr>\n",
       "    <tr>\n",
       "      <th>Right-handed</th>\n",
       "      <td>61</td>\n",
       "      <td>61</td>\n",
       "    </tr>\n",
       "  </tbody>\n",
       "</table>\n",
       "</div>"
      ],
      "text/plain": [
       "              eyeBias  gender\n",
       "handedness                   \n",
       "Left-handed        11      11\n",
       "Right-handed       61      61"
      ]
     },
     "execution_count": 32,
     "metadata": {},
     "output_type": "execute_result"
    }
   ],
   "source": [
    "# count by condition\n",
    "allSubjs.groupby('handedness').count()"
   ]
  }
 ],
 "metadata": {
  "kernelspec": {
   "display_name": "Python 3",
   "language": "python",
   "name": "python3"
  },
  "language_info": {
   "codemirror_mode": {
    "name": "ipython",
    "version": 3
   },
   "file_extension": ".py",
   "mimetype": "text/x-python",
   "name": "python",
   "nbconvert_exporter": "python",
   "pygments_lexer": "ipython3",
   "version": "3.6.0"
  }
 },
 "nbformat": 4,
 "nbformat_minor": 2
}
