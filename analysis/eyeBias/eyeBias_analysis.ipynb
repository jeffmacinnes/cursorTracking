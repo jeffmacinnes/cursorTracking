{
 "cells": [
  {
   "cell_type": "code",
   "execution_count": 1,
   "metadata": {
    "collapsed": true
   },
   "outputs": [],
   "source": [
    "import os\n",
    "from os.path import join\n",
    "import sys\n",
    "import numpy as np \n",
    "import pandas as pd\n",
    "import seaborn as sns"
   ]
  },
  {
   "cell_type": "code",
   "execution_count": 2,
   "metadata": {},
   "outputs": [
    {
     "name": "stdout",
     "output_type": "stream",
     "text": [
      "Populating the interactive namespace from numpy and matplotlib\n"
     ]
    }
   ],
   "source": [
    "%pylab inline"
   ]
  },
  {
   "cell_type": "markdown",
   "metadata": {},
   "source": [
    "# Eye Bias Analysis\n",
    "Test whether there is a bias toward either the left or right eye. Test whether eye bias can be predicted by gender, handedness, or image category\n",
    "\n",
    "#### **Note:** \"left\" is relative to the viewer (i.e. the 'right' anatomically)"
   ]
  },
  {
   "cell_type": "code",
   "execution_count": 3,
   "metadata": {
    "collapsed": true
   },
   "outputs": [],
   "source": [
    "# load the combined cursorTracking data for all subjs\n",
    "df = pd.read_table('../../data/groupData/allSubjsRaw.tsv', sep='\\t')"
   ]
  },
  {
   "cell_type": "code",
   "execution_count": 4,
   "metadata": {},
   "outputs": [
    {
     "data": {
      "text/plain": [
       "(608261, 7)"
      ]
     },
     "execution_count": 4,
     "metadata": {},
     "output_type": "execute_result"
    }
   ],
   "source": [
    "df.shape"
   ]
  },
  {
   "cell_type": "code",
   "execution_count": 5,
   "metadata": {},
   "outputs": [
    {
     "data": {
      "text/html": [
       "<div>\n",
       "<table border=\"1\" class=\"dataframe\">\n",
       "  <thead>\n",
       "    <tr style=\"text-align: right;\">\n",
       "      <th></th>\n",
       "      <th>ts</th>\n",
       "      <th>x</th>\n",
       "      <th>y</th>\n",
       "      <th>subjID</th>\n",
       "      <th>stim</th>\n",
       "      <th>trialNum</th>\n",
       "      <th>AOI</th>\n",
       "    </tr>\n",
       "  </thead>\n",
       "  <tbody>\n",
       "    <tr>\n",
       "      <th>0</th>\n",
       "      <td>98</td>\n",
       "      <td>461.5</td>\n",
       "      <td>131.0</td>\n",
       "      <td>27235</td>\n",
       "      <td>_images707/bw_hmn/bw_hmn_wm02.jpg</td>\n",
       "      <td>1</td>\n",
       "      <td>none</td>\n",
       "    </tr>\n",
       "    <tr>\n",
       "      <th>1</th>\n",
       "      <td>123</td>\n",
       "      <td>461.5</td>\n",
       "      <td>131.0</td>\n",
       "      <td>27235</td>\n",
       "      <td>_images707/bw_hmn/bw_hmn_wm02.jpg</td>\n",
       "      <td>1</td>\n",
       "      <td>none</td>\n",
       "    </tr>\n",
       "    <tr>\n",
       "      <th>2</th>\n",
       "      <td>154</td>\n",
       "      <td>461.5</td>\n",
       "      <td>131.0</td>\n",
       "      <td>27235</td>\n",
       "      <td>_images707/bw_hmn/bw_hmn_wm02.jpg</td>\n",
       "      <td>1</td>\n",
       "      <td>none</td>\n",
       "    </tr>\n",
       "    <tr>\n",
       "      <th>3</th>\n",
       "      <td>172</td>\n",
       "      <td>461.5</td>\n",
       "      <td>131.0</td>\n",
       "      <td>27235</td>\n",
       "      <td>_images707/bw_hmn/bw_hmn_wm02.jpg</td>\n",
       "      <td>1</td>\n",
       "      <td>none</td>\n",
       "    </tr>\n",
       "    <tr>\n",
       "      <th>4</th>\n",
       "      <td>188</td>\n",
       "      <td>461.5</td>\n",
       "      <td>131.0</td>\n",
       "      <td>27235</td>\n",
       "      <td>_images707/bw_hmn/bw_hmn_wm02.jpg</td>\n",
       "      <td>1</td>\n",
       "      <td>none</td>\n",
       "    </tr>\n",
       "  </tbody>\n",
       "</table>\n",
       "</div>"
      ],
      "text/plain": [
       "    ts      x      y  subjID                               stim  trialNum  \\\n",
       "0   98  461.5  131.0   27235  _images707/bw_hmn/bw_hmn_wm02.jpg         1   \n",
       "1  123  461.5  131.0   27235  _images707/bw_hmn/bw_hmn_wm02.jpg         1   \n",
       "2  154  461.5  131.0   27235  _images707/bw_hmn/bw_hmn_wm02.jpg         1   \n",
       "3  172  461.5  131.0   27235  _images707/bw_hmn/bw_hmn_wm02.jpg         1   \n",
       "4  188  461.5  131.0   27235  _images707/bw_hmn/bw_hmn_wm02.jpg         1   \n",
       "\n",
       "    AOI  \n",
       "0  none  \n",
       "1  none  \n",
       "2  none  \n",
       "3  none  \n",
       "4  none  "
      ]
     },
     "execution_count": 5,
     "metadata": {},
     "output_type": "execute_result"
    }
   ],
   "source": [
    "df.head()"
   ]
  },
  {
   "cell_type": "markdown",
   "metadata": {},
   "source": [
    "### Select the stimuli to include in analysis\n",
    "For the eye-bias analysis, use the bw_hmn and hmn stimuli only"
   ]
  },
  {
   "cell_type": "code",
   "execution_count": 6,
   "metadata": {
    "collapsed": true
   },
   "outputs": [],
   "source": [
    "# function to label the image categories\n",
    "def labelStimCategory(row):\n",
    "    if (\"_images707/bw_hmn/\" in row['stim']) |  (\"_images707/hmn/\" in row['stim']):\n",
    "        label = 'human'\n",
    "    elif \"_images707/animal/\" in row['stim']:\n",
    "        label = 'animal'\n",
    "    elif \"_images707/FLO/\" in row['stim']:\n",
    "        label = 'FLO'\n",
    "    elif \"_images707/art/Port_\" in row['stim']:\n",
    "        label = 'portrait'\n",
    "    elif \"_images707/art/mutu_\" in row['stim']:\n",
    "        label = 'Mutu'\n",
    "    else:\n",
    "        label = \"Na\"\n",
    "    \n",
    "    return label"
   ]
  },
  {
   "cell_type": "code",
   "execution_count": 7,
   "metadata": {
    "collapsed": true
   },
   "outputs": [],
   "source": [
    "# add image category label to dataframe\n",
    "df['stimCategory'] = df.apply(labelStimCategory, axis=1)"
   ]
  },
  {
   "cell_type": "code",
   "execution_count": 8,
   "metadata": {},
   "outputs": [
    {
     "data": {
      "text/plain": [
       "array(['human', 'Na', 'animal', 'FLO', 'portrait', 'Mutu'], dtype=object)"
      ]
     },
     "execution_count": 8,
     "metadata": {},
     "output_type": "execute_result"
    }
   ],
   "source": [
    "# make sure this worked\n",
    "df['stimCategory'].unique()"
   ]
  },
  {
   "cell_type": "code",
   "execution_count": 9,
   "metadata": {},
   "outputs": [
    {
     "data": {
      "text/plain": [
       "(229976, 8)"
      ]
     },
     "execution_count": 9,
     "metadata": {},
     "output_type": "execute_result"
    }
   ],
   "source": [
    "# remove 'Na' rows\n",
    "df = df[df['stimCategory'] != 'Na']\n",
    "df.shape"
   ]
  },
  {
   "cell_type": "code",
   "execution_count": 10,
   "metadata": {
    "collapsed": true,
    "scrolled": true
   },
   "outputs": [],
   "source": [
    "# write this out as a txt file so you don't have to load the really big one again\n",
    "df.to_csv('eyeBias_allSubjsRaw.tsv', sep='\\t', index=False)"
   ]
  },
  {
   "cell_type": "markdown",
   "metadata": {},
   "source": [
    "---\n",
    "### Create within-trial time spent on each AOI\n",
    "For each trial for each subject, calculate the mean time per AOI. The mean time for each AOI is calculated by taking the mean frame interval across that trial (i.e. the mean interval between successive timestamps) and multiplying it by the number of frames labeled for each AOI.\n",
    "\n",
    "e.g. On a given trial:\n",
    "\n",
    " * 298 frames\n",
    " * 16.8 mean frame interval\n",
    " * 67 frames labeled 'leftEye'"
   ]
  },
  {
   "cell_type": "code",
   "execution_count": 11,
   "metadata": {},
   "outputs": [
    {
     "data": {
      "text/html": [
       "<div>\n",
       "<table border=\"1\" class=\"dataframe\">\n",
       "  <thead>\n",
       "    <tr style=\"text-align: right;\">\n",
       "      <th></th>\n",
       "      <th>subjID</th>\n",
       "      <th>trialNum</th>\n",
       "      <th>ts</th>\n",
       "    </tr>\n",
       "  </thead>\n",
       "  <tbody>\n",
       "    <tr>\n",
       "      <th>0</th>\n",
       "      <td>741</td>\n",
       "      <td>2</td>\n",
       "      <td>20.639004</td>\n",
       "    </tr>\n",
       "    <tr>\n",
       "      <th>1</th>\n",
       "      <td>741</td>\n",
       "      <td>3</td>\n",
       "      <td>25.968586</td>\n",
       "    </tr>\n",
       "    <tr>\n",
       "      <th>2</th>\n",
       "      <td>741</td>\n",
       "      <td>4</td>\n",
       "      <td>27.359116</td>\n",
       "    </tr>\n",
       "    <tr>\n",
       "      <th>3</th>\n",
       "      <td>741</td>\n",
       "      <td>6</td>\n",
       "      <td>26.484043</td>\n",
       "    </tr>\n",
       "    <tr>\n",
       "      <th>4</th>\n",
       "      <td>741</td>\n",
       "      <td>8</td>\n",
       "      <td>26.607527</td>\n",
       "    </tr>\n",
       "  </tbody>\n",
       "</table>\n",
       "</div>"
      ],
      "text/plain": [
       "   subjID  trialNum         ts\n",
       "0     741         2  20.639004\n",
       "1     741         3  25.968586\n",
       "2     741         4  27.359116\n",
       "3     741         6  26.484043\n",
       "4     741         8  26.607527"
      ]
     },
     "execution_count": 11,
     "metadata": {},
     "output_type": "execute_result"
    }
   ],
   "source": [
    "# create a table showing the mean frame interval on each trial\n",
    "trialFrameTimes = df.groupby(['subjID', 'trialNum'], as_index=False).ts.agg(lambda x: x.diff().mean())\n",
    "trialFrameTimes.head()"
   ]
  },
  {
   "cell_type": "code",
   "execution_count": 12,
   "metadata": {},
   "outputs": [
    {
     "data": {
      "text/html": [
       "<div>\n",
       "<table border=\"1\" class=\"dataframe\">\n",
       "  <thead>\n",
       "    <tr style=\"text-align: right;\">\n",
       "      <th></th>\n",
       "      <th>subjID</th>\n",
       "      <th>trialNum</th>\n",
       "      <th>AOI</th>\n",
       "      <th>ts</th>\n",
       "    </tr>\n",
       "  </thead>\n",
       "  <tbody>\n",
       "    <tr>\n",
       "      <th>0</th>\n",
       "      <td>741</td>\n",
       "      <td>2</td>\n",
       "      <td>leftEye</td>\n",
       "      <td>14</td>\n",
       "    </tr>\n",
       "    <tr>\n",
       "      <th>1</th>\n",
       "      <td>741</td>\n",
       "      <td>2</td>\n",
       "      <td>mouth</td>\n",
       "      <td>44</td>\n",
       "    </tr>\n",
       "    <tr>\n",
       "      <th>2</th>\n",
       "      <td>741</td>\n",
       "      <td>2</td>\n",
       "      <td>none</td>\n",
       "      <td>144</td>\n",
       "    </tr>\n",
       "    <tr>\n",
       "      <th>3</th>\n",
       "      <td>741</td>\n",
       "      <td>2</td>\n",
       "      <td>nose</td>\n",
       "      <td>25</td>\n",
       "    </tr>\n",
       "    <tr>\n",
       "      <th>4</th>\n",
       "      <td>741</td>\n",
       "      <td>2</td>\n",
       "      <td>rightEye</td>\n",
       "      <td>15</td>\n",
       "    </tr>\n",
       "  </tbody>\n",
       "</table>\n",
       "</div>"
      ],
      "text/plain": [
       "   subjID  trialNum       AOI   ts\n",
       "0     741         2   leftEye   14\n",
       "1     741         2     mouth   44\n",
       "2     741         2      none  144\n",
       "3     741         2      nose   25\n",
       "4     741         2  rightEye   15"
      ]
     },
     "execution_count": 12,
     "metadata": {},
     "output_type": "execute_result"
    }
   ],
   "source": [
    "# create a table showing the number of datapoints labeled for each AOI \n",
    "ptsPerAOI = df.groupby(['subjID', 'trialNum', 'AOI'], as_index=False).ts.agg(lambda x: len(x))\n",
    "ptsPerAOI.head()"
   ]
  },
  {
   "cell_type": "code",
   "execution_count": 16,
   "metadata": {
    "collapsed": true
   },
   "outputs": [],
   "source": [
    "# function to calculate time per AOI\n",
    "def calculateTimePerAOI(row):\n",
    "    # get the mean frame interval for this trial\n",
    "    meanFrameInterval = trialFrameTimes[(trialFrameTimes.subjID == row['subjID']) & \n",
    "                                (trialFrameTimes.trialNum == row['trialNum'])].ts.iloc[0]\n",
    "    \n",
    "    # multiply the mean frame interval by the number of frames\n",
    "    AOI_time = meanFrameInterval * row['ts']\n",
    "    return AOI_time\n"
   ]
  },
  {
   "cell_type": "code",
   "execution_count": 17,
   "metadata": {},
   "outputs": [],
   "source": [
    "ptsPerAOI['AOI_time'] = ptsPerAOI.apply(calculateTimePerAOI, axis=1)"
   ]
  },
  {
   "cell_type": "code",
   "execution_count": 19,
   "metadata": {},
   "outputs": [
    {
     "data": {
      "text/html": [
       "<div>\n",
       "<table border=\"1\" class=\"dataframe\">\n",
       "  <thead>\n",
       "    <tr style=\"text-align: right;\">\n",
       "      <th></th>\n",
       "      <th>subjID</th>\n",
       "      <th>trialNum</th>\n",
       "      <th>AOI</th>\n",
       "      <th>ts</th>\n",
       "      <th>AOI_time</th>\n",
       "    </tr>\n",
       "  </thead>\n",
       "  <tbody>\n",
       "    <tr>\n",
       "      <th>0</th>\n",
       "      <td>741</td>\n",
       "      <td>2</td>\n",
       "      <td>leftEye</td>\n",
       "      <td>14</td>\n",
       "      <td>288.946058</td>\n",
       "    </tr>\n",
       "    <tr>\n",
       "      <th>1</th>\n",
       "      <td>741</td>\n",
       "      <td>2</td>\n",
       "      <td>mouth</td>\n",
       "      <td>44</td>\n",
       "      <td>908.116183</td>\n",
       "    </tr>\n",
       "    <tr>\n",
       "      <th>2</th>\n",
       "      <td>741</td>\n",
       "      <td>2</td>\n",
       "      <td>none</td>\n",
       "      <td>144</td>\n",
       "      <td>2972.016598</td>\n",
       "    </tr>\n",
       "    <tr>\n",
       "      <th>3</th>\n",
       "      <td>741</td>\n",
       "      <td>2</td>\n",
       "      <td>nose</td>\n",
       "      <td>25</td>\n",
       "      <td>515.975104</td>\n",
       "    </tr>\n",
       "    <tr>\n",
       "      <th>4</th>\n",
       "      <td>741</td>\n",
       "      <td>2</td>\n",
       "      <td>rightEye</td>\n",
       "      <td>15</td>\n",
       "      <td>309.585062</td>\n",
       "    </tr>\n",
       "  </tbody>\n",
       "</table>\n",
       "</div>"
      ],
      "text/plain": [
       "   subjID  trialNum       AOI   ts     AOI_time\n",
       "0     741         2   leftEye   14   288.946058\n",
       "1     741         2     mouth   44   908.116183\n",
       "2     741         2      none  144  2972.016598\n",
       "3     741         2      nose   25   515.975104\n",
       "4     741         2  rightEye   15   309.585062"
      ]
     },
     "execution_count": 19,
     "metadata": {},
     "output_type": "execute_result"
    }
   ],
   "source": [
    "ptsPerAOI.head()"
   ]
  },
  {
   "cell_type": "code",
   "execution_count": 22,
   "metadata": {},
   "outputs": [
    {
     "data": {
      "text/html": [
       "<div>\n",
       "<table border=\"1\" class=\"dataframe\">\n",
       "  <thead>\n",
       "    <tr style=\"text-align: right;\">\n",
       "      <th></th>\n",
       "      <th>subjID</th>\n",
       "      <th>trialNum</th>\n",
       "      <th>AOI</th>\n",
       "      <th>numFrames</th>\n",
       "      <th>AOI_time</th>\n",
       "    </tr>\n",
       "  </thead>\n",
       "  <tbody>\n",
       "    <tr>\n",
       "      <th>0</th>\n",
       "      <td>741</td>\n",
       "      <td>2</td>\n",
       "      <td>leftEye</td>\n",
       "      <td>14</td>\n",
       "      <td>288.946058</td>\n",
       "    </tr>\n",
       "    <tr>\n",
       "      <th>1</th>\n",
       "      <td>741</td>\n",
       "      <td>2</td>\n",
       "      <td>mouth</td>\n",
       "      <td>44</td>\n",
       "      <td>908.116183</td>\n",
       "    </tr>\n",
       "    <tr>\n",
       "      <th>2</th>\n",
       "      <td>741</td>\n",
       "      <td>2</td>\n",
       "      <td>none</td>\n",
       "      <td>144</td>\n",
       "      <td>2972.016598</td>\n",
       "    </tr>\n",
       "    <tr>\n",
       "      <th>3</th>\n",
       "      <td>741</td>\n",
       "      <td>2</td>\n",
       "      <td>nose</td>\n",
       "      <td>25</td>\n",
       "      <td>515.975104</td>\n",
       "    </tr>\n",
       "    <tr>\n",
       "      <th>4</th>\n",
       "      <td>741</td>\n",
       "      <td>2</td>\n",
       "      <td>rightEye</td>\n",
       "      <td>15</td>\n",
       "      <td>309.585062</td>\n",
       "    </tr>\n",
       "  </tbody>\n",
       "</table>\n",
       "</div>"
      ],
      "text/plain": [
       "   subjID  trialNum       AOI  numFrames     AOI_time\n",
       "0     741         2   leftEye         14   288.946058\n",
       "1     741         2     mouth         44   908.116183\n",
       "2     741         2      none        144  2972.016598\n",
       "3     741         2      nose         25   515.975104\n",
       "4     741         2  rightEye         15   309.585062"
      ]
     },
     "execution_count": 22,
     "metadata": {},
     "output_type": "execute_result"
    }
   ],
   "source": [
    "# basic cleanup and reformatting\n",
    "df_byAOIs = ptsPerAOI.copy()\n",
    "df_byAOIs = df_byAOIs.rename(columns={'ts':'numFrames'}) \n",
    "df_byAOIs.head()"
   ]
  },
  {
   "cell_type": "code",
   "execution_count": 25,
   "metadata": {
    "collapsed": true
   },
   "outputs": [],
   "source": [
    "# ok, now relabel the rows with stim names and stim categories\n",
    "def labelStim(row):\n",
    "    thisStim = df[(df.subjID == row['subjID']) & (df.trialNum == row['trialNum'])].iloc[0].stim\n",
    "    return thisStim\n",
    "\n",
    "def labelCategory(row):\n",
    "    thisCategory = df[(df.subjID == row['subjID']) & (df.trialNum == row['trialNum'])].iloc[0].stimCategory\n",
    "    return thisCategory\n",
    "    "
   ]
  },
  {
   "cell_type": "code",
   "execution_count": 26,
   "metadata": {},
   "outputs": [
    {
     "data": {
      "text/html": [
       "<div>\n",
       "<table border=\"1\" class=\"dataframe\">\n",
       "  <thead>\n",
       "    <tr style=\"text-align: right;\">\n",
       "      <th></th>\n",
       "      <th>subjID</th>\n",
       "      <th>trialNum</th>\n",
       "      <th>AOI</th>\n",
       "      <th>numFrames</th>\n",
       "      <th>AOI_time</th>\n",
       "      <th>stim</th>\n",
       "      <th>stimCategory</th>\n",
       "    </tr>\n",
       "  </thead>\n",
       "  <tbody>\n",
       "    <tr>\n",
       "      <th>0</th>\n",
       "      <td>741</td>\n",
       "      <td>2</td>\n",
       "      <td>leftEye</td>\n",
       "      <td>14</td>\n",
       "      <td>288.946058</td>\n",
       "      <td>_images707/hmn/hmn_wm04.jpg</td>\n",
       "      <td>human</td>\n",
       "    </tr>\n",
       "    <tr>\n",
       "      <th>1</th>\n",
       "      <td>741</td>\n",
       "      <td>2</td>\n",
       "      <td>mouth</td>\n",
       "      <td>44</td>\n",
       "      <td>908.116183</td>\n",
       "      <td>_images707/hmn/hmn_wm04.jpg</td>\n",
       "      <td>human</td>\n",
       "    </tr>\n",
       "    <tr>\n",
       "      <th>2</th>\n",
       "      <td>741</td>\n",
       "      <td>2</td>\n",
       "      <td>none</td>\n",
       "      <td>144</td>\n",
       "      <td>2972.016598</td>\n",
       "      <td>_images707/hmn/hmn_wm04.jpg</td>\n",
       "      <td>human</td>\n",
       "    </tr>\n",
       "    <tr>\n",
       "      <th>3</th>\n",
       "      <td>741</td>\n",
       "      <td>2</td>\n",
       "      <td>nose</td>\n",
       "      <td>25</td>\n",
       "      <td>515.975104</td>\n",
       "      <td>_images707/hmn/hmn_wm04.jpg</td>\n",
       "      <td>human</td>\n",
       "    </tr>\n",
       "    <tr>\n",
       "      <th>4</th>\n",
       "      <td>741</td>\n",
       "      <td>2</td>\n",
       "      <td>rightEye</td>\n",
       "      <td>15</td>\n",
       "      <td>309.585062</td>\n",
       "      <td>_images707/hmn/hmn_wm04.jpg</td>\n",
       "      <td>human</td>\n",
       "    </tr>\n",
       "  </tbody>\n",
       "</table>\n",
       "</div>"
      ],
      "text/plain": [
       "   subjID  trialNum       AOI  numFrames     AOI_time  \\\n",
       "0     741         2   leftEye         14   288.946058   \n",
       "1     741         2     mouth         44   908.116183   \n",
       "2     741         2      none        144  2972.016598   \n",
       "3     741         2      nose         25   515.975104   \n",
       "4     741         2  rightEye         15   309.585062   \n",
       "\n",
       "                          stim stimCategory  \n",
       "0  _images707/hmn/hmn_wm04.jpg        human  \n",
       "1  _images707/hmn/hmn_wm04.jpg        human  \n",
       "2  _images707/hmn/hmn_wm04.jpg        human  \n",
       "3  _images707/hmn/hmn_wm04.jpg        human  \n",
       "4  _images707/hmn/hmn_wm04.jpg        human  "
      ]
     },
     "execution_count": 26,
     "metadata": {},
     "output_type": "execute_result"
    }
   ],
   "source": [
    "df_byAOIs['stim'] = df_byAOIs.apply(labelStim, axis=1)\n",
    "df_byAOIs['stimCategory'] = df_byAOIs.apply(labelCategory, axis=1)\n",
    "\n",
    "df_byAOIs.head()"
   ]
  },
  {
   "cell_type": "markdown",
   "metadata": {},
   "source": [
    "### Add gender and handedness to the dataframe"
   ]
  },
  {
   "cell_type": "code",
   "execution_count": 27,
   "metadata": {
    "collapsed": true
   },
   "outputs": [],
   "source": [
    "dem_data = pd.read_table('../../data/groupData/AbsFace Demographics_May 11, 2017_19.30.csv', sep=',')"
   ]
  },
  {
   "cell_type": "markdown",
   "metadata": {},
   "source": [
    "Q1 - WBL ID;\n",
    "Q2 - Age;\n",
    "Q3 - Gender;\n",
    "Q15 - Handedness"
   ]
  },
  {
   "cell_type": "code",
   "execution_count": 28,
   "metadata": {
    "collapsed": true
   },
   "outputs": [],
   "source": [
    "dem_data = dem_data[['Q1', 'Q2', 'Q3', 'Q15']]"
   ]
  },
  {
   "cell_type": "code",
   "execution_count": 31,
   "metadata": {
    "collapsed": true
   },
   "outputs": [],
   "source": [
    "def labelGender(row):\n",
    "    \"find the gender based on subjID\"\n",
    "    subjID = str(row['subjID']) # get the subjID\n",
    "    \n",
    "    # grab the row with the subject's demographic data\n",
    "    subj_dem = dem_data[dem_data.Q1.str.find(subjID) == 0]\n",
    "    \n",
    "    return subj_dem.Q3.values[0]\n",
    "\n",
    "\n",
    "def labelHandedness(row):\n",
    "    \"find the handedness based on subjID\"\n",
    "    subjID = str(row['subjID']) # get the subjID\n",
    "    \n",
    "    # grab the row with the subject's demographic data\n",
    "    subj_dem = dem_data[dem_data.Q1.str.find(subjID) == 0]\n",
    "    \n",
    "    return subj_dem.Q15.values[0]"
   ]
  },
  {
   "cell_type": "code",
   "execution_count": 32,
   "metadata": {},
   "outputs": [
    {
     "data": {
      "text/html": [
       "<div>\n",
       "<table border=\"1\" class=\"dataframe\">\n",
       "  <thead>\n",
       "    <tr style=\"text-align: right;\">\n",
       "      <th></th>\n",
       "      <th>subjID</th>\n",
       "      <th>trialNum</th>\n",
       "      <th>AOI</th>\n",
       "      <th>numFrames</th>\n",
       "      <th>AOI_time</th>\n",
       "      <th>stim</th>\n",
       "      <th>stimCategory</th>\n",
       "      <th>gender</th>\n",
       "      <th>handedness</th>\n",
       "    </tr>\n",
       "  </thead>\n",
       "  <tbody>\n",
       "    <tr>\n",
       "      <th>0</th>\n",
       "      <td>741</td>\n",
       "      <td>2</td>\n",
       "      <td>leftEye</td>\n",
       "      <td>14</td>\n",
       "      <td>288.946058</td>\n",
       "      <td>_images707/hmn/hmn_wm04.jpg</td>\n",
       "      <td>human</td>\n",
       "      <td>Male</td>\n",
       "      <td>Right-handed</td>\n",
       "    </tr>\n",
       "    <tr>\n",
       "      <th>1</th>\n",
       "      <td>741</td>\n",
       "      <td>2</td>\n",
       "      <td>mouth</td>\n",
       "      <td>44</td>\n",
       "      <td>908.116183</td>\n",
       "      <td>_images707/hmn/hmn_wm04.jpg</td>\n",
       "      <td>human</td>\n",
       "      <td>Male</td>\n",
       "      <td>Right-handed</td>\n",
       "    </tr>\n",
       "    <tr>\n",
       "      <th>2</th>\n",
       "      <td>741</td>\n",
       "      <td>2</td>\n",
       "      <td>none</td>\n",
       "      <td>144</td>\n",
       "      <td>2972.016598</td>\n",
       "      <td>_images707/hmn/hmn_wm04.jpg</td>\n",
       "      <td>human</td>\n",
       "      <td>Male</td>\n",
       "      <td>Right-handed</td>\n",
       "    </tr>\n",
       "    <tr>\n",
       "      <th>3</th>\n",
       "      <td>741</td>\n",
       "      <td>2</td>\n",
       "      <td>nose</td>\n",
       "      <td>25</td>\n",
       "      <td>515.975104</td>\n",
       "      <td>_images707/hmn/hmn_wm04.jpg</td>\n",
       "      <td>human</td>\n",
       "      <td>Male</td>\n",
       "      <td>Right-handed</td>\n",
       "    </tr>\n",
       "    <tr>\n",
       "      <th>4</th>\n",
       "      <td>741</td>\n",
       "      <td>2</td>\n",
       "      <td>rightEye</td>\n",
       "      <td>15</td>\n",
       "      <td>309.585062</td>\n",
       "      <td>_images707/hmn/hmn_wm04.jpg</td>\n",
       "      <td>human</td>\n",
       "      <td>Male</td>\n",
       "      <td>Right-handed</td>\n",
       "    </tr>\n",
       "  </tbody>\n",
       "</table>\n",
       "</div>"
      ],
      "text/plain": [
       "   subjID  trialNum       AOI  numFrames     AOI_time  \\\n",
       "0     741         2   leftEye         14   288.946058   \n",
       "1     741         2     mouth         44   908.116183   \n",
       "2     741         2      none        144  2972.016598   \n",
       "3     741         2      nose         25   515.975104   \n",
       "4     741         2  rightEye         15   309.585062   \n",
       "\n",
       "                          stim stimCategory gender    handedness  \n",
       "0  _images707/hmn/hmn_wm04.jpg        human   Male  Right-handed  \n",
       "1  _images707/hmn/hmn_wm04.jpg        human   Male  Right-handed  \n",
       "2  _images707/hmn/hmn_wm04.jpg        human   Male  Right-handed  \n",
       "3  _images707/hmn/hmn_wm04.jpg        human   Male  Right-handed  \n",
       "4  _images707/hmn/hmn_wm04.jpg        human   Male  Right-handed  "
      ]
     },
     "execution_count": 32,
     "metadata": {},
     "output_type": "execute_result"
    }
   ],
   "source": [
    "df_byAOIs['gender'] = df_byAOIs.apply(labelGender, axis=1)\n",
    "df_byAOIs['handedness'] = df_byAOIs.apply(labelHandedness, axis=1)\n",
    "\n",
    "df_byAOIs.head()"
   ]
  },
  {
   "cell_type": "markdown",
   "metadata": {},
   "source": [
    "---\n",
    "### Calculate the eye-bias score for each trial"
   ]
  },
  {
   "cell_type": "code",
   "execution_count": 69,
   "metadata": {},
   "outputs": [],
   "source": [
    "# create a dataframe with just the rows corresponding to eye AOIs\n",
    "df_eyesOnly = df_byAOIs[(df_byAOIs.AOI == 'leftEye') | (df_byAOIs.AOI == 'rightEye')]\n",
    "\n",
    "# go through each trial, and calculate the eyeBias score\n",
    "for i, (name, group) in enumerate(df_eyesOnly.groupby(['subjID', 'trialNum'])):\n",
    "    # check to make sure the values exist for each eye\n",
    "    if 'rightEye' not in group['AOI'].values:\n",
    "        rightEyeTime = 0\n",
    "    else:\n",
    "        rightEyeTime = group[group['AOI'] == 'rightEye'].AOI_time.item()\n",
    "        \n",
    "    if 'leftEye' not in group['AOI'].values:\n",
    "        leftEyeTime = 0\n",
    "    else:\n",
    "        leftEyeTime = group[group['AOI'] == 'leftEye'].AOI_time.item()\n",
    "    \n",
    "    # calculate eyeBias as right eye minus left eye\n",
    "    eyeBias = rightEyeTime - leftEyeTime\n",
    "    \n",
    "    # get other values for this row\n",
    "    subj = group.subjID.iloc[0]\n",
    "    trialNum = group.trialNum.iloc[0]\n",
    "    stim = group.stim.iloc[0]\n",
    "    stimCategory = group.stimCategory.iloc[0]\n",
    "    gender = group.gender.iloc[0]\n",
    "    handedness = group.handedness.iloc[0]\n",
    "    \n",
    "    # construct into a series object\n",
    "    thisRow = {'subjID': subj,\n",
    "                        'trialNum': trialNum,\n",
    "                        'stim':stim,\n",
    "                        'stimCategory': stimCategory,\n",
    "                        'gender':gender,\n",
    "                        'handedness':handedness,\n",
    "                        'eyeBias':eyeBias}\n",
    "    if i == 0:\n",
    "        df_eyeBias = pd.DataFrame(thisRow, index=[0])\n",
    "    else:\n",
    "        df_eyeBias = df_eyeBias.append(thisRow, ignore_index=True)"
   ]
  },
  {
   "cell_type": "code",
   "execution_count": 70,
   "metadata": {},
   "outputs": [
    {
     "data": {
      "text/html": [
       "<div>\n",
       "<table border=\"1\" class=\"dataframe\">\n",
       "  <thead>\n",
       "    <tr style=\"text-align: right;\">\n",
       "      <th></th>\n",
       "      <th>eyeBias</th>\n",
       "      <th>gender</th>\n",
       "      <th>handedness</th>\n",
       "      <th>stim</th>\n",
       "      <th>stimCategory</th>\n",
       "      <th>subjID</th>\n",
       "      <th>trialNum</th>\n",
       "    </tr>\n",
       "  </thead>\n",
       "  <tbody>\n",
       "    <tr>\n",
       "      <th>0</th>\n",
       "      <td>20.639004</td>\n",
       "      <td>Male</td>\n",
       "      <td>Right-handed</td>\n",
       "      <td>_images707/hmn/hmn_wm04.jpg</td>\n",
       "      <td>human</td>\n",
       "      <td>741</td>\n",
       "      <td>2</td>\n",
       "    </tr>\n",
       "    <tr>\n",
       "      <th>1</th>\n",
       "      <td>519.371728</td>\n",
       "      <td>Male</td>\n",
       "      <td>Right-handed</td>\n",
       "      <td>_images707/art/mutu_2.jpg</td>\n",
       "      <td>Mutu</td>\n",
       "      <td>741</td>\n",
       "      <td>3</td>\n",
       "    </tr>\n",
       "    <tr>\n",
       "      <th>2</th>\n",
       "      <td>264.840426</td>\n",
       "      <td>Male</td>\n",
       "      <td>Right-handed</td>\n",
       "      <td>_images707/animal/cat03.jpg</td>\n",
       "      <td>animal</td>\n",
       "      <td>741</td>\n",
       "      <td>6</td>\n",
       "    </tr>\n",
       "    <tr>\n",
       "      <th>3</th>\n",
       "      <td>-2953.435484</td>\n",
       "      <td>Male</td>\n",
       "      <td>Right-handed</td>\n",
       "      <td>_images707/FLO/flo07.jpg</td>\n",
       "      <td>FLO</td>\n",
       "      <td>741</td>\n",
       "      <td>8</td>\n",
       "    </tr>\n",
       "    <tr>\n",
       "      <th>4</th>\n",
       "      <td>-105.063830</td>\n",
       "      <td>Male</td>\n",
       "      <td>Right-handed</td>\n",
       "      <td>_images707/hmn/hmn_wf04.jpg</td>\n",
       "      <td>human</td>\n",
       "      <td>741</td>\n",
       "      <td>14</td>\n",
       "    </tr>\n",
       "  </tbody>\n",
       "</table>\n",
       "</div>"
      ],
      "text/plain": [
       "       eyeBias gender    handedness                         stim stimCategory  \\\n",
       "0    20.639004   Male  Right-handed  _images707/hmn/hmn_wm04.jpg        human   \n",
       "1   519.371728   Male  Right-handed    _images707/art/mutu_2.jpg         Mutu   \n",
       "2   264.840426   Male  Right-handed  _images707/animal/cat03.jpg       animal   \n",
       "3 -2953.435484   Male  Right-handed     _images707/FLO/flo07.jpg          FLO   \n",
       "4  -105.063830   Male  Right-handed  _images707/hmn/hmn_wf04.jpg        human   \n",
       "\n",
       "   subjID  trialNum  \n",
       "0     741         2  \n",
       "1     741         3  \n",
       "2     741         6  \n",
       "3     741         8  \n",
       "4     741        14  "
      ]
     },
     "execution_count": 70,
     "metadata": {},
     "output_type": "execute_result"
    }
   ],
   "source": [
    "df_eyeBias.head()"
   ]
  },
  {
   "cell_type": "code",
   "execution_count": 48,
   "metadata": {},
   "outputs": [
    {
     "data": {
      "text/plain": [
       "array(['none', 'none', 'none', 'none', 'none', 'none'], dtype=object)"
      ]
     },
     "execution_count": 48,
     "metadata": {},
     "output_type": "execute_result"
    }
   ],
   "source": [
    "df2.AOI.values"
   ]
  },
  {
   "cell_type": "code",
   "execution_count": 30,
   "metadata": {},
   "outputs": [
    {
     "data": {
      "text/plain": [
       "<matplotlib.lines.Line2D at 0x1037dcac8>"
      ]
     },
     "execution_count": 30,
     "metadata": {},
     "output_type": "execute_result"
    },
    {
     "data": {
      "image/png": "[encoded data removed]",
      "text/plain": [
       "<matplotlib.figure.Figure at 0x102ac58d0>"
      ]
     },
     "metadata": {},
     "output_type": "display_data"
    }
   ],
   "source": [
    "# plot\n",
    "sns.violinplot(x=allSubjs.handedness, y=allSubjs.eyeBias, inner=None, palette='Set1')\n",
    "sns.swarmplot(x=allSubjs.handedness, y=allSubjs.eyeBias, color='w', size=8, alpha=.7)\n",
    "plt.axhline(y=0, color='black')"
   ]
  },
  {
   "cell_type": "code",
   "execution_count": 31,
   "metadata": {},
   "outputs": [
    {
     "data": {
      "text/plain": [
       "Ttest_indResult(statistic=1.3129549201948119, pvalue=0.19348619142777496)"
      ]
     },
     "execution_count": 31,
     "metadata": {},
     "output_type": "execute_result"
    }
   ],
   "source": [
    "# stats\n",
    "R = allSubjs.eyeBias[allSubjs.handedness=='Right-handed']\n",
    "L = allSubjs.eyeBias[allSubjs.handedness=='Left-handed']\n",
    "\n",
    "stats.ttest_ind(R, L, equal_var=True)"
   ]
  },
  {
   "cell_type": "code",
   "execution_count": 32,
   "metadata": {},
   "outputs": [
    {
     "data": {
      "text/html": [
       "<div>\n",
       "<table border=\"1\" class=\"dataframe\">\n",
       "  <thead>\n",
       "    <tr style=\"text-align: right;\">\n",
       "      <th></th>\n",
       "      <th>eyeBias</th>\n",
       "      <th>gender</th>\n",
       "    </tr>\n",
       "    <tr>\n",
       "      <th>handedness</th>\n",
       "      <th></th>\n",
       "      <th></th>\n",
       "    </tr>\n",
       "  </thead>\n",
       "  <tbody>\n",
       "    <tr>\n",
       "      <th>Left-handed</th>\n",
       "      <td>11</td>\n",
       "      <td>11</td>\n",
       "    </tr>\n",
       "    <tr>\n",
       "      <th>Right-handed</th>\n",
       "      <td>61</td>\n",
       "      <td>61</td>\n",
       "    </tr>\n",
       "  </tbody>\n",
       "</table>\n",
       "</div>"
      ],
      "text/plain": [
       "              eyeBias  gender\n",
       "handedness                   \n",
       "Left-handed        11      11\n",
       "Right-handed       61      61"
      ]
     },
     "execution_count": 32,
     "metadata": {},
     "output_type": "execute_result"
    }
   ],
   "source": [
    "# count by condition\n",
    "allSubjs.groupby('handedness').count()"
   ]
  },
  {
   "cell_type": "code",
   "execution_count": 9,
   "metadata": {
    "collapsed": true
   },
   "outputs": [],
   "source": [
    "# loop over all unique subjects\n",
    "subjMeans = []\n",
    "for s in np.unique(df2.subjID):\n",
    "    # grab this subjects data\n",
    "    subj_df = df2.loc[df2.subjID == s]\n",
    "    \n",
    "    # loop through unique trials\n",
    "    trial_eyeBias = []\n",
    "    for i,t in enumerate(np.unique(subj_df.trialNum)):\n",
    "        # grab this trial's data\n",
    "        trial_df = subj_df[subj_df.trialNum == t]\n",
    "        \n",
    "        # calculate mean time/frame\n",
    "        meanFrameInterval = trial_df.ts.diff().mean()\n",
    "        \n",
    "        # get number of frames for each AOI\n",
    "        AOI_counts = trial_df.AOI.value_counts()\n",
    "        \n",
    "        # multiple frame counts by mean frame interval to get time spent in the AOI\n",
    "        AOI_time = AOI_counts * meanFrameInterval\n",
    "        \n",
    "        # make sure left and right eye are represented\n",
    "        if 'leftEye' not in AOI_time:\n",
    "            AOI_time.leftEye = 0\n",
    "        if 'rightEye' not in AOI_time:\n",
    "            AOI_time.rightEye = 0\n",
    "        \n",
    "        # calculate bias score\n",
    "        eyeBias = AOI_time.leftEye - AOI_time.rightEye\n",
    "        \n",
    "        # append to the list of bias for all trials\n",
    "        trial_eyeBias.append(eyeBias)\n",
    "\n",
    "    # calculate the mean across trials\n",
    "    subj_eyeBias = np.mean(trial_eyeBias)\n",
    "    \n",
    "    # create a series out of it\n",
    "    thisSubj = pd.Series({'eyeBias': subj_eyeBias}, name=s)\n",
    "    subjMeans.append(thisSubj)\n",
    "    \n",
    "allSubjs = pd.concat(subjMeans, axis=1).T\n",
    "    "
   ]
  },
  {
   "cell_type": "code",
   "execution_count": 10,
   "metadata": {},
   "outputs": [
    {
     "data": {
      "text/html": [
       "<div>\n",
       "<table border=\"1\" class=\"dataframe\">\n",
       "  <thead>\n",
       "    <tr style=\"text-align: right;\">\n",
       "      <th></th>\n",
       "      <th>eyeBias</th>\n",
       "    </tr>\n",
       "  </thead>\n",
       "  <tbody>\n",
       "    <tr>\n",
       "      <th>741</th>\n",
       "      <td>310.135744</td>\n",
       "    </tr>\n",
       "    <tr>\n",
       "      <th>1164</th>\n",
       "      <td>197.855359</td>\n",
       "    </tr>\n",
       "    <tr>\n",
       "      <th>20649</th>\n",
       "      <td>-70.862152</td>\n",
       "    </tr>\n",
       "    <tr>\n",
       "      <th>27235</th>\n",
       "      <td>-391.586942</td>\n",
       "    </tr>\n",
       "    <tr>\n",
       "      <th>27537</th>\n",
       "      <td>278.392258</td>\n",
       "    </tr>\n",
       "  </tbody>\n",
       "</table>\n",
       "</div>"
      ],
      "text/plain": [
       "          eyeBias\n",
       "741    310.135744\n",
       "1164   197.855359\n",
       "20649  -70.862152\n",
       "27235 -391.586942\n",
       "27537  278.392258"
      ]
     },
     "execution_count": 10,
     "metadata": {},
     "output_type": "execute_result"
    }
   ],
   "source": [
    "allSubjs.head()"
   ]
  },
  {
   "cell_type": "code",
   "execution_count": 11,
   "metadata": {},
   "outputs": [
    {
     "data": {
      "text/plain": [
       "eyeBias    68.292473\n",
       "dtype: float64"
      ]
     },
     "execution_count": 11,
     "metadata": {},
     "output_type": "execute_result"
    }
   ],
   "source": [
    "np.mean(allSubjs)"
   ]
  },
  {
   "cell_type": "markdown",
   "metadata": {},
   "source": [
    "#### is there an overall bias toward the left eye in this dataset?"
   ]
  },
  {
   "cell_type": "code",
   "execution_count": 12,
   "metadata": {
    "scrolled": true
   },
   "outputs": [
    {
     "data": {
      "text/plain": [
       "<matplotlib.lines.Line2D at 0x103370b00>"
      ]
     },
     "execution_count": 12,
     "metadata": {},
     "output_type": "execute_result"
    },
    {
     "data": {
      "image/png": "[encoded data removed]",
      "text/plain": [
       "<matplotlib.figure.Figure at 0x103d71fd0>"
      ]
     },
     "metadata": {},
     "output_type": "display_data"
    }
   ],
   "source": [
    "# plot\n",
    "sns.violinplot(data=allSubjs, palette='Blues_d')\n",
    "sns.plt.title('Left > Right Eye Bias')\n",
    "plt.axhline(y=0, color='k')\n"
   ]
  },
  {
   "cell_type": "code",
   "execution_count": 13,
   "metadata": {
    "collapsed": true
   },
   "outputs": [],
   "source": [
    "import scipy.stats as stats"
   ]
  },
  {
   "cell_type": "code",
   "execution_count": 14,
   "metadata": {},
   "outputs": [
    {
     "data": {
      "text/plain": [
       "Ttest_1sampResult(statistic=3.5007809337445597, pvalue=0.00080044588565999152)"
      ]
     },
     "execution_count": 14,
     "metadata": {},
     "output_type": "execute_result"
    }
   ],
   "source": [
    "# run the t-test\n",
    "\n",
    "stats.ttest_1samp(allSubjs.eyeBias, 0)"
   ]
  }
 ],
 "metadata": {
  "kernelspec": {
   "display_name": "Python 3",
   "language": "python",
   "name": "python3"
  },
  "language_info": {
   "codemirror_mode": {
    "name": "ipython",
    "version": 3
   },
   "file_extension": ".py",
   "mimetype": "text/x-python",
   "name": "python",
   "nbconvert_exporter": "python",
   "pygments_lexer": "ipython3",
   "version": "3.6.0"
  }
 },
 "nbformat": 4,
 "nbformat_minor": 2
}
