{
 "cells": [
  {
   "cell_type": "code",
   "execution_count": 1,
   "metadata": {
    "collapsed": true
   },
   "outputs": [],
   "source": [
    "import os\n",
    "from os.path import join\n",
    "import sys\n",
    "import numpy as np \n",
    "import pandas as pd\n",
    "import seaborn as sns"
   ]
  },
  {
   "cell_type": "code",
   "execution_count": 2,
   "metadata": {},
   "outputs": [
    {
     "name": "stdout",
     "output_type": "stream",
     "text": [
      "Populating the interactive namespace from numpy and matplotlib\n"
     ]
    }
   ],
   "source": [
    "%pylab inline"
   ]
  },
  {
   "cell_type": "markdown",
   "metadata": {},
   "source": [
    "# Eye Bias Analysis\n",
    "Test whether there is a bias toward either the left or right eye. Test whether eye bias can be predicted by gender, handedness, or image category\n",
    "\n",
    "#### **Note:** \"left\" is relative to the viewer (i.e. the 'right' anatomically)"
   ]
  },
  {
   "cell_type": "code",
   "execution_count": 4,
   "metadata": {
    "collapsed": true
   },
   "outputs": [],
   "source": [
    "# load the combined cursorTracking data for all subjs\n",
    "df = pd.read_table('../../data/groupData/allSubjs_cursorTracking.tsv', sep='\\t')"
   ]
  },
  {
   "cell_type": "code",
   "execution_count": 5,
   "metadata": {},
   "outputs": [
    {
     "data": {
      "text/plain": [
       "(608261, 7)"
      ]
     },
     "execution_count": 5,
     "metadata": {},
     "output_type": "execute_result"
    }
   ],
   "source": [
    "df.shape"
   ]
  },
  {
   "cell_type": "code",
   "execution_count": 6,
   "metadata": {},
   "outputs": [
    {
     "data": {
      "text/html": [
       "<div>\n",
       "<table border=\"1\" class=\"dataframe\">\n",
       "  <thead>\n",
       "    <tr style=\"text-align: right;\">\n",
       "      <th></th>\n",
       "      <th>ts</th>\n",
       "      <th>x</th>\n",
       "      <th>y</th>\n",
       "      <th>subjID</th>\n",
       "      <th>stim</th>\n",
       "      <th>trialNum</th>\n",
       "      <th>AOI</th>\n",
       "    </tr>\n",
       "  </thead>\n",
       "  <tbody>\n",
       "    <tr>\n",
       "      <th>0</th>\n",
       "      <td>98</td>\n",
       "      <td>461.5</td>\n",
       "      <td>131.0</td>\n",
       "      <td>27235</td>\n",
       "      <td>_images707/bw_hmn/bw_hmn_wm02.jpg</td>\n",
       "      <td>1</td>\n",
       "      <td>none</td>\n",
       "    </tr>\n",
       "    <tr>\n",
       "      <th>1</th>\n",
       "      <td>123</td>\n",
       "      <td>461.5</td>\n",
       "      <td>131.0</td>\n",
       "      <td>27235</td>\n",
       "      <td>_images707/bw_hmn/bw_hmn_wm02.jpg</td>\n",
       "      <td>1</td>\n",
       "      <td>none</td>\n",
       "    </tr>\n",
       "    <tr>\n",
       "      <th>2</th>\n",
       "      <td>154</td>\n",
       "      <td>461.5</td>\n",
       "      <td>131.0</td>\n",
       "      <td>27235</td>\n",
       "      <td>_images707/bw_hmn/bw_hmn_wm02.jpg</td>\n",
       "      <td>1</td>\n",
       "      <td>none</td>\n",
       "    </tr>\n",
       "    <tr>\n",
       "      <th>3</th>\n",
       "      <td>172</td>\n",
       "      <td>461.5</td>\n",
       "      <td>131.0</td>\n",
       "      <td>27235</td>\n",
       "      <td>_images707/bw_hmn/bw_hmn_wm02.jpg</td>\n",
       "      <td>1</td>\n",
       "      <td>none</td>\n",
       "    </tr>\n",
       "    <tr>\n",
       "      <th>4</th>\n",
       "      <td>188</td>\n",
       "      <td>461.5</td>\n",
       "      <td>131.0</td>\n",
       "      <td>27235</td>\n",
       "      <td>_images707/bw_hmn/bw_hmn_wm02.jpg</td>\n",
       "      <td>1</td>\n",
       "      <td>none</td>\n",
       "    </tr>\n",
       "  </tbody>\n",
       "</table>\n",
       "</div>"
      ],
      "text/plain": [
       "    ts      x      y  subjID                               stim  trialNum  \\\n",
       "0   98  461.5  131.0   27235  _images707/bw_hmn/bw_hmn_wm02.jpg         1   \n",
       "1  123  461.5  131.0   27235  _images707/bw_hmn/bw_hmn_wm02.jpg         1   \n",
       "2  154  461.5  131.0   27235  _images707/bw_hmn/bw_hmn_wm02.jpg         1   \n",
       "3  172  461.5  131.0   27235  _images707/bw_hmn/bw_hmn_wm02.jpg         1   \n",
       "4  188  461.5  131.0   27235  _images707/bw_hmn/bw_hmn_wm02.jpg         1   \n",
       "\n",
       "    AOI  \n",
       "0  none  \n",
       "1  none  \n",
       "2  none  \n",
       "3  none  \n",
       "4  none  "
      ]
     },
     "execution_count": 6,
     "metadata": {},
     "output_type": "execute_result"
    }
   ],
   "source": [
    "df.head()"
   ]
  },
  {
   "cell_type": "markdown",
   "metadata": {},
   "source": [
    "### Select the stimuli to include in analysis\n",
    "Choose the various categories of face and face-like stimuli"
   ]
  },
  {
   "cell_type": "code",
   "execution_count": 7,
   "metadata": {
    "collapsed": true
   },
   "outputs": [],
   "source": [
    "# function to label the image categories\n",
    "def labelStimCategory(row):\n",
    "    if (\"_images707/bw_hmn/\" in row['stim']) |  (\"_images707/hmn/\" in row['stim']):\n",
    "        label = 'human'\n",
    "    elif \"_images707/animal/\" in row['stim']:\n",
    "        label = 'animal'\n",
    "    elif \"_images707/FLO/\" in row['stim']:\n",
    "        label = 'FLO'\n",
    "    elif \"_images707/art/Port_\" in row['stim']:\n",
    "        label = 'portrait'\n",
    "    elif \"_images707/faceFood/\" in row['stim']:\n",
    "        label = 'faceFood'\n",
    "    else:\n",
    "        label = \"Na\"\n",
    "    \n",
    "    return label"
   ]
  },
  {
   "cell_type": "code",
   "execution_count": 8,
   "metadata": {
    "collapsed": true
   },
   "outputs": [],
   "source": [
    "# add image category label to dataframe\n",
    "df['stimCategory'] = df.apply(labelStimCategory, axis=1)"
   ]
  },
  {
   "cell_type": "code",
   "execution_count": 9,
   "metadata": {},
   "outputs": [
    {
     "data": {
      "text/plain": [
       "array(['human', 'Na', 'animal', 'FLO', 'portrait', 'faceFood'], dtype=object)"
      ]
     },
     "execution_count": 9,
     "metadata": {},
     "output_type": "execute_result"
    }
   ],
   "source": [
    "# make sure this worked\n",
    "df['stimCategory'].unique()"
   ]
  },
  {
   "cell_type": "code",
   "execution_count": 10,
   "metadata": {},
   "outputs": [
    {
     "data": {
      "text/plain": [
       "(275908, 8)"
      ]
     },
     "execution_count": 10,
     "metadata": {},
     "output_type": "execute_result"
    }
   ],
   "source": [
    "# remove 'Na' rows\n",
    "df = df[df['stimCategory'] != 'Na']\n",
    "df.shape"
   ]
  },
  {
   "cell_type": "code",
   "execution_count": 11,
   "metadata": {
    "collapsed": true,
    "scrolled": true
   },
   "outputs": [],
   "source": [
    "# write this out as a txt file so you don't have to load the really big one again\n",
    "df.to_csv('eyeBias_allSubjs.tsv', sep='\\t', index=False)"
   ]
  },
  {
   "cell_type": "markdown",
   "metadata": {},
   "source": [
    "---\n",
    "### Create within-trial time spent on each AOI\n",
    "For each trial for each subject, calculate the mean time per AOI. The mean time for each AOI is calculated by taking the mean frame interval across that trial (i.e. the mean interval between successive timestamps) and multiplying it by the number of frames labeled for each AOI.\n",
    "\n",
    "e.g. On a given trial:\n",
    "\n",
    " * 298 frames\n",
    " * 16.8 mean frame interval\n",
    " * 67 frames labeled 'leftEye'"
   ]
  },
  {
   "cell_type": "code",
   "execution_count": 12,
   "metadata": {},
   "outputs": [
    {
     "data": {
      "text/html": [
       "<div>\n",
       "<table border=\"1\" class=\"dataframe\">\n",
       "  <thead>\n",
       "    <tr style=\"text-align: right;\">\n",
       "      <th></th>\n",
       "      <th>subjID</th>\n",
       "      <th>trialNum</th>\n",
       "      <th>ts</th>\n",
       "    </tr>\n",
       "  </thead>\n",
       "  <tbody>\n",
       "    <tr>\n",
       "      <th>0</th>\n",
       "      <td>741</td>\n",
       "      <td>2</td>\n",
       "      <td>20.639004</td>\n",
       "    </tr>\n",
       "    <tr>\n",
       "      <th>1</th>\n",
       "      <td>741</td>\n",
       "      <td>4</td>\n",
       "      <td>27.359116</td>\n",
       "    </tr>\n",
       "    <tr>\n",
       "      <th>2</th>\n",
       "      <td>741</td>\n",
       "      <td>6</td>\n",
       "      <td>26.484043</td>\n",
       "    </tr>\n",
       "    <tr>\n",
       "      <th>3</th>\n",
       "      <td>741</td>\n",
       "      <td>8</td>\n",
       "      <td>26.607527</td>\n",
       "    </tr>\n",
       "    <tr>\n",
       "      <th>4</th>\n",
       "      <td>741</td>\n",
       "      <td>13</td>\n",
       "      <td>26.529412</td>\n",
       "    </tr>\n",
       "  </tbody>\n",
       "</table>\n",
       "</div>"
      ],
      "text/plain": [
       "   subjID  trialNum         ts\n",
       "0     741         2  20.639004\n",
       "1     741         4  27.359116\n",
       "2     741         6  26.484043\n",
       "3     741         8  26.607527\n",
       "4     741        13  26.529412"
      ]
     },
     "execution_count": 12,
     "metadata": {},
     "output_type": "execute_result"
    }
   ],
   "source": [
    "# create a table showing the mean frame interval on each trial\n",
    "trialFrameTimes = df.groupby(['subjID', 'trialNum'], as_index=False).ts.agg(lambda x: x.diff().mean())\n",
    "trialFrameTimes.head()"
   ]
  },
  {
   "cell_type": "code",
   "execution_count": 13,
   "metadata": {},
   "outputs": [
    {
     "data": {
      "text/html": [
       "<div>\n",
       "<table border=\"1\" class=\"dataframe\">\n",
       "  <thead>\n",
       "    <tr style=\"text-align: right;\">\n",
       "      <th></th>\n",
       "      <th>subjID</th>\n",
       "      <th>trialNum</th>\n",
       "      <th>AOI</th>\n",
       "      <th>ts</th>\n",
       "    </tr>\n",
       "  </thead>\n",
       "  <tbody>\n",
       "    <tr>\n",
       "      <th>0</th>\n",
       "      <td>741</td>\n",
       "      <td>2</td>\n",
       "      <td>leftEye</td>\n",
       "      <td>14</td>\n",
       "    </tr>\n",
       "    <tr>\n",
       "      <th>1</th>\n",
       "      <td>741</td>\n",
       "      <td>2</td>\n",
       "      <td>mouth</td>\n",
       "      <td>44</td>\n",
       "    </tr>\n",
       "    <tr>\n",
       "      <th>2</th>\n",
       "      <td>741</td>\n",
       "      <td>2</td>\n",
       "      <td>none</td>\n",
       "      <td>144</td>\n",
       "    </tr>\n",
       "    <tr>\n",
       "      <th>3</th>\n",
       "      <td>741</td>\n",
       "      <td>2</td>\n",
       "      <td>nose</td>\n",
       "      <td>25</td>\n",
       "    </tr>\n",
       "    <tr>\n",
       "      <th>4</th>\n",
       "      <td>741</td>\n",
       "      <td>2</td>\n",
       "      <td>rightEye</td>\n",
       "      <td>15</td>\n",
       "    </tr>\n",
       "  </tbody>\n",
       "</table>\n",
       "</div>"
      ],
      "text/plain": [
       "   subjID  trialNum       AOI   ts\n",
       "0     741         2   leftEye   14\n",
       "1     741         2     mouth   44\n",
       "2     741         2      none  144\n",
       "3     741         2      nose   25\n",
       "4     741         2  rightEye   15"
      ]
     },
     "execution_count": 13,
     "metadata": {},
     "output_type": "execute_result"
    }
   ],
   "source": [
    "# create a table showing the number of datapoints labeled for each AOI \n",
    "ptsPerAOI = df.groupby(['subjID', 'trialNum', 'AOI'], as_index=False).ts.agg(lambda x: len(x))\n",
    "ptsPerAOI.head()"
   ]
  },
  {
   "cell_type": "code",
   "execution_count": 14,
   "metadata": {
    "collapsed": true
   },
   "outputs": [],
   "source": [
    "# function to calculate time per AOI\n",
    "def calculateTimePerAOI(row):\n",
    "    # get the mean frame interval for this trial\n",
    "    meanFrameInterval = trialFrameTimes[(trialFrameTimes.subjID == row['subjID']) & \n",
    "                                (trialFrameTimes.trialNum == row['trialNum'])].ts.iloc[0]\n",
    "    \n",
    "    # multiply the mean frame interval by the number of frames\n",
    "    AOI_time = meanFrameInterval * row['ts']\n",
    "    return AOI_time\n"
   ]
  },
  {
   "cell_type": "code",
   "execution_count": 15,
   "metadata": {
    "collapsed": true
   },
   "outputs": [],
   "source": [
    "ptsPerAOI['AOI_time'] = ptsPerAOI.apply(calculateTimePerAOI, axis=1)"
   ]
  },
  {
   "cell_type": "code",
   "execution_count": 16,
   "metadata": {},
   "outputs": [
    {
     "data": {
      "text/html": [
       "<div>\n",
       "<table border=\"1\" class=\"dataframe\">\n",
       "  <thead>\n",
       "    <tr style=\"text-align: right;\">\n",
       "      <th></th>\n",
       "      <th>subjID</th>\n",
       "      <th>trialNum</th>\n",
       "      <th>AOI</th>\n",
       "      <th>ts</th>\n",
       "      <th>AOI_time</th>\n",
       "    </tr>\n",
       "  </thead>\n",
       "  <tbody>\n",
       "    <tr>\n",
       "      <th>0</th>\n",
       "      <td>741</td>\n",
       "      <td>2</td>\n",
       "      <td>leftEye</td>\n",
       "      <td>14</td>\n",
       "      <td>288.946058</td>\n",
       "    </tr>\n",
       "    <tr>\n",
       "      <th>1</th>\n",
       "      <td>741</td>\n",
       "      <td>2</td>\n",
       "      <td>mouth</td>\n",
       "      <td>44</td>\n",
       "      <td>908.116183</td>\n",
       "    </tr>\n",
       "    <tr>\n",
       "      <th>2</th>\n",
       "      <td>741</td>\n",
       "      <td>2</td>\n",
       "      <td>none</td>\n",
       "      <td>144</td>\n",
       "      <td>2972.016598</td>\n",
       "    </tr>\n",
       "    <tr>\n",
       "      <th>3</th>\n",
       "      <td>741</td>\n",
       "      <td>2</td>\n",
       "      <td>nose</td>\n",
       "      <td>25</td>\n",
       "      <td>515.975104</td>\n",
       "    </tr>\n",
       "    <tr>\n",
       "      <th>4</th>\n",
       "      <td>741</td>\n",
       "      <td>2</td>\n",
       "      <td>rightEye</td>\n",
       "      <td>15</td>\n",
       "      <td>309.585062</td>\n",
       "    </tr>\n",
       "  </tbody>\n",
       "</table>\n",
       "</div>"
      ],
      "text/plain": [
       "   subjID  trialNum       AOI   ts     AOI_time\n",
       "0     741         2   leftEye   14   288.946058\n",
       "1     741         2     mouth   44   908.116183\n",
       "2     741         2      none  144  2972.016598\n",
       "3     741         2      nose   25   515.975104\n",
       "4     741         2  rightEye   15   309.585062"
      ]
     },
     "execution_count": 16,
     "metadata": {},
     "output_type": "execute_result"
    }
   ],
   "source": [
    "ptsPerAOI.head()"
   ]
  },
  {
   "cell_type": "code",
   "execution_count": 17,
   "metadata": {},
   "outputs": [
    {
     "data": {
      "text/html": [
       "<div>\n",
       "<table border=\"1\" class=\"dataframe\">\n",
       "  <thead>\n",
       "    <tr style=\"text-align: right;\">\n",
       "      <th></th>\n",
       "      <th>subjID</th>\n",
       "      <th>trialNum</th>\n",
       "      <th>AOI</th>\n",
       "      <th>numFrames</th>\n",
       "      <th>AOI_time</th>\n",
       "    </tr>\n",
       "  </thead>\n",
       "  <tbody>\n",
       "    <tr>\n",
       "      <th>0</th>\n",
       "      <td>741</td>\n",
       "      <td>2</td>\n",
       "      <td>leftEye</td>\n",
       "      <td>14</td>\n",
       "      <td>288.946058</td>\n",
       "    </tr>\n",
       "    <tr>\n",
       "      <th>1</th>\n",
       "      <td>741</td>\n",
       "      <td>2</td>\n",
       "      <td>mouth</td>\n",
       "      <td>44</td>\n",
       "      <td>908.116183</td>\n",
       "    </tr>\n",
       "    <tr>\n",
       "      <th>2</th>\n",
       "      <td>741</td>\n",
       "      <td>2</td>\n",
       "      <td>none</td>\n",
       "      <td>144</td>\n",
       "      <td>2972.016598</td>\n",
       "    </tr>\n",
       "    <tr>\n",
       "      <th>3</th>\n",
       "      <td>741</td>\n",
       "      <td>2</td>\n",
       "      <td>nose</td>\n",
       "      <td>25</td>\n",
       "      <td>515.975104</td>\n",
       "    </tr>\n",
       "    <tr>\n",
       "      <th>4</th>\n",
       "      <td>741</td>\n",
       "      <td>2</td>\n",
       "      <td>rightEye</td>\n",
       "      <td>15</td>\n",
       "      <td>309.585062</td>\n",
       "    </tr>\n",
       "  </tbody>\n",
       "</table>\n",
       "</div>"
      ],
      "text/plain": [
       "   subjID  trialNum       AOI  numFrames     AOI_time\n",
       "0     741         2   leftEye         14   288.946058\n",
       "1     741         2     mouth         44   908.116183\n",
       "2     741         2      none        144  2972.016598\n",
       "3     741         2      nose         25   515.975104\n",
       "4     741         2  rightEye         15   309.585062"
      ]
     },
     "execution_count": 17,
     "metadata": {},
     "output_type": "execute_result"
    }
   ],
   "source": [
    "# basic cleanup and reformatting\n",
    "df_byAOIs = ptsPerAOI.copy()\n",
    "df_byAOIs = df_byAOIs.rename(columns={'ts':'numFrames'}) \n",
    "df_byAOIs.head()"
   ]
  },
  {
   "cell_type": "code",
   "execution_count": 18,
   "metadata": {
    "collapsed": true
   },
   "outputs": [],
   "source": [
    "# ok, now relabel the rows with stim names and stim categories\n",
    "def labelStim(row):\n",
    "    thisStim = df[(df.subjID == row['subjID']) & (df.trialNum == row['trialNum'])].iloc[0].stim\n",
    "    return thisStim\n",
    "\n",
    "def labelCategory(row):\n",
    "    thisCategory = df[(df.subjID == row['subjID']) & (df.trialNum == row['trialNum'])].iloc[0].stimCategory\n",
    "    return thisCategory\n",
    "    "
   ]
  },
  {
   "cell_type": "code",
   "execution_count": 19,
   "metadata": {},
   "outputs": [
    {
     "data": {
      "text/html": [
       "<div>\n",
       "<table border=\"1\" class=\"dataframe\">\n",
       "  <thead>\n",
       "    <tr style=\"text-align: right;\">\n",
       "      <th></th>\n",
       "      <th>subjID</th>\n",
       "      <th>trialNum</th>\n",
       "      <th>AOI</th>\n",
       "      <th>numFrames</th>\n",
       "      <th>AOI_time</th>\n",
       "      <th>stim</th>\n",
       "      <th>stimCategory</th>\n",
       "    </tr>\n",
       "  </thead>\n",
       "  <tbody>\n",
       "    <tr>\n",
       "      <th>0</th>\n",
       "      <td>741</td>\n",
       "      <td>2</td>\n",
       "      <td>leftEye</td>\n",
       "      <td>14</td>\n",
       "      <td>288.946058</td>\n",
       "      <td>_images707/hmn/hmn_wm04.jpg</td>\n",
       "      <td>human</td>\n",
       "    </tr>\n",
       "    <tr>\n",
       "      <th>1</th>\n",
       "      <td>741</td>\n",
       "      <td>2</td>\n",
       "      <td>mouth</td>\n",
       "      <td>44</td>\n",
       "      <td>908.116183</td>\n",
       "      <td>_images707/hmn/hmn_wm04.jpg</td>\n",
       "      <td>human</td>\n",
       "    </tr>\n",
       "    <tr>\n",
       "      <th>2</th>\n",
       "      <td>741</td>\n",
       "      <td>2</td>\n",
       "      <td>none</td>\n",
       "      <td>144</td>\n",
       "      <td>2972.016598</td>\n",
       "      <td>_images707/hmn/hmn_wm04.jpg</td>\n",
       "      <td>human</td>\n",
       "    </tr>\n",
       "    <tr>\n",
       "      <th>3</th>\n",
       "      <td>741</td>\n",
       "      <td>2</td>\n",
       "      <td>nose</td>\n",
       "      <td>25</td>\n",
       "      <td>515.975104</td>\n",
       "      <td>_images707/hmn/hmn_wm04.jpg</td>\n",
       "      <td>human</td>\n",
       "    </tr>\n",
       "    <tr>\n",
       "      <th>4</th>\n",
       "      <td>741</td>\n",
       "      <td>2</td>\n",
       "      <td>rightEye</td>\n",
       "      <td>15</td>\n",
       "      <td>309.585062</td>\n",
       "      <td>_images707/hmn/hmn_wm04.jpg</td>\n",
       "      <td>human</td>\n",
       "    </tr>\n",
       "  </tbody>\n",
       "</table>\n",
       "</div>"
      ],
      "text/plain": [
       "   subjID  trialNum       AOI  numFrames     AOI_time  \\\n",
       "0     741         2   leftEye         14   288.946058   \n",
       "1     741         2     mouth         44   908.116183   \n",
       "2     741         2      none        144  2972.016598   \n",
       "3     741         2      nose         25   515.975104   \n",
       "4     741         2  rightEye         15   309.585062   \n",
       "\n",
       "                          stim stimCategory  \n",
       "0  _images707/hmn/hmn_wm04.jpg        human  \n",
       "1  _images707/hmn/hmn_wm04.jpg        human  \n",
       "2  _images707/hmn/hmn_wm04.jpg        human  \n",
       "3  _images707/hmn/hmn_wm04.jpg        human  \n",
       "4  _images707/hmn/hmn_wm04.jpg        human  "
      ]
     },
     "execution_count": 19,
     "metadata": {},
     "output_type": "execute_result"
    }
   ],
   "source": [
    "df_byAOIs['stim'] = df_byAOIs.apply(labelStim, axis=1)\n",
    "df_byAOIs['stimCategory'] = df_byAOIs.apply(labelCategory, axis=1)\n",
    "\n",
    "df_byAOIs.head()"
   ]
  },
  {
   "cell_type": "markdown",
   "metadata": {},
   "source": [
    "---\n",
    "### Calculate the eye-bias score for each trial"
   ]
  },
  {
   "cell_type": "code",
   "execution_count": 20,
   "metadata": {
    "collapsed": true
   },
   "outputs": [],
   "source": [
    "# create a dataframe with just the rows corresponding to eye AOIs\n",
    "df_eyesOnly = df_byAOIs[(df_byAOIs.AOI == 'leftEye') | (df_byAOIs.AOI == 'rightEye')]\n",
    "\n",
    "# go through each trial, and calculate the eyeBias score\n",
    "for i, (name, group) in enumerate(df_eyesOnly.groupby(['subjID', 'trialNum'])):\n",
    "    # check to make sure the values exist for each eye\n",
    "    if 'rightEye' not in group['AOI'].values:\n",
    "        rightEyeTime = 0\n",
    "    else:\n",
    "        rightEyeTime = group[group['AOI'] == 'rightEye'].AOI_time.item()\n",
    "        \n",
    "    if 'leftEye' not in group['AOI'].values:\n",
    "        leftEyeTime = 0\n",
    "    else:\n",
    "        leftEyeTime = group[group['AOI'] == 'leftEye'].AOI_time.item()\n",
    "    \n",
    "    # calculate eyeBias as right eye minus left eye\n",
    "    eyeBias = rightEyeTime - leftEyeTime\n",
    "    \n",
    "    # get other values for this row\n",
    "    subj = group.subjID.iloc[0]\n",
    "    trialNum = group.trialNum.iloc[0]\n",
    "    stim = group.stim.iloc[0]\n",
    "    stimCategory = group.stimCategory.iloc[0]\n",
    "    \n",
    "    # construct into a series object\n",
    "    thisRow = {'subjID': subj,\n",
    "                        'trialNum': trialNum,\n",
    "                        'stim':stim,\n",
    "                        'stimCategory': stimCategory,\n",
    "                        'eyeBias':eyeBias}\n",
    "    if i == 0:\n",
    "        df_eyeBias = pd.DataFrame(thisRow, index=[0])\n",
    "    else:\n",
    "        df_eyeBias = df_eyeBias.append(thisRow, ignore_index=True)"
   ]
  },
  {
   "cell_type": "code",
   "execution_count": 21,
   "metadata": {},
   "outputs": [
    {
     "data": {
      "text/html": [
       "<div>\n",
       "<table border=\"1\" class=\"dataframe\">\n",
       "  <thead>\n",
       "    <tr style=\"text-align: right;\">\n",
       "      <th></th>\n",
       "      <th>eyeBias</th>\n",
       "      <th>stim</th>\n",
       "      <th>stimCategory</th>\n",
       "      <th>subjID</th>\n",
       "      <th>trialNum</th>\n",
       "    </tr>\n",
       "  </thead>\n",
       "  <tbody>\n",
       "    <tr>\n",
       "      <th>0</th>\n",
       "      <td>20.639004</td>\n",
       "      <td>_images707/hmn/hmn_wm04.jpg</td>\n",
       "      <td>human</td>\n",
       "      <td>741</td>\n",
       "      <td>2</td>\n",
       "    </tr>\n",
       "    <tr>\n",
       "      <th>1</th>\n",
       "      <td>264.840426</td>\n",
       "      <td>_images707/animal/cat03.jpg</td>\n",
       "      <td>animal</td>\n",
       "      <td>741</td>\n",
       "      <td>6</td>\n",
       "    </tr>\n",
       "    <tr>\n",
       "      <th>2</th>\n",
       "      <td>-2953.435484</td>\n",
       "      <td>_images707/FLO/flo07.jpg</td>\n",
       "      <td>FLO</td>\n",
       "      <td>741</td>\n",
       "      <td>8</td>\n",
       "    </tr>\n",
       "    <tr>\n",
       "      <th>3</th>\n",
       "      <td>-105.063830</td>\n",
       "      <td>_images707/hmn/hmn_wf04.jpg</td>\n",
       "      <td>human</td>\n",
       "      <td>741</td>\n",
       "      <td>14</td>\n",
       "    </tr>\n",
       "    <tr>\n",
       "      <th>4</th>\n",
       "      <td>-78.444444</td>\n",
       "      <td>_images707/FLO/flo09.jpg</td>\n",
       "      <td>FLO</td>\n",
       "      <td>741</td>\n",
       "      <td>15</td>\n",
       "    </tr>\n",
       "  </tbody>\n",
       "</table>\n",
       "</div>"
      ],
      "text/plain": [
       "       eyeBias                         stim stimCategory  subjID  trialNum\n",
       "0    20.639004  _images707/hmn/hmn_wm04.jpg        human     741         2\n",
       "1   264.840426  _images707/animal/cat03.jpg       animal     741         6\n",
       "2 -2953.435484     _images707/FLO/flo07.jpg          FLO     741         8\n",
       "3  -105.063830  _images707/hmn/hmn_wf04.jpg        human     741        14\n",
       "4   -78.444444     _images707/FLO/flo09.jpg          FLO     741        15"
      ]
     },
     "execution_count": 21,
     "metadata": {},
     "output_type": "execute_result"
    }
   ],
   "source": [
    "df_eyeBias.head()"
   ]
  },
  {
   "cell_type": "code",
   "execution_count": 22,
   "metadata": {
    "collapsed": true
   },
   "outputs": [],
   "source": [
    "# create within-subject average eyeBias by image category table\n",
    "df_eyeBias_bySubj = df_eyeBias.groupby(['subjID', 'stimCategory'], as_index=False).mean()\n",
    "\n",
    "# drop the trialNum category, since the mean trialNum by condition is irrelevent\n",
    "df_eyeBias_bySubj.drop('trialNum', axis=1, inplace=True)"
   ]
  },
  {
   "cell_type": "code",
   "execution_count": 23,
   "metadata": {},
   "outputs": [
    {
     "data": {
      "text/html": [
       "<div>\n",
       "<table border=\"1\" class=\"dataframe\">\n",
       "  <thead>\n",
       "    <tr style=\"text-align: right;\">\n",
       "      <th></th>\n",
       "      <th>subjID</th>\n",
       "      <th>stimCategory</th>\n",
       "      <th>eyeBias</th>\n",
       "    </tr>\n",
       "  </thead>\n",
       "  <tbody>\n",
       "    <tr>\n",
       "      <th>0</th>\n",
       "      <td>741</td>\n",
       "      <td>FLO</td>\n",
       "      <td>-1091.593856</td>\n",
       "    </tr>\n",
       "    <tr>\n",
       "      <th>1</th>\n",
       "      <td>741</td>\n",
       "      <td>animal</td>\n",
       "      <td>-55.396305</td>\n",
       "    </tr>\n",
       "    <tr>\n",
       "      <th>2</th>\n",
       "      <td>741</td>\n",
       "      <td>human</td>\n",
       "      <td>-387.669680</td>\n",
       "    </tr>\n",
       "    <tr>\n",
       "      <th>3</th>\n",
       "      <td>741</td>\n",
       "      <td>portrait</td>\n",
       "      <td>-573.609600</td>\n",
       "    </tr>\n",
       "    <tr>\n",
       "      <th>4</th>\n",
       "      <td>1164</td>\n",
       "      <td>FLO</td>\n",
       "      <td>-48.692684</td>\n",
       "    </tr>\n",
       "    <tr>\n",
       "      <th>5</th>\n",
       "      <td>1164</td>\n",
       "      <td>animal</td>\n",
       "      <td>-133.085889</td>\n",
       "    </tr>\n",
       "    <tr>\n",
       "      <th>6</th>\n",
       "      <td>1164</td>\n",
       "      <td>human</td>\n",
       "      <td>-197.855359</td>\n",
       "    </tr>\n",
       "    <tr>\n",
       "      <th>7</th>\n",
       "      <td>1164</td>\n",
       "      <td>portrait</td>\n",
       "      <td>196.327958</td>\n",
       "    </tr>\n",
       "    <tr>\n",
       "      <th>8</th>\n",
       "      <td>20649</td>\n",
       "      <td>FLO</td>\n",
       "      <td>14.929413</td>\n",
       "    </tr>\n",
       "    <tr>\n",
       "      <th>9</th>\n",
       "      <td>20649</td>\n",
       "      <td>animal</td>\n",
       "      <td>-116.184210</td>\n",
       "    </tr>\n",
       "  </tbody>\n",
       "</table>\n",
       "</div>"
      ],
      "text/plain": [
       "   subjID stimCategory      eyeBias\n",
       "0     741          FLO -1091.593856\n",
       "1     741       animal   -55.396305\n",
       "2     741        human  -387.669680\n",
       "3     741     portrait  -573.609600\n",
       "4    1164          FLO   -48.692684\n",
       "5    1164       animal  -133.085889\n",
       "6    1164        human  -197.855359\n",
       "7    1164     portrait   196.327958\n",
       "8   20649          FLO    14.929413\n",
       "9   20649       animal  -116.184210"
      ]
     },
     "execution_count": 23,
     "metadata": {},
     "output_type": "execute_result"
    }
   ],
   "source": [
    "df_eyeBias_bySubj.head(10)"
   ]
  },
  {
   "cell_type": "markdown",
   "metadata": {},
   "source": [
    "### Add gender and handedness to the dataframe"
   ]
  },
  {
   "cell_type": "code",
   "execution_count": 24,
   "metadata": {
    "collapsed": true
   },
   "outputs": [],
   "source": [
    "dem_data = pd.read_table('../../data/groupData/AbsFace Demographics_May 11, 2017_19.30.csv', sep=',')"
   ]
  },
  {
   "cell_type": "markdown",
   "metadata": {},
   "source": [
    "Q1 - WBL ID;\n",
    "Q2 - Age;\n",
    "Q3 - Gender;\n",
    "Q15 - Handedness"
   ]
  },
  {
   "cell_type": "code",
   "execution_count": 25,
   "metadata": {
    "collapsed": true
   },
   "outputs": [],
   "source": [
    "dem_data = dem_data[['Q1', 'Q2', 'Q3', 'Q15']]"
   ]
  },
  {
   "cell_type": "code",
   "execution_count": 26,
   "metadata": {
    "collapsed": true
   },
   "outputs": [],
   "source": [
    "def labelGender(row):\n",
    "    \"find the gender based on subjID\"\n",
    "    subjID = str(row['subjID']) # get the subjID\n",
    "    \n",
    "    # grab the row with the subject's demographic data\n",
    "    subj_dem = dem_data[dem_data.Q1.str.find(subjID) == 0]\n",
    "    \n",
    "    return subj_dem.Q3.values[0]\n",
    "\n",
    "\n",
    "def labelHandedness(row):\n",
    "    \"find the handedness based on subjID\"\n",
    "    subjID = str(row['subjID']) # get the subjID\n",
    "    \n",
    "    # grab the row with the subject's demographic data\n",
    "    subj_dem = dem_data[dem_data.Q1.str.find(subjID) == 0]\n",
    "    \n",
    "    return subj_dem.Q15.values[0]"
   ]
  },
  {
   "cell_type": "code",
   "execution_count": 27,
   "metadata": {},
   "outputs": [
    {
     "data": {
      "text/html": [
       "<div>\n",
       "<table border=\"1\" class=\"dataframe\">\n",
       "  <thead>\n",
       "    <tr style=\"text-align: right;\">\n",
       "      <th></th>\n",
       "      <th>subjID</th>\n",
       "      <th>stimCategory</th>\n",
       "      <th>eyeBias</th>\n",
       "      <th>gender</th>\n",
       "      <th>handedness</th>\n",
       "    </tr>\n",
       "  </thead>\n",
       "  <tbody>\n",
       "    <tr>\n",
       "      <th>0</th>\n",
       "      <td>741</td>\n",
       "      <td>FLO</td>\n",
       "      <td>-1091.593856</td>\n",
       "      <td>Male</td>\n",
       "      <td>Right-handed</td>\n",
       "    </tr>\n",
       "    <tr>\n",
       "      <th>1</th>\n",
       "      <td>741</td>\n",
       "      <td>animal</td>\n",
       "      <td>-55.396305</td>\n",
       "      <td>Male</td>\n",
       "      <td>Right-handed</td>\n",
       "    </tr>\n",
       "    <tr>\n",
       "      <th>2</th>\n",
       "      <td>741</td>\n",
       "      <td>human</td>\n",
       "      <td>-387.669680</td>\n",
       "      <td>Male</td>\n",
       "      <td>Right-handed</td>\n",
       "    </tr>\n",
       "    <tr>\n",
       "      <th>3</th>\n",
       "      <td>741</td>\n",
       "      <td>portrait</td>\n",
       "      <td>-573.609600</td>\n",
       "      <td>Male</td>\n",
       "      <td>Right-handed</td>\n",
       "    </tr>\n",
       "    <tr>\n",
       "      <th>4</th>\n",
       "      <td>1164</td>\n",
       "      <td>FLO</td>\n",
       "      <td>-48.692684</td>\n",
       "      <td>Male</td>\n",
       "      <td>Right-handed</td>\n",
       "    </tr>\n",
       "    <tr>\n",
       "      <th>5</th>\n",
       "      <td>1164</td>\n",
       "      <td>animal</td>\n",
       "      <td>-133.085889</td>\n",
       "      <td>Male</td>\n",
       "      <td>Right-handed</td>\n",
       "    </tr>\n",
       "    <tr>\n",
       "      <th>6</th>\n",
       "      <td>1164</td>\n",
       "      <td>human</td>\n",
       "      <td>-197.855359</td>\n",
       "      <td>Male</td>\n",
       "      <td>Right-handed</td>\n",
       "    </tr>\n",
       "    <tr>\n",
       "      <th>7</th>\n",
       "      <td>1164</td>\n",
       "      <td>portrait</td>\n",
       "      <td>196.327958</td>\n",
       "      <td>Male</td>\n",
       "      <td>Right-handed</td>\n",
       "    </tr>\n",
       "    <tr>\n",
       "      <th>8</th>\n",
       "      <td>20649</td>\n",
       "      <td>FLO</td>\n",
       "      <td>14.929413</td>\n",
       "      <td>Female</td>\n",
       "      <td>Left-handed</td>\n",
       "    </tr>\n",
       "    <tr>\n",
       "      <th>9</th>\n",
       "      <td>20649</td>\n",
       "      <td>animal</td>\n",
       "      <td>-116.184210</td>\n",
       "      <td>Female</td>\n",
       "      <td>Left-handed</td>\n",
       "    </tr>\n",
       "  </tbody>\n",
       "</table>\n",
       "</div>"
      ],
      "text/plain": [
       "   subjID stimCategory      eyeBias  gender    handedness\n",
       "0     741          FLO -1091.593856    Male  Right-handed\n",
       "1     741       animal   -55.396305    Male  Right-handed\n",
       "2     741        human  -387.669680    Male  Right-handed\n",
       "3     741     portrait  -573.609600    Male  Right-handed\n",
       "4    1164          FLO   -48.692684    Male  Right-handed\n",
       "5    1164       animal  -133.085889    Male  Right-handed\n",
       "6    1164        human  -197.855359    Male  Right-handed\n",
       "7    1164     portrait   196.327958    Male  Right-handed\n",
       "8   20649          FLO    14.929413  Female   Left-handed\n",
       "9   20649       animal  -116.184210  Female   Left-handed"
      ]
     },
     "execution_count": 27,
     "metadata": {},
     "output_type": "execute_result"
    }
   ],
   "source": [
    "df_eyeBias_bySubj['gender'] = df_eyeBias_bySubj.apply(labelGender, axis=1)\n",
    "df_eyeBias_bySubj['handedness'] = df_eyeBias_bySubj.apply(labelHandedness, axis=1)\n",
    "\n",
    "df_eyeBias_bySubj.head(10)"
   ]
  },
  {
   "cell_type": "markdown",
   "metadata": {},
   "source": [
    "### Formatting done! \n",
    "Save"
   ]
  },
  {
   "cell_type": "code",
   "execution_count": 28,
   "metadata": {
    "collapsed": true
   },
   "outputs": [],
   "source": [
    "# write out this out to text file to avoid all this formatting next time it's loaded\n",
    "df_eyeBias_bySubj.to_csv('eyeBias_subjAvgByCategory.tsv', sep='\\t', index=False)"
   ]
  },
  {
   "cell_type": "markdown",
   "metadata": {},
   "source": [
    "--- \n",
    "# Load Preprocessed Data"
   ]
  },
  {
   "cell_type": "code",
   "execution_count": 31,
   "metadata": {
    "collapsed": true
   },
   "outputs": [],
   "source": [
    "df = pd.read_table('eyeBias_subjAvgByCategory.tsv', sep='\\t')"
   ]
  },
  {
   "cell_type": "code",
   "execution_count": 32,
   "metadata": {},
   "outputs": [
    {
     "data": {
      "text/html": [
       "<div>\n",
       "<table border=\"1\" class=\"dataframe\">\n",
       "  <thead>\n",
       "    <tr style=\"text-align: right;\">\n",
       "      <th></th>\n",
       "      <th>subjID</th>\n",
       "      <th>stimCategory</th>\n",
       "      <th>eyeBias</th>\n",
       "      <th>gender</th>\n",
       "      <th>handedness</th>\n",
       "    </tr>\n",
       "  </thead>\n",
       "  <tbody>\n",
       "    <tr>\n",
       "      <th>0</th>\n",
       "      <td>741</td>\n",
       "      <td>FLO</td>\n",
       "      <td>-1091.593856</td>\n",
       "      <td>Male</td>\n",
       "      <td>Right-handed</td>\n",
       "    </tr>\n",
       "    <tr>\n",
       "      <th>1</th>\n",
       "      <td>741</td>\n",
       "      <td>animal</td>\n",
       "      <td>-55.396305</td>\n",
       "      <td>Male</td>\n",
       "      <td>Right-handed</td>\n",
       "    </tr>\n",
       "    <tr>\n",
       "      <th>2</th>\n",
       "      <td>741</td>\n",
       "      <td>human</td>\n",
       "      <td>-387.669680</td>\n",
       "      <td>Male</td>\n",
       "      <td>Right-handed</td>\n",
       "    </tr>\n",
       "    <tr>\n",
       "      <th>3</th>\n",
       "      <td>741</td>\n",
       "      <td>portrait</td>\n",
       "      <td>-573.609600</td>\n",
       "      <td>Male</td>\n",
       "      <td>Right-handed</td>\n",
       "    </tr>\n",
       "    <tr>\n",
       "      <th>4</th>\n",
       "      <td>1164</td>\n",
       "      <td>FLO</td>\n",
       "      <td>-48.692684</td>\n",
       "      <td>Male</td>\n",
       "      <td>Right-handed</td>\n",
       "    </tr>\n",
       "    <tr>\n",
       "      <th>5</th>\n",
       "      <td>1164</td>\n",
       "      <td>animal</td>\n",
       "      <td>-133.085889</td>\n",
       "      <td>Male</td>\n",
       "      <td>Right-handed</td>\n",
       "    </tr>\n",
       "    <tr>\n",
       "      <th>6</th>\n",
       "      <td>1164</td>\n",
       "      <td>human</td>\n",
       "      <td>-197.855359</td>\n",
       "      <td>Male</td>\n",
       "      <td>Right-handed</td>\n",
       "    </tr>\n",
       "    <tr>\n",
       "      <th>7</th>\n",
       "      <td>1164</td>\n",
       "      <td>portrait</td>\n",
       "      <td>196.327958</td>\n",
       "      <td>Male</td>\n",
       "      <td>Right-handed</td>\n",
       "    </tr>\n",
       "    <tr>\n",
       "      <th>8</th>\n",
       "      <td>20649</td>\n",
       "      <td>FLO</td>\n",
       "      <td>14.929413</td>\n",
       "      <td>Female</td>\n",
       "      <td>Left-handed</td>\n",
       "    </tr>\n",
       "    <tr>\n",
       "      <th>9</th>\n",
       "      <td>20649</td>\n",
       "      <td>animal</td>\n",
       "      <td>-116.184210</td>\n",
       "      <td>Female</td>\n",
       "      <td>Left-handed</td>\n",
       "    </tr>\n",
       "  </tbody>\n",
       "</table>\n",
       "</div>"
      ],
      "text/plain": [
       "   subjID stimCategory      eyeBias  gender    handedness\n",
       "0     741          FLO -1091.593856    Male  Right-handed\n",
       "1     741       animal   -55.396305    Male  Right-handed\n",
       "2     741        human  -387.669680    Male  Right-handed\n",
       "3     741     portrait  -573.609600    Male  Right-handed\n",
       "4    1164          FLO   -48.692684    Male  Right-handed\n",
       "5    1164       animal  -133.085889    Male  Right-handed\n",
       "6    1164        human  -197.855359    Male  Right-handed\n",
       "7    1164     portrait   196.327958    Male  Right-handed\n",
       "8   20649          FLO    14.929413  Female   Left-handed\n",
       "9   20649       animal  -116.184210  Female   Left-handed"
      ]
     },
     "execution_count": 32,
     "metadata": {},
     "output_type": "execute_result"
    }
   ],
   "source": [
    "df.head(10)"
   ]
  },
  {
   "cell_type": "markdown",
   "metadata": {},
   "source": [
    "### Basic checks"
   ]
  },
  {
   "cell_type": "code",
   "execution_count": 33,
   "metadata": {},
   "outputs": [],
   "source": [
    "subjGenders = df.groupby('subjID').apply(lambda x: x['gender'].iloc[0])"
   ]
  },
  {
   "cell_type": "code",
   "execution_count": 34,
   "metadata": {},
   "outputs": [
    {
     "data": {
      "text/plain": [
       "<matplotlib.axes._subplots.AxesSubplot at 0x1191ff860>"
      ]
     },
     "execution_count": 34,
     "metadata": {},
     "output_type": "execute_result"
    },
    {
     "data": {
      "image/png": "[encoded data removed]",
      "text/plain": [
       "<matplotlib.figure.Figure at 0x10e9bf5f8>"
      ]
     },
     "metadata": {},
     "output_type": "display_data"
    }
   ],
   "source": [
    "subjGenders.value_counts().plot(kind='bar')"
   ]
  },
  {
   "cell_type": "markdown",
   "metadata": {},
   "source": [
    "For purposes of including 'gender' as a factor in the model, exclude the one 'other' response"
   ]
  },
  {
   "cell_type": "code",
   "execution_count": 35,
   "metadata": {
    "collapsed": true
   },
   "outputs": [],
   "source": [
    "df = df[(df.gender == 'Male') | (df.gender == 'Female')]"
   ]
  },
  {
   "cell_type": "code",
   "execution_count": 36,
   "metadata": {
    "collapsed": true
   },
   "outputs": [],
   "source": [
    "subjHandedness = df.groupby('subjID').apply(lambda x: x['handedness'].iloc[0])"
   ]
  },
  {
   "cell_type": "code",
   "execution_count": 37,
   "metadata": {},
   "outputs": [
    {
     "data": {
      "text/plain": [
       "<matplotlib.axes._subplots.AxesSubplot at 0x115be8198>"
      ]
     },
     "execution_count": 37,
     "metadata": {},
     "output_type": "execute_result"
    },
    {
     "data": {
      "image/png": "[encoded data removed]",
      "text/plain": [
       "<matplotlib.figure.Figure at 0x11110beb8>"
      ]
     },
     "metadata": {},
     "output_type": "display_data"
    }
   ],
   "source": [
    "subjHandedness.value_counts().plot(kind='bar')"
   ]
  },
  {
   "cell_type": "markdown",
   "metadata": {},
   "source": [
    "## Plot eyeBias by stim Category"
   ]
  },
  {
   "cell_type": "code",
   "execution_count": 38,
   "metadata": {
    "collapsed": true
   },
   "outputs": [],
   "source": [
    "sns.set_style('whitegrid')\n",
    "matplotlib.rc('ytick', labelsize=15)\n",
    "matplotlib.rc('xtick', labelsize=15)"
   ]
  },
  {
   "cell_type": "code",
   "execution_count": 39,
   "metadata": {},
   "outputs": [
    {
     "data": {
      "text/plain": [
       "<matplotlib.lines.Line2D at 0x115d6d390>"
      ]
     },
     "execution_count": 39,
     "metadata": {},
     "output_type": "execute_result"
    },
    {
     "data": {
      "image/png": "[encoded data removed]",
      "text/plain": [
       "<matplotlib.figure.Figure at 0x115d70f28>"
      ]
     },
     "metadata": {},
     "output_type": "display_data"
    }
   ],
   "source": [
    "# plot by stim category and gender\n",
    "fig = plt.figure(figsize=(12,6))\n",
    "\n",
    "sns.violinplot(x='eyeBias', y='stimCategory', hue='gender', \n",
    "               data=df, split='True',\n",
    "              inner='quartile', palette='Paired')\n",
    "sns.despine(offset=15)\n",
    "\n",
    "\n",
    "plt.legend(loc=4, prop={'size':20})\n",
    "plt.gca().set_xlim(-1500, 1500)\n",
    "\n",
    "plt.axvline(x=0, lw=1, c='red')"
   ]
  },
  {
   "cell_type": "code",
   "execution_count": 40,
   "metadata": {},
   "outputs": [
    {
     "data": {
      "text/plain": [
       "<matplotlib.lines.Line2D at 0x116a917f0>"
      ]
     },
     "execution_count": 40,
     "metadata": {},
     "output_type": "execute_result"
    },
    {
     "data": {
      "image/png": "[encoded data removed]",
      "text/plain": [
       "<matplotlib.figure.Figure at 0x116a94240>"
      ]
     },
     "metadata": {},
     "output_type": "display_data"
    }
   ],
   "source": [
    "# plot by stim category and handedness\n",
    "fig = plt.figure(figsize=(12,6))\n",
    "\n",
    "sns.violinplot(x='eyeBias', y='stimCategory', hue='handedness', \n",
    "               data=df, split='True',\n",
    "              inner='quartile', palette='Set2')\n",
    "sns.despine(offset=15)\n",
    "\n",
    "plt.legend(loc=4, prop={'size':20})\n",
    "plt.gca().set_xlim(-1500, 1500)\n",
    "\n",
    "plt.axvline(x=0, lw=1, c='red')"
   ]
  },
  {
   "cell_type": "markdown",
   "metadata": {},
   "source": [
    "### Build a model predicting eyeBias "
   ]
  },
  {
   "cell_type": "code",
   "execution_count": 41,
   "metadata": {
    "collapsed": true
   },
   "outputs": [],
   "source": [
    "import statsmodels.api as sm\n",
    "from statsmodels.formula.api import ols\n",
    "from statsmodels.stats.anova import anova_lm\n",
    "from statsmodels.graphics.factorplots import interaction_plot\n"
   ]
  },
  {
   "cell_type": "code",
   "execution_count": 42,
   "metadata": {},
   "outputs": [
    {
     "data": {
      "image/png": "[encoded data removed]",
      "text/plain": [
       "<matplotlib.figure.Figure at 0x115d4c908>"
      ]
     },
     "metadata": {},
     "output_type": "display_data"
    }
   ],
   "source": [
    "fig = interaction_plot(df.stimCategory, df.gender, df.eyeBias)"
   ]
  },
  {
   "cell_type": "code",
   "execution_count": 43,
   "metadata": {},
   "outputs": [
    {
     "name": "stdout",
     "output_type": "stream",
     "text": [
      "                            OLS Regression Results                            \n",
      "==============================================================================\n",
      "Dep. Variable:                eyeBias   R-squared:                       0.038\n",
      "Model:                            OLS   Adj. R-squared:                  0.019\n",
      "Method:                 Least Squares   F-statistic:                     1.997\n",
      "Date:                Mon, 26 Jun 2017   Prob (F-statistic):             0.0659\n",
      "Time:                        13:56:54   Log-Likelihood:                -2200.3\n",
      "No. Observations:                 308   AIC:                             4415.\n",
      "Df Residuals:                     301   BIC:                             4441.\n",
      "Df Model:                           6                                         \n",
      "Covariance Type:            nonrobust                                         \n",
      "=================================================================================================\n",
      "                                    coef    std err          t      P>|t|      [0.025      0.975]\n",
      "-------------------------------------------------------------------------------------------------\n",
      "C(gender)[Female]              -156.1107     57.016     -2.738      0.007    -268.312     -43.909\n",
      "C(gender)[Male]                -138.5888     61.957     -2.237      0.026    -260.513     -16.664\n",
      "C(handedness)[T.Right-handed]   -37.8270     50.209     -0.753      0.452    -136.633      60.979\n",
      "C(stimCategory)[T.animal]       161.3898     51.665      3.124      0.002      59.719     263.061\n",
      "C(stimCategory)[T.faceFood]     134.0505     78.708      1.703      0.090     -20.836     288.937\n",
      "C(stimCategory)[T.human]        113.7060     51.665      2.201      0.029      12.035     215.377\n",
      "C(stimCategory)[T.portrait]      62.7549     51.665      1.215      0.225     -38.916     164.426\n",
      "==============================================================================\n",
      "Omnibus:                       31.919   Durbin-Watson:                   1.845\n",
      "Prob(Omnibus):                  0.000   Jarque-Bera (JB):              156.010\n",
      "Skew:                           0.149   Prob(JB):                     1.33e-34\n",
      "Kurtosis:                       6.474   Cond. No.                         7.41\n",
      "==============================================================================\n",
      "\n",
      "Warnings:\n",
      "[1] Standard Errors assume that the covariance matrix of the errors is correctly specified.\n"
     ]
    }
   ],
   "source": [
    "formula = 'eyeBias ~ 0 + C(gender) + C(handedness) + C(stimCategory)'\n",
    "lm = ols(formula, df).fit()\n",
    "aov_table = anova_lm(lm, typ=2)\n",
    "print(lm.summary())"
   ]
  },
  {
   "cell_type": "code",
   "execution_count": 44,
   "metadata": {},
   "outputs": [
    {
     "name": "stdout",
     "output_type": "stream",
     "text": [
      "                       sum_sq     df         F    PR(>F)\n",
      "C(gender)        7.205052e+05    2.0  3.748936  0.024649\n",
      "C(handedness)    5.454235e+04    1.0  0.567590  0.451807\n",
      "C(stimCategory)  1.080719e+06    4.0  2.811601  0.025702\n",
      "Residual         2.892448e+07  301.0       NaN       NaN\n"
     ]
    }
   ],
   "source": [
    "print(aov_table)"
   ]
  },
  {
   "cell_type": "code",
   "execution_count": 45,
   "metadata": {},
   "outputs": [
    {
     "data": {
      "text/html": [
       "<div>\n",
       "<table border=\"1\" class=\"dataframe\">\n",
       "  <thead>\n",
       "    <tr style=\"text-align: right;\">\n",
       "      <th></th>\n",
       "      <th>C(gender)[Female]</th>\n",
       "      <th>C(gender)[Male]</th>\n",
       "      <th>C(handedness)[T.Right-handed]</th>\n",
       "      <th>C(stimCategory)[T.animal]</th>\n",
       "      <th>C(stimCategory)[T.faceFood]</th>\n",
       "      <th>C(stimCategory)[T.human]</th>\n",
       "      <th>C(stimCategory)[T.portrait]</th>\n",
       "    </tr>\n",
       "  </thead>\n",
       "  <tbody>\n",
       "    <tr>\n",
       "      <th>0</th>\n",
       "      <td>0.0</td>\n",
       "      <td>1.0</td>\n",
       "      <td>1.0</td>\n",
       "      <td>0.0</td>\n",
       "      <td>0.0</td>\n",
       "      <td>0.0</td>\n",
       "      <td>0.0</td>\n",
       "    </tr>\n",
       "    <tr>\n",
       "      <th>1</th>\n",
       "      <td>0.0</td>\n",
       "      <td>1.0</td>\n",
       "      <td>1.0</td>\n",
       "      <td>1.0</td>\n",
       "      <td>0.0</td>\n",
       "      <td>0.0</td>\n",
       "      <td>0.0</td>\n",
       "    </tr>\n",
       "    <tr>\n",
       "      <th>2</th>\n",
       "      <td>0.0</td>\n",
       "      <td>1.0</td>\n",
       "      <td>1.0</td>\n",
       "      <td>0.0</td>\n",
       "      <td>0.0</td>\n",
       "      <td>1.0</td>\n",
       "      <td>0.0</td>\n",
       "    </tr>\n",
       "    <tr>\n",
       "      <th>3</th>\n",
       "      <td>0.0</td>\n",
       "      <td>1.0</td>\n",
       "      <td>1.0</td>\n",
       "      <td>0.0</td>\n",
       "      <td>0.0</td>\n",
       "      <td>0.0</td>\n",
       "      <td>1.0</td>\n",
       "    </tr>\n",
       "    <tr>\n",
       "      <th>4</th>\n",
       "      <td>0.0</td>\n",
       "      <td>1.0</td>\n",
       "      <td>1.0</td>\n",
       "      <td>0.0</td>\n",
       "      <td>0.0</td>\n",
       "      <td>0.0</td>\n",
       "      <td>0.0</td>\n",
       "    </tr>\n",
       "    <tr>\n",
       "      <th>5</th>\n",
       "      <td>0.0</td>\n",
       "      <td>1.0</td>\n",
       "      <td>1.0</td>\n",
       "      <td>1.0</td>\n",
       "      <td>0.0</td>\n",
       "      <td>0.0</td>\n",
       "      <td>0.0</td>\n",
       "    </tr>\n",
       "    <tr>\n",
       "      <th>6</th>\n",
       "      <td>0.0</td>\n",
       "      <td>1.0</td>\n",
       "      <td>1.0</td>\n",
       "      <td>0.0</td>\n",
       "      <td>0.0</td>\n",
       "      <td>1.0</td>\n",
       "      <td>0.0</td>\n",
       "    </tr>\n",
       "    <tr>\n",
       "      <th>7</th>\n",
       "      <td>0.0</td>\n",
       "      <td>1.0</td>\n",
       "      <td>1.0</td>\n",
       "      <td>0.0</td>\n",
       "      <td>0.0</td>\n",
       "      <td>0.0</td>\n",
       "      <td>1.0</td>\n",
       "    </tr>\n",
       "    <tr>\n",
       "      <th>8</th>\n",
       "      <td>1.0</td>\n",
       "      <td>0.0</td>\n",
       "      <td>0.0</td>\n",
       "      <td>0.0</td>\n",
       "      <td>0.0</td>\n",
       "      <td>0.0</td>\n",
       "      <td>0.0</td>\n",
       "    </tr>\n",
       "    <tr>\n",
       "      <th>9</th>\n",
       "      <td>1.0</td>\n",
       "      <td>0.0</td>\n",
       "      <td>0.0</td>\n",
       "      <td>1.0</td>\n",
       "      <td>0.0</td>\n",
       "      <td>0.0</td>\n",
       "      <td>0.0</td>\n",
       "    </tr>\n",
       "  </tbody>\n",
       "</table>\n",
       "</div>"
      ],
      "text/plain": [
       "   C(gender)[Female]  C(gender)[Male]  C(handedness)[T.Right-handed]  \\\n",
       "0                0.0              1.0                            1.0   \n",
       "1                0.0              1.0                            1.0   \n",
       "2                0.0              1.0                            1.0   \n",
       "3                0.0              1.0                            1.0   \n",
       "4                0.0              1.0                            1.0   \n",
       "5                0.0              1.0                            1.0   \n",
       "6                0.0              1.0                            1.0   \n",
       "7                0.0              1.0                            1.0   \n",
       "8                1.0              0.0                            0.0   \n",
       "9                1.0              0.0                            0.0   \n",
       "\n",
       "   C(stimCategory)[T.animal]  C(stimCategory)[T.faceFood]  \\\n",
       "0                        0.0                          0.0   \n",
       "1                        1.0                          0.0   \n",
       "2                        0.0                          0.0   \n",
       "3                        0.0                          0.0   \n",
       "4                        0.0                          0.0   \n",
       "5                        1.0                          0.0   \n",
       "6                        0.0                          0.0   \n",
       "7                        0.0                          0.0   \n",
       "8                        0.0                          0.0   \n",
       "9                        1.0                          0.0   \n",
       "\n",
       "   C(stimCategory)[T.human]  C(stimCategory)[T.portrait]  \n",
       "0                       0.0                          0.0  \n",
       "1                       0.0                          0.0  \n",
       "2                       1.0                          0.0  \n",
       "3                       0.0                          1.0  \n",
       "4                       0.0                          0.0  \n",
       "5                       0.0                          0.0  \n",
       "6                       1.0                          0.0  \n",
       "7                       0.0                          1.0  \n",
       "8                       0.0                          0.0  \n",
       "9                       0.0                          0.0  "
      ]
     },
     "execution_count": 45,
     "metadata": {},
     "output_type": "execute_result"
    }
   ],
   "source": [
    "lm.model.data.orig_exog[:10]"
   ]
  }
 ],
 "metadata": {
  "kernelspec": {
   "display_name": "Python 3",
   "language": "python",
   "name": "python3"
  },
  "language_info": {
   "codemirror_mode": {
    "name": "ipython",
    "version": 3
   },
   "file_extension": ".py",
   "mimetype": "text/x-python",
   "name": "python",
   "nbconvert_exporter": "python",
   "pygments_lexer": "ipython3",
   "version": "3.6.0"
  }
 },
 "nbformat": 4,
 "nbformat_minor": 2
}
