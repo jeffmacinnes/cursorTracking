{
 "cells": [
  {
   "cell_type": "code",
   "execution_count": 1,
   "metadata": {
    "collapsed": true
   },
   "outputs": [],
   "source": [
    "import os\n",
    "from os.path import join\n",
    "import sys\n",
    "import numpy as np \n",
    "import pandas as pd\n",
    "import seaborn as sns"
   ]
  },
  {
   "cell_type": "code",
   "execution_count": 2,
   "metadata": {},
   "outputs": [
    {
     "name": "stdout",
     "output_type": "stream",
     "text": [
      "Populating the interactive namespace from numpy and matplotlib\n"
     ]
    }
   ],
   "source": [
    "%pylab inline"
   ]
  },
  {
   "cell_type": "markdown",
   "metadata": {},
   "source": [
    "# Overall l/r bias\n",
    "Test whether there is an overall left vs right bias in the cursor behavior. This is a control test for the left/right eye bias that we see in face stimuli\n",
    "\n",
    "**Note**: \"left\" is relative to the viewer"
   ]
  },
  {
   "cell_type": "code",
   "execution_count": 3,
   "metadata": {
    "collapsed": true
   },
   "outputs": [],
   "source": [
    "# load the combined cursorTracking data for all subjs\n",
    "df = pd.read_table('../../data/groupData/allSubjsRaw.tsv', sep='\\t')"
   ]
  },
  {
   "cell_type": "code",
   "execution_count": 4,
   "metadata": {},
   "outputs": [
    {
     "data": {
      "text/plain": [
       "(608261, 7)"
      ]
     },
     "execution_count": 4,
     "metadata": {},
     "output_type": "execute_result"
    }
   ],
   "source": [
    "df.shape"
   ]
  },
  {
   "cell_type": "markdown",
   "metadata": {},
   "source": [
    "### Select the stimuli to include in the analysis\n",
    "Choose the non-face and non-face-like stimuli"
   ]
  },
  {
   "cell_type": "code",
   "execution_count": 5,
   "metadata": {
    "collapsed": true
   },
   "outputs": [],
   "source": [
    "# function to label the image categories\n",
    "def labelStimCategory(row):\n",
    "    if \"_images707/simpleFood\" in row['stim']:\n",
    "        label = 'portrait'\n",
    "    elif \"_images707/art/stillLife_\" in row['stim']:\n",
    "        label = 'stillLife'\n",
    "    else:\n",
    "        label = \"Na\"\n",
    "    \n",
    "    return label"
   ]
  },
  {
   "cell_type": "code",
   "execution_count": 6,
   "metadata": {
    "collapsed": true
   },
   "outputs": [],
   "source": [
    "# add image category label to dataframe\n",
    "df['stimCategory'] = df.apply(labelStimCategory, axis=1)"
   ]
  },
  {
   "cell_type": "code",
   "execution_count": 7,
   "metadata": {},
   "outputs": [
    {
     "data": {
      "text/plain": [
       "array(['Na', 'stillLife', 'portrait'], dtype=object)"
      ]
     },
     "execution_count": 7,
     "metadata": {},
     "output_type": "execute_result"
    }
   ],
   "source": [
    "# make sure this worked\n",
    "df['stimCategory'].unique()"
   ]
  },
  {
   "cell_type": "code",
   "execution_count": 8,
   "metadata": {},
   "outputs": [
    {
     "data": {
      "text/plain": [
       "(74169, 8)"
      ]
     },
     "execution_count": 8,
     "metadata": {},
     "output_type": "execute_result"
    }
   ],
   "source": [
    "# drop the NAs\n",
    "df = df[df['stimCategory'] != 'Na']\n",
    "df.shape"
   ]
  },
  {
   "cell_type": "code",
   "execution_count": 9,
   "metadata": {
    "collapsed": true
   },
   "outputs": [],
   "source": [
    "# write this out as a txt file so you don't have to load the big file again\n",
    "df.to_csv('overallBias_allSubjsRaw.tsv', sep='\\t', index=False)"
   ]
  },
  {
   "cell_type": "code",
   "execution_count": 10,
   "metadata": {},
   "outputs": [
    {
     "data": {
      "text/html": [
       "<div>\n",
       "<table border=\"1\" class=\"dataframe\">\n",
       "  <thead>\n",
       "    <tr style=\"text-align: right;\">\n",
       "      <th></th>\n",
       "      <th>ts</th>\n",
       "      <th>x</th>\n",
       "      <th>y</th>\n",
       "      <th>subjID</th>\n",
       "      <th>stim</th>\n",
       "      <th>trialNum</th>\n",
       "      <th>AOI</th>\n",
       "      <th>stimCategory</th>\n",
       "    </tr>\n",
       "  </thead>\n",
       "  <tbody>\n",
       "    <tr>\n",
       "      <th>293</th>\n",
       "      <td>51</td>\n",
       "      <td>88.0</td>\n",
       "      <td>157.5</td>\n",
       "      <td>27235</td>\n",
       "      <td>_images707/art/stillLife_16.jpg</td>\n",
       "      <td>2</td>\n",
       "      <td>NaN</td>\n",
       "      <td>stillLife</td>\n",
       "    </tr>\n",
       "    <tr>\n",
       "      <th>294</th>\n",
       "      <td>68</td>\n",
       "      <td>88.0</td>\n",
       "      <td>157.5</td>\n",
       "      <td>27235</td>\n",
       "      <td>_images707/art/stillLife_16.jpg</td>\n",
       "      <td>2</td>\n",
       "      <td>NaN</td>\n",
       "      <td>stillLife</td>\n",
       "    </tr>\n",
       "    <tr>\n",
       "      <th>295</th>\n",
       "      <td>85</td>\n",
       "      <td>88.0</td>\n",
       "      <td>157.5</td>\n",
       "      <td>27235</td>\n",
       "      <td>_images707/art/stillLife_16.jpg</td>\n",
       "      <td>2</td>\n",
       "      <td>NaN</td>\n",
       "      <td>stillLife</td>\n",
       "    </tr>\n",
       "    <tr>\n",
       "      <th>296</th>\n",
       "      <td>102</td>\n",
       "      <td>88.0</td>\n",
       "      <td>157.5</td>\n",
       "      <td>27235</td>\n",
       "      <td>_images707/art/stillLife_16.jpg</td>\n",
       "      <td>2</td>\n",
       "      <td>NaN</td>\n",
       "      <td>stillLife</td>\n",
       "    </tr>\n",
       "    <tr>\n",
       "      <th>297</th>\n",
       "      <td>119</td>\n",
       "      <td>88.0</td>\n",
       "      <td>157.5</td>\n",
       "      <td>27235</td>\n",
       "      <td>_images707/art/stillLife_16.jpg</td>\n",
       "      <td>2</td>\n",
       "      <td>NaN</td>\n",
       "      <td>stillLife</td>\n",
       "    </tr>\n",
       "  </tbody>\n",
       "</table>\n",
       "</div>"
      ],
      "text/plain": [
       "      ts     x      y  subjID                             stim  trialNum  AOI  \\\n",
       "293   51  88.0  157.5   27235  _images707/art/stillLife_16.jpg         2  NaN   \n",
       "294   68  88.0  157.5   27235  _images707/art/stillLife_16.jpg         2  NaN   \n",
       "295   85  88.0  157.5   27235  _images707/art/stillLife_16.jpg         2  NaN   \n",
       "296  102  88.0  157.5   27235  _images707/art/stillLife_16.jpg         2  NaN   \n",
       "297  119  88.0  157.5   27235  _images707/art/stillLife_16.jpg         2  NaN   \n",
       "\n",
       "    stimCategory  \n",
       "293    stillLife  \n",
       "294    stillLife  \n",
       "295    stillLife  \n",
       "296    stillLife  \n",
       "297    stillLife  "
      ]
     },
     "execution_count": 10,
     "metadata": {},
     "output_type": "execute_result"
    }
   ],
   "source": [
    "df.head()"
   ]
  },
  {
   "cell_type": "markdown",
   "metadata": {},
   "source": [
    "---\n",
    "\n",
    "### Label each datapoint according to which half of the image it lies on\n",
    "In order to know what half of the image each datapoint falls on, have to know the dimensions of each stim (all stims are 707x565, but they are either landscape or portrait oriented). Step one is to make a table of image dimensions for each stim"
   ]
  },
  {
   "cell_type": "code",
   "execution_count": 11,
   "metadata": {},
   "outputs": [
    {
     "data": {
      "text/plain": [
       "array(['_images707/art/stillLife_10.jpg',\n",
       "       '_images707/art/stillLife_11.jpg',\n",
       "       '_images707/art/stillLife_15.jpg',\n",
       "       '_images707/art/stillLife_16.jpg', '_images707/art/stillLife_3.jpg',\n",
       "       '_images707/simpleFood/simpleFood_1.jpg',\n",
       "       '_images707/simpleFood/simpleFood_10.jpg',\n",
       "       '_images707/simpleFood/simpleFood_11.jpg',\n",
       "       '_images707/simpleFood/simpleFood_12.jpg',\n",
       "       '_images707/simpleFood/simpleFood_2.jpg',\n",
       "       '_images707/simpleFood/simpleFood_3.jpg',\n",
       "       '_images707/simpleFood/simpleFood_4.jpg',\n",
       "       '_images707/simpleFood/simpleFood_5.jpg',\n",
       "       '_images707/simpleFood/simpleFood_6.jpg',\n",
       "       '_images707/simpleFood/simpleFood_7.jpg',\n",
       "       '_images707/simpleFood/simpleFood_8.jpg',\n",
       "       '_images707/simpleFood/simpleFood_9.jpg'], dtype=object)"
      ]
     },
     "execution_count": 11,
     "metadata": {},
     "output_type": "execute_result"
    }
   ],
   "source": [
    "stims = np.unique(df.stim)\n",
    "stims"
   ]
  },
  {
   "cell_type": "code",
   "execution_count": 12,
   "metadata": {
    "collapsed": true
   },
   "outputs": [],
   "source": [
    "import matplotlib.image as mpimg"
   ]
  },
  {
   "cell_type": "code",
   "execution_count": 19,
   "metadata": {},
   "outputs": [
    {
     "data": {
      "text/html": [
       "<div>\n",
       "<table border=\"1\" class=\"dataframe\">\n",
       "  <thead>\n",
       "    <tr style=\"text-align: right;\">\n",
       "      <th></th>\n",
       "      <th>stim</th>\n",
       "      <th>height</th>\n",
       "      <th>width</th>\n",
       "    </tr>\n",
       "  </thead>\n",
       "  <tbody>\n",
       "    <tr>\n",
       "      <th>0</th>\n",
       "      <td>_images707/art/stillLife_10.jpg</td>\n",
       "      <td>566</td>\n",
       "      <td>707</td>\n",
       "    </tr>\n",
       "    <tr>\n",
       "      <th>1</th>\n",
       "      <td>_images707/art/stillLife_11.jpg</td>\n",
       "      <td>566</td>\n",
       "      <td>707</td>\n",
       "    </tr>\n",
       "    <tr>\n",
       "      <th>2</th>\n",
       "      <td>_images707/art/stillLife_15.jpg</td>\n",
       "      <td>707</td>\n",
       "      <td>566</td>\n",
       "    </tr>\n",
       "    <tr>\n",
       "      <th>3</th>\n",
       "      <td>_images707/art/stillLife_16.jpg</td>\n",
       "      <td>566</td>\n",
       "      <td>707</td>\n",
       "    </tr>\n",
       "    <tr>\n",
       "      <th>4</th>\n",
       "      <td>_images707/art/stillLife_3.jpg</td>\n",
       "      <td>566</td>\n",
       "      <td>707</td>\n",
       "    </tr>\n",
       "    <tr>\n",
       "      <th>5</th>\n",
       "      <td>_images707/simpleFood/simpleFood_1.jpg</td>\n",
       "      <td>707</td>\n",
       "      <td>566</td>\n",
       "    </tr>\n",
       "    <tr>\n",
       "      <th>6</th>\n",
       "      <td>_images707/simpleFood/simpleFood_10.jpg</td>\n",
       "      <td>707</td>\n",
       "      <td>567</td>\n",
       "    </tr>\n",
       "    <tr>\n",
       "      <th>7</th>\n",
       "      <td>_images707/simpleFood/simpleFood_11.jpg</td>\n",
       "      <td>707</td>\n",
       "      <td>566</td>\n",
       "    </tr>\n",
       "    <tr>\n",
       "      <th>8</th>\n",
       "      <td>_images707/simpleFood/simpleFood_12.jpg</td>\n",
       "      <td>707</td>\n",
       "      <td>566</td>\n",
       "    </tr>\n",
       "    <tr>\n",
       "      <th>9</th>\n",
       "      <td>_images707/simpleFood/simpleFood_2.jpg</td>\n",
       "      <td>707</td>\n",
       "      <td>566</td>\n",
       "    </tr>\n",
       "    <tr>\n",
       "      <th>10</th>\n",
       "      <td>_images707/simpleFood/simpleFood_3.jpg</td>\n",
       "      <td>707</td>\n",
       "      <td>665</td>\n",
       "    </tr>\n",
       "    <tr>\n",
       "      <th>11</th>\n",
       "      <td>_images707/simpleFood/simpleFood_4.jpg</td>\n",
       "      <td>707</td>\n",
       "      <td>566</td>\n",
       "    </tr>\n",
       "    <tr>\n",
       "      <th>12</th>\n",
       "      <td>_images707/simpleFood/simpleFood_5.jpg</td>\n",
       "      <td>707</td>\n",
       "      <td>566</td>\n",
       "    </tr>\n",
       "    <tr>\n",
       "      <th>13</th>\n",
       "      <td>_images707/simpleFood/simpleFood_6.jpg</td>\n",
       "      <td>707</td>\n",
       "      <td>566</td>\n",
       "    </tr>\n",
       "    <tr>\n",
       "      <th>14</th>\n",
       "      <td>_images707/simpleFood/simpleFood_7.jpg</td>\n",
       "      <td>707</td>\n",
       "      <td>566</td>\n",
       "    </tr>\n",
       "    <tr>\n",
       "      <th>15</th>\n",
       "      <td>_images707/simpleFood/simpleFood_8.jpg</td>\n",
       "      <td>707</td>\n",
       "      <td>566</td>\n",
       "    </tr>\n",
       "    <tr>\n",
       "      <th>16</th>\n",
       "      <td>_images707/simpleFood/simpleFood_9.jpg</td>\n",
       "      <td>707</td>\n",
       "      <td>565</td>\n",
       "    </tr>\n",
       "  </tbody>\n",
       "</table>\n",
       "</div>"
      ],
      "text/plain": [
       "                                       stim  height  width\n",
       "0           _images707/art/stillLife_10.jpg     566    707\n",
       "1           _images707/art/stillLife_11.jpg     566    707\n",
       "2           _images707/art/stillLife_15.jpg     707    566\n",
       "3           _images707/art/stillLife_16.jpg     566    707\n",
       "4            _images707/art/stillLife_3.jpg     566    707\n",
       "5    _images707/simpleFood/simpleFood_1.jpg     707    566\n",
       "6   _images707/simpleFood/simpleFood_10.jpg     707    567\n",
       "7   _images707/simpleFood/simpleFood_11.jpg     707    566\n",
       "8   _images707/simpleFood/simpleFood_12.jpg     707    566\n",
       "9    _images707/simpleFood/simpleFood_2.jpg     707    566\n",
       "10   _images707/simpleFood/simpleFood_3.jpg     707    665\n",
       "11   _images707/simpleFood/simpleFood_4.jpg     707    566\n",
       "12   _images707/simpleFood/simpleFood_5.jpg     707    566\n",
       "13   _images707/simpleFood/simpleFood_6.jpg     707    566\n",
       "14   _images707/simpleFood/simpleFood_7.jpg     707    566\n",
       "15   _images707/simpleFood/simpleFood_8.jpg     707    566\n",
       "16   _images707/simpleFood/simpleFood_9.jpg     707    565"
      ]
     },
     "execution_count": 19,
     "metadata": {},
     "output_type": "execute_result"
    }
   ],
   "source": [
    "stimDirRoot = '../../stimuli/'\n",
    "widths = np.array([], dtype=int32)\n",
    "heights = np.array([], dtype=int32)\n",
    "for s in stims:\n",
    "    # open image\n",
    "    thisStim = mpimg.imread(join(stimDirRoot, s))\n",
    "    \n",
    "    heights = np.append(heights, int(thisStim.shape[0]))\n",
    "    widths = np.append(widths, int(thisStim.shape[1]))\n",
    "\n",
    "stimSize = pd.DataFrame({'stim':stims, 'width':widths, 'height':heights}, columns=['stim', 'height', 'width'])\n",
    "stimSize"
   ]
  },
  {
   "cell_type": "code",
   "execution_count": 20,
   "metadata": {
    "collapsed": true
   },
   "outputs": [],
   "source": [
    "# function to label left or right\n",
    "def left_vs_right(row):\n",
    "    # get relevant values from this row\n",
    "    stimName = row['stim']\n",
    "    x = row['x']\n",
    "    \n",
    "    # look up this stim in stimSize table and get width\n",
    "    stimWidth = stimSize[stimSize.stim == stimName]['width'].item()\n",
    "    \n",
    "    if x <= stimWidth/2:\n",
    "        label = 'left'\n",
    "    else:\n",
    "        label = 'right'\n",
    "    \n",
    "    return label\n",
    "    "
   ]
  },
  {
   "cell_type": "code",
   "execution_count": 21,
   "metadata": {
    "collapsed": true
   },
   "outputs": [],
   "source": [
    "df['leftRight'] = df.apply(left_vs_right, axis=1)"
   ]
  },
  {
   "cell_type": "code",
   "execution_count": 22,
   "metadata": {},
   "outputs": [
    {
     "data": {
      "text/html": [
       "<div>\n",
       "<table border=\"1\" class=\"dataframe\">\n",
       "  <thead>\n",
       "    <tr style=\"text-align: right;\">\n",
       "      <th></th>\n",
       "      <th>ts</th>\n",
       "      <th>x</th>\n",
       "      <th>y</th>\n",
       "      <th>subjID</th>\n",
       "      <th>stim</th>\n",
       "      <th>trialNum</th>\n",
       "      <th>AOI</th>\n",
       "      <th>stimCategory</th>\n",
       "      <th>leftRight</th>\n",
       "    </tr>\n",
       "  </thead>\n",
       "  <tbody>\n",
       "    <tr>\n",
       "      <th>293</th>\n",
       "      <td>51</td>\n",
       "      <td>88.0</td>\n",
       "      <td>157.5</td>\n",
       "      <td>27235</td>\n",
       "      <td>_images707/art/stillLife_16.jpg</td>\n",
       "      <td>2</td>\n",
       "      <td>NaN</td>\n",
       "      <td>stillLife</td>\n",
       "      <td>left</td>\n",
       "    </tr>\n",
       "    <tr>\n",
       "      <th>294</th>\n",
       "      <td>68</td>\n",
       "      <td>88.0</td>\n",
       "      <td>157.5</td>\n",
       "      <td>27235</td>\n",
       "      <td>_images707/art/stillLife_16.jpg</td>\n",
       "      <td>2</td>\n",
       "      <td>NaN</td>\n",
       "      <td>stillLife</td>\n",
       "      <td>left</td>\n",
       "    </tr>\n",
       "    <tr>\n",
       "      <th>295</th>\n",
       "      <td>85</td>\n",
       "      <td>88.0</td>\n",
       "      <td>157.5</td>\n",
       "      <td>27235</td>\n",
       "      <td>_images707/art/stillLife_16.jpg</td>\n",
       "      <td>2</td>\n",
       "      <td>NaN</td>\n",
       "      <td>stillLife</td>\n",
       "      <td>left</td>\n",
       "    </tr>\n",
       "    <tr>\n",
       "      <th>296</th>\n",
       "      <td>102</td>\n",
       "      <td>88.0</td>\n",
       "      <td>157.5</td>\n",
       "      <td>27235</td>\n",
       "      <td>_images707/art/stillLife_16.jpg</td>\n",
       "      <td>2</td>\n",
       "      <td>NaN</td>\n",
       "      <td>stillLife</td>\n",
       "      <td>left</td>\n",
       "    </tr>\n",
       "    <tr>\n",
       "      <th>297</th>\n",
       "      <td>119</td>\n",
       "      <td>88.0</td>\n",
       "      <td>157.5</td>\n",
       "      <td>27235</td>\n",
       "      <td>_images707/art/stillLife_16.jpg</td>\n",
       "      <td>2</td>\n",
       "      <td>NaN</td>\n",
       "      <td>stillLife</td>\n",
       "      <td>left</td>\n",
       "    </tr>\n",
       "  </tbody>\n",
       "</table>\n",
       "</div>"
      ],
      "text/plain": [
       "      ts     x      y  subjID                             stim  trialNum  AOI  \\\n",
       "293   51  88.0  157.5   27235  _images707/art/stillLife_16.jpg         2  NaN   \n",
       "294   68  88.0  157.5   27235  _images707/art/stillLife_16.jpg         2  NaN   \n",
       "295   85  88.0  157.5   27235  _images707/art/stillLife_16.jpg         2  NaN   \n",
       "296  102  88.0  157.5   27235  _images707/art/stillLife_16.jpg         2  NaN   \n",
       "297  119  88.0  157.5   27235  _images707/art/stillLife_16.jpg         2  NaN   \n",
       "\n",
       "    stimCategory leftRight  \n",
       "293    stillLife      left  \n",
       "294    stillLife      left  \n",
       "295    stillLife      left  \n",
       "296    stillLife      left  \n",
       "297    stillLife      left  "
      ]
     },
     "execution_count": 22,
     "metadata": {},
     "output_type": "execute_result"
    }
   ],
   "source": [
    "df.head()"
   ]
  },
  {
   "cell_type": "markdown",
   "metadata": {},
   "source": [
    "---\n",
    "### Calculate within trial amount of time spent in each image half (left/right)\n",
    "For each trial for each subject, calculate the time per image half. The time per half is calculated by taking the mean frame interval across that trial (i.e. the mean interval between successive timestamps) and multiplying it by the number of frames labeled for each half (left or right)."
   ]
  },
  {
   "cell_type": "code",
   "execution_count": 26,
   "metadata": {},
   "outputs": [
    {
     "data": {
      "text/html": [
       "<div>\n",
       "<table border=\"1\" class=\"dataframe\">\n",
       "  <thead>\n",
       "    <tr style=\"text-align: right;\">\n",
       "      <th></th>\n",
       "      <th>subjID</th>\n",
       "      <th>trialNum</th>\n",
       "      <th>ts</th>\n",
       "    </tr>\n",
       "  </thead>\n",
       "  <tbody>\n",
       "    <tr>\n",
       "      <th>0</th>\n",
       "      <td>741</td>\n",
       "      <td>35</td>\n",
       "      <td>26.783784</td>\n",
       "    </tr>\n",
       "    <tr>\n",
       "      <th>1</th>\n",
       "      <td>1164</td>\n",
       "      <td>35</td>\n",
       "      <td>26.216931</td>\n",
       "    </tr>\n",
       "    <tr>\n",
       "      <th>2</th>\n",
       "      <td>20649</td>\n",
       "      <td>27</td>\n",
       "      <td>25.811518</td>\n",
       "    </tr>\n",
       "    <tr>\n",
       "      <th>3</th>\n",
       "      <td>20649</td>\n",
       "      <td>29</td>\n",
       "      <td>25.302564</td>\n",
       "    </tr>\n",
       "    <tr>\n",
       "      <th>4</th>\n",
       "      <td>27235</td>\n",
       "      <td>2</td>\n",
       "      <td>17.187500</td>\n",
       "    </tr>\n",
       "    <tr>\n",
       "      <th>5</th>\n",
       "      <td>27235</td>\n",
       "      <td>31</td>\n",
       "      <td>25.505155</td>\n",
       "    </tr>\n",
       "    <tr>\n",
       "      <th>6</th>\n",
       "      <td>27537</td>\n",
       "      <td>27</td>\n",
       "      <td>25.942408</td>\n",
       "    </tr>\n",
       "    <tr>\n",
       "      <th>7</th>\n",
       "      <td>27537</td>\n",
       "      <td>29</td>\n",
       "      <td>25.647668</td>\n",
       "    </tr>\n",
       "    <tr>\n",
       "      <th>8</th>\n",
       "      <td>29147</td>\n",
       "      <td>2</td>\n",
       "      <td>24.770000</td>\n",
       "    </tr>\n",
       "    <tr>\n",
       "      <th>9</th>\n",
       "      <td>29147</td>\n",
       "      <td>31</td>\n",
       "      <td>25.085859</td>\n",
       "    </tr>\n",
       "  </tbody>\n",
       "</table>\n",
       "</div>"
      ],
      "text/plain": [
       "   subjID  trialNum         ts\n",
       "0     741        35  26.783784\n",
       "1    1164        35  26.216931\n",
       "2   20649        27  25.811518\n",
       "3   20649        29  25.302564\n",
       "4   27235         2  17.187500\n",
       "5   27235        31  25.505155\n",
       "6   27537        27  25.942408\n",
       "7   27537        29  25.647668\n",
       "8   29147         2  24.770000\n",
       "9   29147        31  25.085859"
      ]
     },
     "execution_count": 26,
     "metadata": {},
     "output_type": "execute_result"
    }
   ],
   "source": [
    "# create a table showing the mean frame interval on each trial\n",
    "trialFrameTimes = df.groupby(['subjID', 'trialNum'], as_index=False).ts.agg(lambda x: x.diff().mean())\n",
    "trialFrameTimes.head(10)"
   ]
  },
  {
   "cell_type": "code",
   "execution_count": 29,
   "metadata": {},
   "outputs": [
    {
     "data": {
      "text/html": [
       "<div>\n",
       "<table border=\"1\" class=\"dataframe\">\n",
       "  <thead>\n",
       "    <tr style=\"text-align: right;\">\n",
       "      <th></th>\n",
       "      <th>subjID</th>\n",
       "      <th>trialNum</th>\n",
       "      <th>leftRight</th>\n",
       "      <th>ts</th>\n",
       "    </tr>\n",
       "  </thead>\n",
       "  <tbody>\n",
       "    <tr>\n",
       "      <th>0</th>\n",
       "      <td>741</td>\n",
       "      <td>35</td>\n",
       "      <td>left</td>\n",
       "      <td>95</td>\n",
       "    </tr>\n",
       "    <tr>\n",
       "      <th>1</th>\n",
       "      <td>741</td>\n",
       "      <td>35</td>\n",
       "      <td>right</td>\n",
       "      <td>91</td>\n",
       "    </tr>\n",
       "    <tr>\n",
       "      <th>2</th>\n",
       "      <td>1164</td>\n",
       "      <td>35</td>\n",
       "      <td>left</td>\n",
       "      <td>49</td>\n",
       "    </tr>\n",
       "    <tr>\n",
       "      <th>3</th>\n",
       "      <td>1164</td>\n",
       "      <td>35</td>\n",
       "      <td>right</td>\n",
       "      <td>141</td>\n",
       "    </tr>\n",
       "    <tr>\n",
       "      <th>4</th>\n",
       "      <td>20649</td>\n",
       "      <td>27</td>\n",
       "      <td>left</td>\n",
       "      <td>112</td>\n",
       "    </tr>\n",
       "    <tr>\n",
       "      <th>5</th>\n",
       "      <td>20649</td>\n",
       "      <td>27</td>\n",
       "      <td>right</td>\n",
       "      <td>80</td>\n",
       "    </tr>\n",
       "    <tr>\n",
       "      <th>6</th>\n",
       "      <td>20649</td>\n",
       "      <td>29</td>\n",
       "      <td>left</td>\n",
       "      <td>96</td>\n",
       "    </tr>\n",
       "    <tr>\n",
       "      <th>7</th>\n",
       "      <td>20649</td>\n",
       "      <td>29</td>\n",
       "      <td>right</td>\n",
       "      <td>100</td>\n",
       "    </tr>\n",
       "    <tr>\n",
       "      <th>8</th>\n",
       "      <td>27235</td>\n",
       "      <td>2</td>\n",
       "      <td>left</td>\n",
       "      <td>203</td>\n",
       "    </tr>\n",
       "    <tr>\n",
       "      <th>9</th>\n",
       "      <td>27235</td>\n",
       "      <td>2</td>\n",
       "      <td>right</td>\n",
       "      <td>86</td>\n",
       "    </tr>\n",
       "  </tbody>\n",
       "</table>\n",
       "</div>"
      ],
      "text/plain": [
       "   subjID  trialNum leftRight   ts\n",
       "0     741        35      left   95\n",
       "1     741        35     right   91\n",
       "2    1164        35      left   49\n",
       "3    1164        35     right  141\n",
       "4   20649        27      left  112\n",
       "5   20649        27     right   80\n",
       "6   20649        29      left   96\n",
       "7   20649        29     right  100\n",
       "8   27235         2      left  203\n",
       "9   27235         2     right   86"
      ]
     },
     "execution_count": 29,
     "metadata": {},
     "output_type": "execute_result"
    }
   ],
   "source": [
    "# create a table showing the number of datapoints labeled for each half\n",
    "ptsPerHalf = df.groupby(['subjID', 'trialNum', 'leftRight'], as_index=False).ts.agg(lambda x: len(x))\n",
    "ptsPerHalf.head(10)"
   ]
  },
  {
   "cell_type": "code",
   "execution_count": 30,
   "metadata": {
    "collapsed": true
   },
   "outputs": [],
   "source": [
    "# function to calculate time per half\n",
    "def calculateTimePerHalf(row):\n",
    "    # get the mean froma interval for this trial\n",
    "    meanFrameInterval = trialFrameTimes[(trialFrameTimes.subjID == row['subjID']) &\n",
    "                            (trialFrameTimes.trialNum == row['trialNum'])]['ts'].item()\n",
    "    \n",
    "    # multiply the mean frame interval by the number of frames\n",
    "    totalTime = meanFrameInterval * row['ts']\n",
    "    return totalTime"
   ]
  },
  {
   "cell_type": "code",
   "execution_count": 31,
   "metadata": {},
   "outputs": [
    {
     "data": {
      "text/html": [
       "<div>\n",
       "<table border=\"1\" class=\"dataframe\">\n",
       "  <thead>\n",
       "    <tr style=\"text-align: right;\">\n",
       "      <th></th>\n",
       "      <th>subjID</th>\n",
       "      <th>trialNum</th>\n",
       "      <th>leftRight</th>\n",
       "      <th>ts</th>\n",
       "      <th>totalTime</th>\n",
       "    </tr>\n",
       "  </thead>\n",
       "  <tbody>\n",
       "    <tr>\n",
       "      <th>0</th>\n",
       "      <td>741</td>\n",
       "      <td>35</td>\n",
       "      <td>left</td>\n",
       "      <td>95</td>\n",
       "      <td>2544.459459</td>\n",
       "    </tr>\n",
       "    <tr>\n",
       "      <th>1</th>\n",
       "      <td>741</td>\n",
       "      <td>35</td>\n",
       "      <td>right</td>\n",
       "      <td>91</td>\n",
       "      <td>2437.324324</td>\n",
       "    </tr>\n",
       "    <tr>\n",
       "      <th>2</th>\n",
       "      <td>1164</td>\n",
       "      <td>35</td>\n",
       "      <td>left</td>\n",
       "      <td>49</td>\n",
       "      <td>1284.629630</td>\n",
       "    </tr>\n",
       "    <tr>\n",
       "      <th>3</th>\n",
       "      <td>1164</td>\n",
       "      <td>35</td>\n",
       "      <td>right</td>\n",
       "      <td>141</td>\n",
       "      <td>3696.587302</td>\n",
       "    </tr>\n",
       "    <tr>\n",
       "      <th>4</th>\n",
       "      <td>20649</td>\n",
       "      <td>27</td>\n",
       "      <td>left</td>\n",
       "      <td>112</td>\n",
       "      <td>2890.890052</td>\n",
       "    </tr>\n",
       "    <tr>\n",
       "      <th>5</th>\n",
       "      <td>20649</td>\n",
       "      <td>27</td>\n",
       "      <td>right</td>\n",
       "      <td>80</td>\n",
       "      <td>2064.921466</td>\n",
       "    </tr>\n",
       "    <tr>\n",
       "      <th>6</th>\n",
       "      <td>20649</td>\n",
       "      <td>29</td>\n",
       "      <td>left</td>\n",
       "      <td>96</td>\n",
       "      <td>2429.046154</td>\n",
       "    </tr>\n",
       "    <tr>\n",
       "      <th>7</th>\n",
       "      <td>20649</td>\n",
       "      <td>29</td>\n",
       "      <td>right</td>\n",
       "      <td>100</td>\n",
       "      <td>2530.256410</td>\n",
       "    </tr>\n",
       "    <tr>\n",
       "      <th>8</th>\n",
       "      <td>27235</td>\n",
       "      <td>2</td>\n",
       "      <td>left</td>\n",
       "      <td>203</td>\n",
       "      <td>3489.062500</td>\n",
       "    </tr>\n",
       "    <tr>\n",
       "      <th>9</th>\n",
       "      <td>27235</td>\n",
       "      <td>2</td>\n",
       "      <td>right</td>\n",
       "      <td>86</td>\n",
       "      <td>1478.125000</td>\n",
       "    </tr>\n",
       "  </tbody>\n",
       "</table>\n",
       "</div>"
      ],
      "text/plain": [
       "   subjID  trialNum leftRight   ts    totalTime\n",
       "0     741        35      left   95  2544.459459\n",
       "1     741        35     right   91  2437.324324\n",
       "2    1164        35      left   49  1284.629630\n",
       "3    1164        35     right  141  3696.587302\n",
       "4   20649        27      left  112  2890.890052\n",
       "5   20649        27     right   80  2064.921466\n",
       "6   20649        29      left   96  2429.046154\n",
       "7   20649        29     right  100  2530.256410\n",
       "8   27235         2      left  203  3489.062500\n",
       "9   27235         2     right   86  1478.125000"
      ]
     },
     "execution_count": 31,
     "metadata": {},
     "output_type": "execute_result"
    }
   ],
   "source": [
    "ptsPerHalf['totalTime'] = ptsPerHalf.apply(calculateTimePerHalf, axis=1)\n",
    "ptsPerHalf.head(10)"
   ]
  },
  {
   "cell_type": "code",
   "execution_count": 34,
   "metadata": {},
   "outputs": [
    {
     "data": {
      "text/html": [
       "<div>\n",
       "<table border=\"1\" class=\"dataframe\">\n",
       "  <thead>\n",
       "    <tr style=\"text-align: right;\">\n",
       "      <th></th>\n",
       "      <th>subjID</th>\n",
       "      <th>trialNum</th>\n",
       "      <th>leftRight</th>\n",
       "      <th>numFrames</th>\n",
       "      <th>totalTime</th>\n",
       "    </tr>\n",
       "  </thead>\n",
       "  <tbody>\n",
       "    <tr>\n",
       "      <th>0</th>\n",
       "      <td>741</td>\n",
       "      <td>35</td>\n",
       "      <td>left</td>\n",
       "      <td>95</td>\n",
       "      <td>2544.459459</td>\n",
       "    </tr>\n",
       "    <tr>\n",
       "      <th>1</th>\n",
       "      <td>741</td>\n",
       "      <td>35</td>\n",
       "      <td>right</td>\n",
       "      <td>91</td>\n",
       "      <td>2437.324324</td>\n",
       "    </tr>\n",
       "    <tr>\n",
       "      <th>2</th>\n",
       "      <td>1164</td>\n",
       "      <td>35</td>\n",
       "      <td>left</td>\n",
       "      <td>49</td>\n",
       "      <td>1284.629630</td>\n",
       "    </tr>\n",
       "    <tr>\n",
       "      <th>3</th>\n",
       "      <td>1164</td>\n",
       "      <td>35</td>\n",
       "      <td>right</td>\n",
       "      <td>141</td>\n",
       "      <td>3696.587302</td>\n",
       "    </tr>\n",
       "    <tr>\n",
       "      <th>4</th>\n",
       "      <td>20649</td>\n",
       "      <td>27</td>\n",
       "      <td>left</td>\n",
       "      <td>112</td>\n",
       "      <td>2890.890052</td>\n",
       "    </tr>\n",
       "    <tr>\n",
       "      <th>5</th>\n",
       "      <td>20649</td>\n",
       "      <td>27</td>\n",
       "      <td>right</td>\n",
       "      <td>80</td>\n",
       "      <td>2064.921466</td>\n",
       "    </tr>\n",
       "    <tr>\n",
       "      <th>6</th>\n",
       "      <td>20649</td>\n",
       "      <td>29</td>\n",
       "      <td>left</td>\n",
       "      <td>96</td>\n",
       "      <td>2429.046154</td>\n",
       "    </tr>\n",
       "    <tr>\n",
       "      <th>7</th>\n",
       "      <td>20649</td>\n",
       "      <td>29</td>\n",
       "      <td>right</td>\n",
       "      <td>100</td>\n",
       "      <td>2530.256410</td>\n",
       "    </tr>\n",
       "    <tr>\n",
       "      <th>8</th>\n",
       "      <td>27235</td>\n",
       "      <td>2</td>\n",
       "      <td>left</td>\n",
       "      <td>203</td>\n",
       "      <td>3489.062500</td>\n",
       "    </tr>\n",
       "    <tr>\n",
       "      <th>9</th>\n",
       "      <td>27235</td>\n",
       "      <td>2</td>\n",
       "      <td>right</td>\n",
       "      <td>86</td>\n",
       "      <td>1478.125000</td>\n",
       "    </tr>\n",
       "  </tbody>\n",
       "</table>\n",
       "</div>"
      ],
      "text/plain": [
       "   subjID  trialNum leftRight  numFrames    totalTime\n",
       "0     741        35      left         95  2544.459459\n",
       "1     741        35     right         91  2437.324324\n",
       "2    1164        35      left         49  1284.629630\n",
       "3    1164        35     right        141  3696.587302\n",
       "4   20649        27      left        112  2890.890052\n",
       "5   20649        27     right         80  2064.921466\n",
       "6   20649        29      left         96  2429.046154\n",
       "7   20649        29     right        100  2530.256410\n",
       "8   27235         2      left        203  3489.062500\n",
       "9   27235         2     right         86  1478.125000"
      ]
     },
     "execution_count": 34,
     "metadata": {},
     "output_type": "execute_result"
    }
   ],
   "source": [
    "# basic cleanup and reformatting\n",
    "df_byHalf = ptsPerHalf.copy()\n",
    "df_byHalf = df_byHalf.rename(columns={'ts':'numFrames'})\n",
    "df_byHalf.head(10)"
   ]
  },
  {
   "cell_type": "markdown",
   "metadata": {},
   "source": [
    "---\n",
    "### Calculate the left vs right bias score for each trial\n",
    "calculate the total \"right\" > \"left\" time as the bias score. This way, left biases are negative values"
   ]
  },
  {
   "cell_type": "code",
   "execution_count": 98,
   "metadata": {
    "collapsed": true
   },
   "outputs": [],
   "source": [
    "def halfBias(group):\n",
    "    if 'left' not in group['leftRight'].values:\n",
    "        leftTime = 0\n",
    "    else:\n",
    "        leftTime = group[group.leftRight == 'left']['totalTime'].item()\n",
    "        \n",
    "    if 'right' not in group['leftRight'].values:\n",
    "        rightTime = 0\n",
    "    else:\n",
    "        rightTime = group[group.leftRight == 'right']['totalTime'].item()\n",
    "    \n",
    "    # calculate bias\n",
    "    bias = rightTime - leftTime\n",
    "    \n",
    "    return bias"
   ]
  },
  {
   "cell_type": "code",
   "execution_count": 110,
   "metadata": {},
   "outputs": [
    {
     "data": {
      "text/html": [
       "<div>\n",
       "<table border=\"1\" class=\"dataframe\">\n",
       "  <thead>\n",
       "    <tr style=\"text-align: right;\">\n",
       "      <th></th>\n",
       "      <th>subjID</th>\n",
       "      <th>trialNum</th>\n",
       "      <th>0</th>\n",
       "    </tr>\n",
       "  </thead>\n",
       "  <tbody>\n",
       "    <tr>\n",
       "      <th>0</th>\n",
       "      <td>741</td>\n",
       "      <td>35</td>\n",
       "      <td>-107.135135</td>\n",
       "    </tr>\n",
       "    <tr>\n",
       "      <th>1</th>\n",
       "      <td>1164</td>\n",
       "      <td>35</td>\n",
       "      <td>2411.957672</td>\n",
       "    </tr>\n",
       "    <tr>\n",
       "      <th>2</th>\n",
       "      <td>20649</td>\n",
       "      <td>27</td>\n",
       "      <td>-825.968586</td>\n",
       "    </tr>\n",
       "    <tr>\n",
       "      <th>3</th>\n",
       "      <td>20649</td>\n",
       "      <td>29</td>\n",
       "      <td>101.210256</td>\n",
       "    </tr>\n",
       "    <tr>\n",
       "      <th>4</th>\n",
       "      <td>27235</td>\n",
       "      <td>2</td>\n",
       "      <td>-2010.937500</td>\n",
       "    </tr>\n",
       "  </tbody>\n",
       "</table>\n",
       "</div>"
      ],
      "text/plain": [
       "   subjID  trialNum            0\n",
       "0     741        35  -107.135135\n",
       "1    1164        35  2411.957672\n",
       "2   20649        27  -825.968586\n",
       "3   20649        29   101.210256\n",
       "4   27235         2 -2010.937500"
      ]
     },
     "execution_count": 110,
     "metadata": {},
     "output_type": "execute_result"
    }
   ],
   "source": [
    "biasByTrial = df_byHalf.groupby(['subjID', 'trialNum']).apply(halfBias).reset_index()\n",
    "biasByTrial.head()"
   ]
  },
  {
   "cell_type": "code",
   "execution_count": 118,
   "metadata": {},
   "outputs": [
    {
     "data": {
      "text/html": [
       "<div>\n",
       "<table border=\"1\" class=\"dataframe\">\n",
       "  <thead>\n",
       "    <tr style=\"text-align: right;\">\n",
       "      <th></th>\n",
       "      <th>subjID</th>\n",
       "      <th>Bias</th>\n",
       "    </tr>\n",
       "  </thead>\n",
       "  <tbody>\n",
       "    <tr>\n",
       "      <th>0</th>\n",
       "      <td>741</td>\n",
       "      <td>-107.135135</td>\n",
       "    </tr>\n",
       "    <tr>\n",
       "      <th>1</th>\n",
       "      <td>1164</td>\n",
       "      <td>2411.957672</td>\n",
       "    </tr>\n",
       "    <tr>\n",
       "      <th>2</th>\n",
       "      <td>20649</td>\n",
       "      <td>-362.379165</td>\n",
       "    </tr>\n",
       "    <tr>\n",
       "      <th>3</th>\n",
       "      <td>27235</td>\n",
       "      <td>-916.200709</td>\n",
       "    </tr>\n",
       "    <tr>\n",
       "      <th>4</th>\n",
       "      <td>27537</td>\n",
       "      <td>-724.324255</td>\n",
       "    </tr>\n",
       "  </tbody>\n",
       "</table>\n",
       "</div>"
      ],
      "text/plain": [
       "   subjID         Bias\n",
       "0     741  -107.135135\n",
       "1    1164  2411.957672\n",
       "2   20649  -362.379165\n",
       "3   27235  -916.200709\n",
       "4   27537  -724.324255"
      ]
     },
     "execution_count": 118,
     "metadata": {},
     "output_type": "execute_result"
    }
   ],
   "source": [
    "# calculate within subj averages\n",
    "biasBySubj = biasByTrial.groupby('subjID', as_index=False).mean()\n",
    "\n",
    "# cleanup\n",
    "biasBySubj = biasBySubj.drop('trialNum', 1).rename(columns={0:'Bias'})\n",
    "\n",
    "biasBySubj.head()\n"
   ]
  },
  {
   "cell_type": "markdown",
   "metadata": {},
   "source": [
    "### Add gender and handedness to the dataframe"
   ]
  },
  {
   "cell_type": "code",
   "execution_count": 124,
   "metadata": {
    "collapsed": true
   },
   "outputs": [],
   "source": [
    "dem_data = pd.read_table('../../data/groupData/AbsFace Demographics_May 11, 2017_19.30.csv', sep=',')"
   ]
  },
  {
   "cell_type": "code",
   "execution_count": 125,
   "metadata": {
    "collapsed": true
   },
   "outputs": [],
   "source": [
    "dem_data = dem_data[['Q1', 'Q2', 'Q3', 'Q15']]"
   ]
  },
  {
   "cell_type": "code",
   "execution_count": 151,
   "metadata": {
    "collapsed": true
   },
   "outputs": [],
   "source": [
    "def labelGender(row):\n",
    "    \"find the gender based on subjID\"\n",
    "\n",
    "    subjID = str(row['subjID']) # get the subjID\n",
    "    \n",
    "    # grab the row with the subject's demographic data\n",
    "    subj_dem = dem_data[dem_data.Q1.str.find(subjID) == 0]\n",
    "    \n",
    "    return subj_dem.Q3.values[0]\n",
    "\n",
    "\n",
    "def labelHandedness(row):\n",
    "    \"find the handedness based on subjID\"\n",
    "    subjID = str(row['subjID']) # get the subjID\n",
    "    \n",
    "    # grab the row with the subject's demographic data\n",
    "    subj_dem = dem_data[dem_data.Q1.str.find(subjID) == 0]\n",
    "    \n",
    "    return subj_dem.Q15.values[0]"
   ]
  },
  {
   "cell_type": "code",
   "execution_count": 153,
   "metadata": {},
   "outputs": [
    {
     "data": {
      "text/html": [
       "<div>\n",
       "<table border=\"1\" class=\"dataframe\">\n",
       "  <thead>\n",
       "    <tr style=\"text-align: right;\">\n",
       "      <th></th>\n",
       "      <th>subjID</th>\n",
       "      <th>Bias</th>\n",
       "      <th>gender</th>\n",
       "      <th>handedness</th>\n",
       "    </tr>\n",
       "  </thead>\n",
       "  <tbody>\n",
       "    <tr>\n",
       "      <th>0</th>\n",
       "      <td>741</td>\n",
       "      <td>-107.135135</td>\n",
       "      <td>Male</td>\n",
       "      <td>Right-handed</td>\n",
       "    </tr>\n",
       "    <tr>\n",
       "      <th>1</th>\n",
       "      <td>1164</td>\n",
       "      <td>2411.957672</td>\n",
       "      <td>Male</td>\n",
       "      <td>Right-handed</td>\n",
       "    </tr>\n",
       "    <tr>\n",
       "      <th>2</th>\n",
       "      <td>20649</td>\n",
       "      <td>-362.379165</td>\n",
       "      <td>Female</td>\n",
       "      <td>Left-handed</td>\n",
       "    </tr>\n",
       "    <tr>\n",
       "      <th>3</th>\n",
       "      <td>27235</td>\n",
       "      <td>-916.200709</td>\n",
       "      <td>Female</td>\n",
       "      <td>Right-handed</td>\n",
       "    </tr>\n",
       "    <tr>\n",
       "      <th>4</th>\n",
       "      <td>27537</td>\n",
       "      <td>-724.324255</td>\n",
       "      <td>Female</td>\n",
       "      <td>Right-handed</td>\n",
       "    </tr>\n",
       "    <tr>\n",
       "      <th>5</th>\n",
       "      <td>29147</td>\n",
       "      <td>-1959.198939</td>\n",
       "      <td>Female</td>\n",
       "      <td>Right-handed</td>\n",
       "    </tr>\n",
       "    <tr>\n",
       "      <th>6</th>\n",
       "      <td>31758</td>\n",
       "      <td>-670.570312</td>\n",
       "      <td>Male</td>\n",
       "      <td>Right-handed</td>\n",
       "    </tr>\n",
       "    <tr>\n",
       "      <th>7</th>\n",
       "      <td>35414</td>\n",
       "      <td>1192.472626</td>\n",
       "      <td>Female</td>\n",
       "      <td>Left-handed</td>\n",
       "    </tr>\n",
       "    <tr>\n",
       "      <th>8</th>\n",
       "      <td>36251</td>\n",
       "      <td>-1444.646275</td>\n",
       "      <td>Male</td>\n",
       "      <td>Right-handed</td>\n",
       "    </tr>\n",
       "    <tr>\n",
       "      <th>9</th>\n",
       "      <td>38058</td>\n",
       "      <td>695.956757</td>\n",
       "      <td>Male</td>\n",
       "      <td>Right-handed</td>\n",
       "    </tr>\n",
       "  </tbody>\n",
       "</table>\n",
       "</div>"
      ],
      "text/plain": [
       "   subjID         Bias  gender    handedness\n",
       "0     741  -107.135135    Male  Right-handed\n",
       "1    1164  2411.957672    Male  Right-handed\n",
       "2   20649  -362.379165  Female   Left-handed\n",
       "3   27235  -916.200709  Female  Right-handed\n",
       "4   27537  -724.324255  Female  Right-handed\n",
       "5   29147 -1959.198939  Female  Right-handed\n",
       "6   31758  -670.570312    Male  Right-handed\n",
       "7   35414  1192.472626  Female   Left-handed\n",
       "8   36251 -1444.646275    Male  Right-handed\n",
       "9   38058   695.956757    Male  Right-handed"
      ]
     },
     "execution_count": 153,
     "metadata": {},
     "output_type": "execute_result"
    }
   ],
   "source": [
    "biasBySubj['gender'] = biasBySubj.apply(labelGender, axis=1)\n",
    "biasBySubj['handedness'] = biasBySubj.apply(labelHandedness, axis=1)\n",
    "\n",
    "biasBySubj.head(10)"
   ]
  },
  {
   "cell_type": "code",
   "execution_count": 154,
   "metadata": {
    "collapsed": true
   },
   "outputs": [],
   "source": [
    "biasBySubj.to_csv('leftVsRightBias_bySubj.tsv', sep='\\t', index=False)"
   ]
  },
  {
   "cell_type": "markdown",
   "metadata": {},
   "source": [
    "### Load data if the above steps are already done"
   ]
  },
  {
   "cell_type": "code",
   "execution_count": 155,
   "metadata": {},
   "outputs": [],
   "source": [
    "biasBySubj = pd.read_table('leftVsRightBias_bySubj.tsv', sep='\\t')"
   ]
  },
  {
   "cell_type": "code",
   "execution_count": 161,
   "metadata": {},
   "outputs": [],
   "source": [
    "biasBySubj = biasBySubj[(biasBySubj.gender == 'Male') | (biasBySubj.gender == 'Female')]"
   ]
  },
  {
   "cell_type": "code",
   "execution_count": 173,
   "metadata": {},
   "outputs": [
    {
     "data": {
      "text/html": [
       "<div>\n",
       "<table border=\"1\" class=\"dataframe\">\n",
       "  <thead>\n",
       "    <tr style=\"text-align: right;\">\n",
       "      <th></th>\n",
       "      <th>subjID</th>\n",
       "      <th>Bias</th>\n",
       "      <th>gender</th>\n",
       "      <th>handedness</th>\n",
       "    </tr>\n",
       "  </thead>\n",
       "  <tbody>\n",
       "    <tr>\n",
       "      <th>0</th>\n",
       "      <td>741</td>\n",
       "      <td>-107.135135</td>\n",
       "      <td>Male</td>\n",
       "      <td>Right-handed</td>\n",
       "    </tr>\n",
       "    <tr>\n",
       "      <th>1</th>\n",
       "      <td>1164</td>\n",
       "      <td>2411.957672</td>\n",
       "      <td>Male</td>\n",
       "      <td>Right-handed</td>\n",
       "    </tr>\n",
       "    <tr>\n",
       "      <th>2</th>\n",
       "      <td>20649</td>\n",
       "      <td>-362.379165</td>\n",
       "      <td>Female</td>\n",
       "      <td>Left-handed</td>\n",
       "    </tr>\n",
       "    <tr>\n",
       "      <th>3</th>\n",
       "      <td>27235</td>\n",
       "      <td>-916.200709</td>\n",
       "      <td>Female</td>\n",
       "      <td>Right-handed</td>\n",
       "    </tr>\n",
       "    <tr>\n",
       "      <th>4</th>\n",
       "      <td>27537</td>\n",
       "      <td>-724.324255</td>\n",
       "      <td>Female</td>\n",
       "      <td>Right-handed</td>\n",
       "    </tr>\n",
       "  </tbody>\n",
       "</table>\n",
       "</div>"
      ],
      "text/plain": [
       "   subjID         Bias  gender    handedness\n",
       "0     741  -107.135135    Male  Right-handed\n",
       "1    1164  2411.957672    Male  Right-handed\n",
       "2   20649  -362.379165  Female   Left-handed\n",
       "3   27235  -916.200709  Female  Right-handed\n",
       "4   27537  -724.324255  Female  Right-handed"
      ]
     },
     "execution_count": 173,
     "metadata": {},
     "output_type": "execute_result"
    }
   ],
   "source": [
    "biasBySubj.head()"
   ]
  },
  {
   "cell_type": "markdown",
   "metadata": {},
   "source": [
    "## Plotting and stats"
   ]
  },
  {
   "cell_type": "code",
   "execution_count": 117,
   "metadata": {
    "collapsed": true
   },
   "outputs": [],
   "source": [
    "sns.set_style('whitegrid')\n",
    "matplotlib.rc('ytick', labelsize=15)\n",
    "matplotlib.rc('xtick', labelsize=15)"
   ]
  },
  {
   "cell_type": "code",
   "execution_count": 167,
   "metadata": {},
   "outputs": [
    {
     "data": {
      "text/plain": [
       "<matplotlib.lines.Line2D at 0x110d70588>"
      ]
     },
     "execution_count": 167,
     "metadata": {},
     "output_type": "execute_result"
    },
    {
     "data": {
      "image/png": "[encoded data removed]",
      "text/plain": [
       "<matplotlib.figure.Figure at 0x1109845f8>"
      ]
     },
     "metadata": {},
     "output_type": "display_data"
    }
   ],
   "source": [
    "# overall\n",
    "# plot bias\n",
    "fig = plt.figure(figsize=(12,6))\n",
    "\n",
    "sns.violinplot(x='Bias', data=biasBySubj,\n",
    "               inner='quartile', palette='Set2')\n",
    "sns.despine(offset=15)\n",
    "\n",
    "plt.gca().set_xlim(-5000, 5000)\n",
    "\n",
    "plt.axvline(x=0, lw=1, c='red')"
   ]
  },
  {
   "cell_type": "code",
   "execution_count": 169,
   "metadata": {},
   "outputs": [],
   "source": [
    "import scipy.stats as stats"
   ]
  },
  {
   "cell_type": "code",
   "execution_count": 172,
   "metadata": {},
   "outputs": [
    {
     "data": {
      "text/plain": [
       "Ttest_1sampResult(statistic=-1.5954843689690068, pvalue=0.1140712212610818)"
      ]
     },
     "execution_count": 172,
     "metadata": {},
     "output_type": "execute_result"
    }
   ],
   "source": [
    "stats.ttest_1samp(biasBySubj.Bias, 0)"
   ]
  },
  {
   "cell_type": "code",
   "execution_count": 174,
   "metadata": {},
   "outputs": [
    {
     "data": {
      "text/plain": [
       "<matplotlib.lines.Line2D at 0x110d6b320>"
      ]
     },
     "execution_count": 174,
     "metadata": {},
     "output_type": "execute_result"
    },
    {
     "data": {
      "image/png": "[encoded data removed]",
      "text/plain": [
       "<matplotlib.figure.Figure at 0x110d702e8>"
      ]
     },
     "metadata": {},
     "output_type": "display_data"
    }
   ],
   "source": [
    "# plot bias\n",
    "fig = plt.figure(figsize=(12,6))\n",
    "\n",
    "sns.violinplot(x='Bias', y='gender', data=biasBySubj,\n",
    "               inner='quartile', palette='Paired')\n",
    "sns.despine(offset=15)\n",
    "\n",
    "plt.gca().set_xlim(-5000, 5000)\n",
    "\n",
    "plt.axvline(x=0, lw=1, c='red')"
   ]
  },
  {
   "cell_type": "code",
   "execution_count": 176,
   "metadata": {},
   "outputs": [
    {
     "data": {
      "text/plain": [
       "Ttest_indResult(statistic=0.52383299806127093, pvalue=0.60168229908258941)"
      ]
     },
     "execution_count": 176,
     "metadata": {},
     "output_type": "execute_result"
    }
   ],
   "source": [
    "m_bias = biasBySubj[biasBySubj.gender == 'Male']['Bias']\n",
    "f_bias = biasBySubj[biasBySubj.gender == 'Female']['Bias']\n",
    "\n",
    "stats.ttest_ind(m_bias, f_bias)"
   ]
  }
 ],
 "metadata": {
  "kernelspec": {
   "display_name": "Python 3",
   "language": "python",
   "name": "python3"
  },
  "language_info": {
   "codemirror_mode": {
    "name": "ipython",
    "version": 3
   },
   "file_extension": ".py",
   "mimetype": "text/x-python",
   "name": "python",
   "nbconvert_exporter": "python",
   "pygments_lexer": "ipython3",
   "version": "3.6.0"
  }
 },
 "nbformat": 4,
 "nbformat_minor": 2
}
