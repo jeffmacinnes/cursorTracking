{
 "cells": [
  {
   "cell_type": "code",
   "execution_count": 1,
   "metadata": {
    "collapsed": true
   },
   "outputs": [],
   "source": [
    "import os\n",
    "from os.path import join\n",
    "import sys\n",
    "import numpy as np \n",
    "import pandas as pd\n",
    "import seaborn as sns"
   ]
  },
  {
   "cell_type": "code",
   "execution_count": 2,
   "metadata": {},
   "outputs": [
    {
     "name": "stdout",
     "output_type": "stream",
     "text": [
      "Populating the interactive namespace from numpy and matplotlib\n"
     ]
    }
   ],
   "source": [
    "%pylab inline"
   ]
  },
  {
   "cell_type": "markdown",
   "metadata": {},
   "source": [
    "# Overall l/r bias\n",
    "Test whether there is an overall left vs right bias in the cursor behavior. This is a control test for the left/right eye bias that we see in face stimuli\n",
    "\n",
    "**Note**: \"left\" is relative to the viewer"
   ]
  },
  {
   "cell_type": "code",
   "execution_count": 3,
   "metadata": {
    "collapsed": true
   },
   "outputs": [],
   "source": [
    "# load the combined cursorTracking data for all subjs\n",
    "df = pd.read_table('../../data/groupData/allSubjsRaw.tsv', sep='\\t')"
   ]
  },
  {
   "cell_type": "code",
   "execution_count": 4,
   "metadata": {},
   "outputs": [
    {
     "data": {
      "text/plain": [
       "(608261, 7)"
      ]
     },
     "execution_count": 4,
     "metadata": {},
     "output_type": "execute_result"
    }
   ],
   "source": [
    "df.shape"
   ]
  },
  {
   "cell_type": "markdown",
   "metadata": {},
   "source": [
    "### Select the stimuli to include in the analysis\n",
    "Choose the non-face and non-face-like stimuli"
   ]
  },
  {
   "cell_type": "code",
   "execution_count": 5,
   "metadata": {
    "collapsed": true
   },
   "outputs": [],
   "source": [
    "# function to label the image categories\n",
    "def labelStimCategory(row):\n",
    "    if \"_images707/simpleFood\" in row['stim']:\n",
    "        label = 'portrait'\n",
    "    elif \"_images707/art/stillLife_\" in row['stim']:\n",
    "        label = 'stillLife'\n",
    "    else:\n",
    "        label = \"Na\"\n",
    "    \n",
    "    return label"
   ]
  },
  {
   "cell_type": "code",
   "execution_count": 6,
   "metadata": {
    "collapsed": true
   },
   "outputs": [],
   "source": [
    "# add image category label to dataframe\n",
    "df['stimCategory'] = df.apply(labelStimCategory, axis=1)"
   ]
  },
  {
   "cell_type": "code",
   "execution_count": 7,
   "metadata": {},
   "outputs": [
    {
     "data": {
      "text/plain": [
       "array(['Na', 'stillLife', 'portrait'], dtype=object)"
      ]
     },
     "execution_count": 7,
     "metadata": {},
     "output_type": "execute_result"
    }
   ],
   "source": [
    "# make sure this worked\n",
    "df['stimCategory'].unique()"
   ]
  },
  {
   "cell_type": "code",
   "execution_count": 8,
   "metadata": {},
   "outputs": [
    {
     "data": {
      "text/plain": [
       "(74169, 8)"
      ]
     },
     "execution_count": 8,
     "metadata": {},
     "output_type": "execute_result"
    }
   ],
   "source": [
    "# drop the NAs\n",
    "df = df[df['stimCategory'] != 'Na']\n",
    "df.shape"
   ]
  },
  {
   "cell_type": "code",
   "execution_count": 9,
   "metadata": {
    "collapsed": true
   },
   "outputs": [],
   "source": [
    "# write this out as a txt file so you don't have to load the big file again\n",
    "df.to_csv('overallBias_allSubjsRaw.tsv', sep='\\t', index=False)"
   ]
  },
  {
   "cell_type": "code",
   "execution_count": 10,
   "metadata": {},
   "outputs": [
    {
     "data": {
      "text/html": [
       "<div>\n",
       "<table border=\"1\" class=\"dataframe\">\n",
       "  <thead>\n",
       "    <tr style=\"text-align: right;\">\n",
       "      <th></th>\n",
       "      <th>ts</th>\n",
       "      <th>x</th>\n",
       "      <th>y</th>\n",
       "      <th>subjID</th>\n",
       "      <th>stim</th>\n",
       "      <th>trialNum</th>\n",
       "      <th>AOI</th>\n",
       "      <th>stimCategory</th>\n",
       "    </tr>\n",
       "  </thead>\n",
       "  <tbody>\n",
       "    <tr>\n",
       "      <th>293</th>\n",
       "      <td>51</td>\n",
       "      <td>88.0</td>\n",
       "      <td>157.5</td>\n",
       "      <td>27235</td>\n",
       "      <td>_images707/art/stillLife_16.jpg</td>\n",
       "      <td>2</td>\n",
       "      <td>NaN</td>\n",
       "      <td>stillLife</td>\n",
       "    </tr>\n",
       "    <tr>\n",
       "      <th>294</th>\n",
       "      <td>68</td>\n",
       "      <td>88.0</td>\n",
       "      <td>157.5</td>\n",
       "      <td>27235</td>\n",
       "      <td>_images707/art/stillLife_16.jpg</td>\n",
       "      <td>2</td>\n",
       "      <td>NaN</td>\n",
       "      <td>stillLife</td>\n",
       "    </tr>\n",
       "    <tr>\n",
       "      <th>295</th>\n",
       "      <td>85</td>\n",
       "      <td>88.0</td>\n",
       "      <td>157.5</td>\n",
       "      <td>27235</td>\n",
       "      <td>_images707/art/stillLife_16.jpg</td>\n",
       "      <td>2</td>\n",
       "      <td>NaN</td>\n",
       "      <td>stillLife</td>\n",
       "    </tr>\n",
       "    <tr>\n",
       "      <th>296</th>\n",
       "      <td>102</td>\n",
       "      <td>88.0</td>\n",
       "      <td>157.5</td>\n",
       "      <td>27235</td>\n",
       "      <td>_images707/art/stillLife_16.jpg</td>\n",
       "      <td>2</td>\n",
       "      <td>NaN</td>\n",
       "      <td>stillLife</td>\n",
       "    </tr>\n",
       "    <tr>\n",
       "      <th>297</th>\n",
       "      <td>119</td>\n",
       "      <td>88.0</td>\n",
       "      <td>157.5</td>\n",
       "      <td>27235</td>\n",
       "      <td>_images707/art/stillLife_16.jpg</td>\n",
       "      <td>2</td>\n",
       "      <td>NaN</td>\n",
       "      <td>stillLife</td>\n",
       "    </tr>\n",
       "  </tbody>\n",
       "</table>\n",
       "</div>"
      ],
      "text/plain": [
       "      ts     x      y  subjID                             stim  trialNum  AOI  \\\n",
       "293   51  88.0  157.5   27235  _images707/art/stillLife_16.jpg         2  NaN   \n",
       "294   68  88.0  157.5   27235  _images707/art/stillLife_16.jpg         2  NaN   \n",
       "295   85  88.0  157.5   27235  _images707/art/stillLife_16.jpg         2  NaN   \n",
       "296  102  88.0  157.5   27235  _images707/art/stillLife_16.jpg         2  NaN   \n",
       "297  119  88.0  157.5   27235  _images707/art/stillLife_16.jpg         2  NaN   \n",
       "\n",
       "    stimCategory  \n",
       "293    stillLife  \n",
       "294    stillLife  \n",
       "295    stillLife  \n",
       "296    stillLife  \n",
       "297    stillLife  "
      ]
     },
     "execution_count": 10,
     "metadata": {},
     "output_type": "execute_result"
    }
   ],
   "source": [
    "df.head()"
   ]
  },
  {
   "cell_type": "markdown",
   "metadata": {},
   "source": [
    "---\n",
    "\n",
    "### Label each datapoint according to which half of the image it lies on\n",
    "In order to know what half of the image each datapoint falls on, have to know the dimensions of each stim (all stims are 707x565, but they are either landscape or portrait oriented). Step one is to make a table of image dimensions for each stim"
   ]
  },
  {
   "cell_type": "code",
   "execution_count": 12,
   "metadata": {},
   "outputs": [
    {
     "data": {
      "text/plain": [
       "array(['_images707/art/stillLife_10.jpg',\n",
       "       '_images707/art/stillLife_11.jpg',\n",
       "       '_images707/art/stillLife_15.jpg',\n",
       "       '_images707/art/stillLife_16.jpg', '_images707/art/stillLife_3.jpg',\n",
       "       '_images707/simpleFood/simpleFood_1.jpg',\n",
       "       '_images707/simpleFood/simpleFood_10.jpg',\n",
       "       '_images707/simpleFood/simpleFood_11.jpg',\n",
       "       '_images707/simpleFood/simpleFood_12.jpg',\n",
       "       '_images707/simpleFood/simpleFood_2.jpg',\n",
       "       '_images707/simpleFood/simpleFood_3.jpg',\n",
       "       '_images707/simpleFood/simpleFood_4.jpg',\n",
       "       '_images707/simpleFood/simpleFood_5.jpg',\n",
       "       '_images707/simpleFood/simpleFood_6.jpg',\n",
       "       '_images707/simpleFood/simpleFood_7.jpg',\n",
       "       '_images707/simpleFood/simpleFood_8.jpg',\n",
       "       '_images707/simpleFood/simpleFood_9.jpg'], dtype=object)"
      ]
     },
     "execution_count": 12,
     "metadata": {},
     "output_type": "execute_result"
    }
   ],
   "source": [
    "stims = np.unique(df.stim)\n",
    "stims"
   ]
  },
  {
   "cell_type": "code",
   "execution_count": 13,
   "metadata": {
    "collapsed": true
   },
   "outputs": [],
   "source": [
    "import matplotlib.image as mpimg"
   ]
  },
  {
   "cell_type": "code",
   "execution_count": 20,
   "metadata": {},
   "outputs": [
    {
     "data": {
      "text/html": [
       "<div>\n",
       "<table border=\"1\" class=\"dataframe\">\n",
       "  <thead>\n",
       "    <tr style=\"text-align: right;\">\n",
       "      <th></th>\n",
       "      <th>heights</th>\n",
       "      <th>stim</th>\n",
       "      <th>widths</th>\n",
       "    </tr>\n",
       "  </thead>\n",
       "  <tbody>\n",
       "    <tr>\n",
       "      <th>0</th>\n",
       "      <td>566</td>\n",
       "      <td>_images707/art/stillLife_10.jpg</td>\n",
       "      <td>707</td>\n",
       "    </tr>\n",
       "    <tr>\n",
       "      <th>1</th>\n",
       "      <td>566</td>\n",
       "      <td>_images707/art/stillLife_11.jpg</td>\n",
       "      <td>707</td>\n",
       "    </tr>\n",
       "    <tr>\n",
       "      <th>2</th>\n",
       "      <td>707</td>\n",
       "      <td>_images707/art/stillLife_15.jpg</td>\n",
       "      <td>566</td>\n",
       "    </tr>\n",
       "    <tr>\n",
       "      <th>3</th>\n",
       "      <td>566</td>\n",
       "      <td>_images707/art/stillLife_16.jpg</td>\n",
       "      <td>707</td>\n",
       "    </tr>\n",
       "    <tr>\n",
       "      <th>4</th>\n",
       "      <td>566</td>\n",
       "      <td>_images707/art/stillLife_3.jpg</td>\n",
       "      <td>707</td>\n",
       "    </tr>\n",
       "    <tr>\n",
       "      <th>5</th>\n",
       "      <td>707</td>\n",
       "      <td>_images707/simpleFood/simpleFood_1.jpg</td>\n",
       "      <td>566</td>\n",
       "    </tr>\n",
       "    <tr>\n",
       "      <th>6</th>\n",
       "      <td>707</td>\n",
       "      <td>_images707/simpleFood/simpleFood_10.jpg</td>\n",
       "      <td>567</td>\n",
       "    </tr>\n",
       "    <tr>\n",
       "      <th>7</th>\n",
       "      <td>707</td>\n",
       "      <td>_images707/simpleFood/simpleFood_11.jpg</td>\n",
       "      <td>566</td>\n",
       "    </tr>\n",
       "    <tr>\n",
       "      <th>8</th>\n",
       "      <td>707</td>\n",
       "      <td>_images707/simpleFood/simpleFood_12.jpg</td>\n",
       "      <td>566</td>\n",
       "    </tr>\n",
       "    <tr>\n",
       "      <th>9</th>\n",
       "      <td>707</td>\n",
       "      <td>_images707/simpleFood/simpleFood_2.jpg</td>\n",
       "      <td>566</td>\n",
       "    </tr>\n",
       "    <tr>\n",
       "      <th>10</th>\n",
       "      <td>707</td>\n",
       "      <td>_images707/simpleFood/simpleFood_3.jpg</td>\n",
       "      <td>665</td>\n",
       "    </tr>\n",
       "    <tr>\n",
       "      <th>11</th>\n",
       "      <td>707</td>\n",
       "      <td>_images707/simpleFood/simpleFood_4.jpg</td>\n",
       "      <td>566</td>\n",
       "    </tr>\n",
       "    <tr>\n",
       "      <th>12</th>\n",
       "      <td>707</td>\n",
       "      <td>_images707/simpleFood/simpleFood_5.jpg</td>\n",
       "      <td>566</td>\n",
       "    </tr>\n",
       "    <tr>\n",
       "      <th>13</th>\n",
       "      <td>707</td>\n",
       "      <td>_images707/simpleFood/simpleFood_6.jpg</td>\n",
       "      <td>566</td>\n",
       "    </tr>\n",
       "    <tr>\n",
       "      <th>14</th>\n",
       "      <td>707</td>\n",
       "      <td>_images707/simpleFood/simpleFood_7.jpg</td>\n",
       "      <td>566</td>\n",
       "    </tr>\n",
       "    <tr>\n",
       "      <th>15</th>\n",
       "      <td>707</td>\n",
       "      <td>_images707/simpleFood/simpleFood_8.jpg</td>\n",
       "      <td>566</td>\n",
       "    </tr>\n",
       "    <tr>\n",
       "      <th>16</th>\n",
       "      <td>707</td>\n",
       "      <td>_images707/simpleFood/simpleFood_9.jpg</td>\n",
       "      <td>565</td>\n",
       "    </tr>\n",
       "  </tbody>\n",
       "</table>\n",
       "</div>"
      ],
      "text/plain": [
       "    heights                                     stim  widths\n",
       "0       566          _images707/art/stillLife_10.jpg     707\n",
       "1       566          _images707/art/stillLife_11.jpg     707\n",
       "2       707          _images707/art/stillLife_15.jpg     566\n",
       "3       566          _images707/art/stillLife_16.jpg     707\n",
       "4       566           _images707/art/stillLife_3.jpg     707\n",
       "5       707   _images707/simpleFood/simpleFood_1.jpg     566\n",
       "6       707  _images707/simpleFood/simpleFood_10.jpg     567\n",
       "7       707  _images707/simpleFood/simpleFood_11.jpg     566\n",
       "8       707  _images707/simpleFood/simpleFood_12.jpg     566\n",
       "9       707   _images707/simpleFood/simpleFood_2.jpg     566\n",
       "10      707   _images707/simpleFood/simpleFood_3.jpg     665\n",
       "11      707   _images707/simpleFood/simpleFood_4.jpg     566\n",
       "12      707   _images707/simpleFood/simpleFood_5.jpg     566\n",
       "13      707   _images707/simpleFood/simpleFood_6.jpg     566\n",
       "14      707   _images707/simpleFood/simpleFood_7.jpg     566\n",
       "15      707   _images707/simpleFood/simpleFood_8.jpg     566\n",
       "16      707   _images707/simpleFood/simpleFood_9.jpg     565"
      ]
     },
     "execution_count": 20,
     "metadata": {},
     "output_type": "execute_result"
    }
   ],
   "source": [
    "stimDirRoot = '../../stimuli/'\n",
    "widths = np.array([], dtype=int32)\n",
    "heights = np.array([], dtype=int32)\n",
    "for s in stims:\n",
    "    # open image\n",
    "    thisStim = mpimg.imread(join(stimDirRoot, s))\n",
    "    \n",
    "    heights = np.append(heights, int(thisStim.shape[0]))\n",
    "    widths = np.append(widths, int(thisStim.shape[1]))\n",
    "\n",
    "stimSize = pd.DataFrame({'stim':stims, 'widths':widths, 'heights':heights})\n",
    "stimSize"
   ]
  }
 ],
 "metadata": {
  "kernelspec": {
   "display_name": "Python 3",
   "language": "python",
   "name": "python3"
  },
  "language_info": {
   "codemirror_mode": {
    "name": "ipython",
    "version": 3
   },
   "file_extension": ".py",
   "mimetype": "text/x-python",
   "name": "python",
   "nbconvert_exporter": "python",
   "pygments_lexer": "ipython3",
   "version": "3.6.0"
  }
 },
 "nbformat": 4,
 "nbformat_minor": 2
}
